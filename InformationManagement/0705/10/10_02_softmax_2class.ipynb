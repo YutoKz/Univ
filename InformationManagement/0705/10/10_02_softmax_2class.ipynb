{
  "nbformat": 4,
  "nbformat_minor": 0,
  "metadata": {
    "colab": {
      "name": "10_02_softmax_2class.ipynb",
      "provenance": [],
      "collapsed_sections": []
    },
    "kernelspec": {
      "name": "python3",
      "display_name": "Python 3"
    },
    "language_info": {
      "name": "python"
    }
  },
  "cells": [
    {
      "cell_type": "markdown",
      "metadata": {
        "id": "gbqkmaY9RA-z"
      },
      "source": [
        "# 第10回 その2: ソフトマックス関数を用いた回帰での2クラス分類\n",
        "10_01_softmax_3class.ipynbではロジスティック回帰をソフトマックス関数を用いて改造することで他クラス分類可能にしました。この方式を使って2クラス分類した場合にどうなるか動作を確認してみます。  "
      ]
    },
    {
      "cell_type": "markdown",
      "metadata": {
        "id": "F1DmeW6oRs8r"
      },
      "source": [
        "## ステップ0: Google Driveのマウントと作業フォルダへの移動  \n",
        "Google Drive に配置したデータを読み込むための準備です。  \n",
        "詳細については第二回の 02_01_graph.ipynb を参照してください。  \n",
        "\n",
        "ここでは\"マイドライブ/情報管理/10\"を作業フォルダとします。 "
      ]
    },
    {
      "cell_type": "code",
      "metadata": {
        "id": "E4b4cfHPRXML"
      },
      "source": [
        "from google.colab import drive\n",
        "drive.mount('/content/drive')\n",
        "# フォルダの移動には\"%cd\"を使用します。\n",
        "# 作業フォルダへ移動\n",
        "%cd /content/drive/'My Drive'/情報管理/10/\n",
        "# 現在のフォルダの中身を表示\n",
        "%ls"
      ],
      "execution_count": null,
      "outputs": []
    },
    {
      "cell_type": "markdown",
      "metadata": {
        "id": "wF6-hyJ2Sdau"
      },
      "source": [
        "`2class_data.csv`というデータが表示されていることを確認してください。"
      ]
    },
    {
      "cell_type": "markdown",
      "source": [
        "## ステップ1: データの読み込みと標準化\n",
        "まずは必要ライブラリをインポートします。"
      ],
      "metadata": {
        "id": "_zJI0HyoWGGc"
      }
    },
    {
      "cell_type": "code",
      "source": [
        "import pandas as pd\n",
        "import numpy as np\n",
        "import matplotlib.pyplot as plt"
      ],
      "metadata": {
        "id": "SYfdOuD_WNd_"
      },
      "execution_count": null,
      "outputs": []
    },
    {
      "cell_type": "markdown",
      "source": [
        "`2class_data.csv` を読み込みます。  \n",
        "このデータは第8回でも使用した2クラスデータです。"
      ],
      "metadata": {
        "id": "SXb_O89VWQQY"
      }
    },
    {
      "cell_type": "code",
      "metadata": {
        "id": "UkibCXvsRv-8"
      },
      "source": [
        "# pandas の関数 read_csv を用いた csvファイル読み込み\n",
        "csv_data = pd.read_csv('2class_data.csv', encoding='SHIFT-JIS')\n",
        "\n",
        "# データの前半部(.headで取得できる)のみ表示\n",
        "display(csv_data.head())\n",
        "\n",
        "# x1とx2のデータを抽出し，numpy用データ(ndarray型) に変換する。\n",
        "X = csv_data.loc[:, ['x1','x2']].to_numpy()\n",
        "\n",
        "# クラス番号を抽出し，numpy用データ(ndarray型) に変換する。\n",
        "Y = csv_data.loc[:,'class'].to_numpy()\n",
        "\n",
        "# データのサンプル数と次元数を得る。\n",
        "(num_samples, num_dimensions) = np.shape(X)\n",
        "print('Nunber of samples: ' + str(num_samples))\n",
        "print('Number of dimensions: ' + str(num_dimensions))\n",
        "\n",
        "# クラス数を得る。\n",
        "num_classes = int(np.max(Y) + 1)\n",
        "print('Number of classes: ' + str(num_classes))"
      ],
      "execution_count": null,
      "outputs": []
    },
    {
      "cell_type": "markdown",
      "source": [
        "標準化を行い，データをプロットします。"
      ],
      "metadata": {
        "id": "A2xHCAEBWdLt"
      }
    },
    {
      "cell_type": "code",
      "source": [
        "# データを標準化する。\n",
        "X = (X - np.mean(X, axis=0)) / np.std(X, axis=0)\n",
        "\n",
        "# 以下は color_list = ['b', 'r'] とほぼ同じ。\n",
        "# 光の三原色(赤,緑,青)の値それぞれを0～1の範囲で定義している。\n",
        "color_list = [(0, 0, 1), (1, 0, 0)]\n",
        "\n",
        "# データをプロット\n",
        "plt.figure(figsize=(7,7))\n",
        "for k in range(num_classes):\n",
        "  # n番目のクラスに属している(Y==c)データをプロット\n",
        "  plt.scatter(X[Y==k,0], X[Y==k,1], color=color_list[k], label='class'+str(k))\n",
        "plt.xlabel('x1')\n",
        "plt.ylabel('x2')\n",
        "plt.legend()\n",
        "plt.xlim([-2.5, 2.5])\n",
        "plt.ylim([-2.5, 2.5])\n",
        "plt.show()"
      ],
      "metadata": {
        "id": "2l_DJKdxWf0o"
      },
      "execution_count": null,
      "outputs": []
    },
    {
      "cell_type": "markdown",
      "source": [
        "## ステップ2: ソフトマックス関数を用いた多クラス識別の実行  \n",
        "`09_01_softmax_3class.ipynb`で定義した，ソフトマックス関数や多クラス識別関数，勾配計算の関数を以下に定義しておきます。  "
      ],
      "metadata": {
        "id": "kxl2IKgJWiM-"
      }
    },
    {
      "cell_type": "code",
      "metadata": {
        "id": "PkdO-S8SuDPX"
      },
      "source": [
        "def softmax(z):\n",
        "  '''\n",
        "      ソフトマックス関数\n",
        "      z: 要素数=クラス数のベクトル\n",
        "      y_hat: クラス毎の確率。要素数=クラス数のベクトル\n",
        "  '''\n",
        "  return (np.exp(z) / np.sum(np.exp(z)))\n",
        "\n",
        "def multiclass_regression(x, W, b):\n",
        "  '''\n",
        "      1サンプルデータに対してクラス分類を行う\n",
        "      x: 1サンプルデータ。要素数=次元数のベクトル\n",
        "      W: クラス毎に定義されている，各次元に対する重み。サイズ=[クラス数 x 次元数]の行列。\n",
        "         行列Wのk行目のベクトルwkにはk番目のクラスの確率を計算するための重みが格納される。\n",
        "      b: クラス毎に定義されている，切片（バイアス）成分。サイズ=クラス数のベクトル。\n",
        "      y_hat: ソフトマックス回帰の出力。要素数=クラス数のベクトル\n",
        "  '''\n",
        "\n",
        "  # 行列Wとベクトルxの内積はベクトル\n",
        "  # z1 = w11*x1 + w12*x2 + ... + b1\n",
        "  # z2 = w21*x1 + w22*x2 + ... + b2\n",
        "  # ...\n",
        "  z = np.dot(W, x) + b\n",
        "\n",
        "  # ソフトマックス関数に通す\n",
        "  # zおよびy_hatはベクトル\n",
        "  y_hat = softmax(z)\n",
        "\n",
        "  return y_hat\n"
      ],
      "execution_count": null,
      "outputs": []
    },
    {
      "cell_type": "code",
      "source": [
        "def cross_entropy(y_hat, y):\n",
        "  '''\n",
        "      クロスエントロピー損失を計算する。\n",
        "      y_hat: マルチクラス回帰によって推定された y\n",
        "      y: 正解のクラス\n",
        "  '''\n",
        "  # 正解クラスの確率を1，それ以外のクラスの確率を0とするベクトル（one-hotベクトル）を作成する。\n",
        "  y_onehot = np.zeros(num_classes)\n",
        "  y_onehot[y] = 1.0\n",
        "\n",
        "  ce = -1.0 * np.sum(y_onehot*np.log(y_hat))\n",
        "\n",
        "  return ce\n",
        "\n",
        "def calc_gradient(y_hat, y, x):\n",
        "  '''\n",
        "      勾配を計算する\n",
        "      y_hat: マルチクラス回帰によって推定された y。サイズ=Kのベクトル\n",
        "      y: 正解のクラス。スカラ\n",
        "      x: データ。サイズ=次元数のベクトル\n",
        "      grad_W: Wの勾配：wの数だけ存在。つまりサイズ=(KxD)の行列\n",
        "      grad_b: bの勾配：bの数だけ存在。つまりサイズ=Kのベクトル\n",
        "      ただし，D:次元数，K:クラス数である。\n",
        "  '''\n",
        "  # 次元数D, クラス数Kを得る。\n",
        "  D = np.size(x)\n",
        "  K = np.size(y_hat)\n",
        "\n",
        "  # 正解クラスの確率を1，それ以外のクラスの確率を0とするベクトル（one-hotベクトル）を作成する。\n",
        "  y_onehot = np.zeros(K)\n",
        "  y_onehot[y] = 1.0\n",
        "\n",
        "  # 勾配を計算\n",
        "  grad_W = np.zeros([K, D])\n",
        "  grad_b = np.zeros(K)\n",
        "  for k in range(K):\n",
        "    grad_W[k,:] = (y_hat[k] - y_onehot[k]) * x\n",
        "    grad_b[k] = y_hat[k] - y_onehot[k]\n",
        "\n",
        "  return grad_W, grad_b"
      ],
      "metadata": {
        "id": "_rLnh8GE2QJ9"
      },
      "execution_count": null,
      "outputs": []
    },
    {
      "cell_type": "markdown",
      "source": [
        "重み行列 $\\bf W$ と切片（バイアス）成分 $\\bf b$ の初期値を決めます。  \n",
        "ロジスティック回帰のときと同様，各線形式の切片成分 $\\bf b$ の初期値はゼロとし，重み行列 $\\bf W$ の初期値は正規分布に従う乱数で決めます。"
      ],
      "metadata": {
        "id": "0idvxBemqOeU"
      }
    },
    {
      "cell_type": "code",
      "source": [
        "np.random.seed(0)\n",
        "\n",
        "# 正規分布に従う乱数行列\n",
        "initial_W = np.random.randn(num_classes, num_dimensions)\n",
        "# ゼロベクトル\n",
        "initial_b = np.zeros(num_classes)\n",
        "\n",
        "print('initial_W = ')\n",
        "print(initial_W)\n",
        "print('initial_b = ')\n",
        "print(initial_b)"
      ],
      "metadata": {
        "id": "iON3maL-o9AV"
      },
      "execution_count": null,
      "outputs": []
    },
    {
      "cell_type": "markdown",
      "source": [
        "では`09_01_softmax_3class.ipynb`と同様に，全てのデータを用いて繰り返し更新しましょう。   \n",
        "ここでは全データサンプルに対して更新を行うひとまとまりの処理を20周（エポック）行っています。"
      ],
      "metadata": {
        "id": "TKI-bcdJXlhT"
      }
    },
    {
      "cell_type": "code",
      "source": [
        "from matplotlib import animation, rc\n",
        "from IPython.display import HTML\n",
        "\n",
        "np.random.seed(0)\n",
        "\n",
        "# 学習率\n",
        "lr = 0.2\n",
        "\n",
        "# 重みおよびバイアスの初期化\n",
        "W = initial_W.copy()\n",
        "b = initial_b.copy()\n",
        "\n",
        "# 描画\n",
        "color_list = [(0, 0, 1), (1, 0, 0)]\n",
        "fig = plt.figure(figsize=(7,7))\n",
        "# データの描画\n",
        "for k in range(num_classes):\n",
        "  plt.scatter(X[Y==k,0], X[Y==k,1], color=color_list[k], label='class'+str(k))\n",
        "images = []\n",
        "\n",
        "# 損失関数の履歴\n",
        "loss_history = np.array([])\n",
        "# 正解率の履歴\n",
        "acc_history = np.array([])\n",
        "\n",
        "for epoch in range(30):\n",
        "  \n",
        "  # データをシャッフルしなおす。\n",
        "  # (局所解に陥りにくくなるため)\n",
        "  shuffle_index = np.random.permutation(np.arange(num_samples))\n",
        "  X_tmp = X[(shuffle_index)]\n",
        "  Y_tmp = Y[(shuffle_index)]\n",
        "  \n",
        "  loss = 0\n",
        "  acc = 0\n",
        "  for n in range(num_samples):\n",
        "    x = X_tmp[n,:]\n",
        "    y = Y_tmp[n]\n",
        "  \n",
        "    # 回帰関数に与える\n",
        "    y_hat = multiclass_regression(x, W, b)\n",
        "  \n",
        "    # 勾配の計算\n",
        "    grad_W, grad_b = calc_gradient(y_hat, y, x)\n",
        "\n",
        "    # 更新スピードの速い1エポックでは50サンプルごと，それ以外は200サンプル\n",
        "    # ごとにアニメーション描画する。\n",
        "    if (epoch < 2 and n % 50 == 0) or (epoch >=2 and n % 200 == 0):\n",
        "      img = []\n",
        "      x1 = np.linspace(-3, 3)\n",
        "      for k in range(num_classes):\n",
        "        x2 = -1.0 * (b[k] + W[k, 0]*x1) / W[k, 1]\n",
        "        img += plt.plot(x1, x2, c=color_list[k])\n",
        "      img.append(plt.text(-2.3, 2.3, 'epoch: '+str(epoch), size='x-large'))\n",
        "      images.append(img)\n",
        "\n",
        "    # 更新\n",
        "    W -= lr * grad_W\n",
        "    b -= lr * grad_b\n",
        "\n",
        "    # 損失関数の蓄積\n",
        "    loss += cross_entropy(y_hat, y)\n",
        "    # 正解率の蓄積\n",
        "    if np.argmax(y_hat) == y:\n",
        "      acc += 1\n",
        "  \n",
        "  loss /= num_samples\n",
        "  acc /= num_samples\n",
        "  loss_history = np.append(loss_history, loss)\n",
        "  acc_history = np.append(acc_history, acc*100)\n",
        "  print('%d-th epoch: cross entropy = %.3f, accuracy = %.3f%%' % (epoch+1, loss, acc*100))\n",
        "\n",
        "plt.legend()\n",
        "plt.xlim([-2.5, 2.5])\n",
        "plt.ylim([-2.5, 2.5])\n",
        "\n",
        "# アニメーション作成\n",
        "anim = animation.ArtistAnimation(fig, images, interval=200)\n",
        "# Google Colaboratoryの場合必要\n",
        "rc('animation', html='jshtml')\n",
        "plt.close()\n",
        "display(anim)"
      ],
      "metadata": {
        "id": "6YmZ596h0-lt"
      },
      "execution_count": null,
      "outputs": []
    },
    {
      "cell_type": "markdown",
      "source": [
        "エポック毎の損失関数（クロスエントロピー）および分類正解率をプロットします。  "
      ],
      "metadata": {
        "id": "je4-8YEccEJ4"
      }
    },
    {
      "cell_type": "code",
      "source": [
        "plt.figure(figsize=(14,5))\n",
        "plt.subplot(1,2,1)\n",
        "plt.plot(loss_history)\n",
        "plt.xlabel('epoch')\n",
        "plt.ylabel('loss (cross entropy)')\n",
        "plt.subplot(1,2,2)\n",
        "plt.plot(acc_history)\n",
        "plt.xlabel('epoch')\n",
        "plt.ylabel('accuracy [%]')\n",
        "plt.show()"
      ],
      "metadata": {
        "id": "nIjzgawo2NbZ"
      },
      "execution_count": null,
      "outputs": []
    },
    {
      "cell_type": "markdown",
      "source": [
        "（エポック毎に計算していますが）学習完了後の分類正解率を計算します。  "
      ],
      "metadata": {
        "id": "5OL88EjpdRZK"
      }
    },
    {
      "cell_type": "code",
      "source": [
        "# 正解率\n",
        "accuracy = 0\n",
        "\n",
        "for n in range(num_samples):\n",
        "  x = X[n,:]\n",
        "  y = Y[n]\n",
        "  # マルチクラス回帰関数に与える\n",
        "  y_hat = multiclass_regression(x, W, b)\n",
        "\n",
        "  if np.argmax(y_hat) == y:\n",
        "    accuracy += 1\n",
        "\n",
        "accuracy = 100.0 * accuracy / num_samples\n",
        "\n",
        "print('Accuracy = %.3f' % (accuracy))"
      ],
      "metadata": {
        "id": "8KgbvmdvcwPI"
      },
      "execution_count": null,
      "outputs": []
    },
    {
      "cell_type": "markdown",
      "source": [
        "100%の正解率が得られました。"
      ],
      "metadata": {
        "id": "RztiWfSZeRPZ"
      }
    },
    {
      "cell_type": "markdown",
      "source": [
        "最後に，クラス毎の識別境界を可視化します。  \n"
      ],
      "metadata": {
        "id": "uvpCbnN4nzwu"
      }
    },
    {
      "cell_type": "code",
      "source": [
        "# x1，x2ごとの格子点の数\n",
        "grid_size = 200\n",
        "\n",
        "# 格子点：-2.6から2.6まで200個分，等間隔に区切った数列\n",
        "grid = np.linspace(-2.6, 2.6, grid_size)\n",
        "\n",
        "# クラス識別結果を色塗りする領域：200x200の図\n",
        "# 最後の3は，色情報(RGB=赤・緑・青の3次元ごとの色の強さ)\n",
        "image = np.zeros([grid_size, grid_size, 3])\n",
        "\n",
        "color_list = [(0, 0, 1), (1, 0, 0)]\n",
        "\n",
        "for i in range(grid_size):\n",
        "  for j in range(grid_size):\n",
        "    # 格子点のデータ\n",
        "    x = np.array([grid[j], grid[i]])\n",
        "    # 格子点データを識別する\n",
        "    y_hat = multiclass_regression(x, W, b)\n",
        "    label = np.argmax(y_hat)\n",
        "    # 識別結果のクラスの色で，色を塗る\n",
        "    # (グラフは原点が左下だが，画像は左上が原点なので，上下反転させるために-iとしている)\n",
        "    image[-i, j, :] = color_list[label]\n",
        "\n",
        "plt.figure(figsize=(7,7))\n",
        "# 色塗り結果を表示\n",
        "plt.imshow(image, alpha=0.4, extent=(-2.6, 2.6, -2.6, 2.6))\n",
        "# データおよび補助線を表示\n",
        "for k in range(num_classes):\n",
        "  x2 = -1.0 * (b[k] + W[k, 0]*x1) / W[k, 1]\n",
        "  plt.plot(x1, x2, c=color_list[k])\n",
        "  plt.scatter(X[Y==k,0], X[Y==k,1], color=color_list[k], label='class'+str(k))\n",
        "plt.legend()\n",
        "plt.xlabel('x1')\n",
        "plt.ylabel('x2')\n",
        "plt.xlim([-2.5, 2.5])\n",
        "plt.ylim([-2.5, 2.5])\n",
        "plt.show()"
      ],
      "metadata": {
        "id": "1gjbinbByfQz"
      },
      "execution_count": null,
      "outputs": []
    },
    {
      "cell_type": "markdown",
      "source": [
        "赤の補助線と青の補助線の間に赤クラスと青クラスの境界線が作成されていることが確認できます。  \n",
        "\n",
        "ソフトマックス関数を使った場合でもロジスティック回帰で行ったような2クラス分類が行えることが分かりました。  \n",
        "クラス数に依らず使用できるという点では，ロジスティック回帰よりもこの方法の方が万能ということになります。  \n",
        "（ただしクラス数が2に限定した問題を解くのであれば，ロジスティック回帰の方がパラメータ数が少なくてシンプルという利点はあります。）"
      ],
      "metadata": {
        "id": "wgNY7XAUtF6Q"
      }
    },
    {
      "cell_type": "code",
      "source": [
        ""
      ],
      "metadata": {
        "id": "_f2tKsC8ae22"
      },
      "execution_count": null,
      "outputs": []
    }
  ]
}