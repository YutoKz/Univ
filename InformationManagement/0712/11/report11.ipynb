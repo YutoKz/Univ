{
  "cells": [
    {
      "cell_type": "markdown",
      "metadata": {
        "id": "gbqkmaY9RA-z"
      },
      "source": [
        "# レポート課題 第11回\n",
        "\n",
        "ニューラルネットワークを用いた回帰を実装せよ。\n"
      ]
    },
    {
      "cell_type": "markdown",
      "metadata": {
        "id": "_zJI0HyoWGGc"
      },
      "source": [
        "## ステップ1: データの準備\n",
        "まずは必要ライブラリをインポート。"
      ]
    },
    {
      "cell_type": "code",
      "execution_count": null,
      "metadata": {
        "id": "SYfdOuD_WNd_"
      },
      "outputs": [],
      "source": [
        "import pandas as pd\n",
        "import numpy as np\n",
        "import matplotlib.pyplot as plt"
      ]
    },
    {
      "cell_type": "markdown",
      "metadata": {
        "id": "SXb_O89VWQQY"
      },
      "source": [
        "scikit-learnライブラリより，diabetesデータセットをロードする。  \n",
        "このデータは，442人の被験者について，年齢や性別，BMIなど計10種類の指標を測定した結果と，その1年後の糖尿病の進行度に関する数値を記録したデータである。  \n",
        "(参考: http://taustation.com/diabetes-dataset/)"
      ]
    },
    {
      "cell_type": "code",
      "source": [
        "# scikit-learn ライブラリの糖尿病進行度データを読み込む\n",
        "from sklearn.datasets import load_diabetes\n",
        "\n",
        "diabetes_data=load_diabetes(as_frame=True)\n",
        "\n",
        "# 回帰における説明変数：10種類の指標\n",
        "display(diabetes_data.data.head())\n",
        "# 回帰における目的変数：糖尿病の進行度\n",
        "display(diabetes_data.target.head())"
      ],
      "metadata": {
        "id": "PLUOh5bK6Vyp"
      },
      "execution_count": null,
      "outputs": []
    },
    {
      "cell_type": "markdown",
      "source": [
        "ageは年齢，sexは性別(どういう基準で数値化されているかは不明)，bpは血圧，s1～s6はコレステロール値などの指標とのこと。  \n",
        "また，説明変数の各値は何らかの前処理によって正規化がされているとのこと。  \n",
        "\n",
        "**10個の説明変数から，目的変数である糖尿病の進行度(target)を推測する回帰モデルを学習したい。**"
      ],
      "metadata": {
        "id": "C860Sn6oVPVj"
      }
    },
    {
      "cell_type": "code",
      "source": [
        "# データのサンプル数と次元数を得る。\n",
        "num_samples, num_dimensions = np.shape(diabetes_data.data)\n",
        "\n",
        "print('Nunber of samples: ' + str(num_samples))\n",
        "print('Number of dimensions: ' + str(num_dimensions))\n",
        "\n",
        "# 説明変数を numpy データに変換\n",
        "X = diabetes_data.data.to_numpy()\n",
        "\n",
        "# 標準化も行っておく。\n",
        "X = (X - np.mean(X, axis=0)) / (np.std(X, axis=0)+1E-7)\n",
        "\n",
        "# 目的変数を numpy データに変換\n",
        "Y = diabetes_data.target.to_numpy()"
      ],
      "metadata": {
        "id": "HTcf2rWnZKOF"
      },
      "execution_count": null,
      "outputs": []
    },
    {
      "cell_type": "markdown",
      "source": [
        "学習データとテストデータを作成する。  \n",
        "442サンプルのうち50サンプルを評価データ，残りを学習データとする。"
      ],
      "metadata": {
        "id": "1TXffw_xb5K1"
      }
    },
    {
      "cell_type": "code",
      "source": [
        "# 先頭の50サンプルを評価データに使用\n",
        "X_test = X[:50]\n",
        "Y_test = Y[:50]\n",
        "\n",
        "# 残りのサンプルを学習データに使用\n",
        "X_train = X[50:]\n",
        "Y_train = Y[50:]\n",
        "\n",
        "num_samples_train = np.size(Y_train)\n",
        "num_samples_test = np.size(Y_test)\n",
        "\n",
        "print('Nunber of training samples: ' + str(num_samples_train))\n",
        "print('Nunber of test samples: ' + str(num_samples_test))"
      ],
      "metadata": {
        "id": "4CnavtUs8RQL"
      },
      "execution_count": null,
      "outputs": []
    },
    {
      "cell_type": "markdown",
      "source": [
        "以上でデータの準備は完了。"
      ],
      "metadata": {
        "id": "_i9kG3GIdQGK"
      }
    },
    {
      "cell_type": "markdown",
      "source": [
        "## 課題  \n",
        "準備したデータセットを使って，以下のことを行え。\n",
        "1. 重回帰分析（第四回参照）を行い，性能を評価せよ。  \n",
        "2. ニューラルネットワークを使った回帰を実装し，性能を評価するとともに，重回帰分析の結果と比較せよ。  \n",
        "\n",
        "* 各手法について，学習データを使って回帰モデルを学習すること。  \n",
        "* 評価は学習データ・評価データ両方に対して行うこと。  \n",
        "* 評価指標としては，MSE，RMSE，相関係数を使うこと。  \n",
        "* ニューラルネットワークを使った回帰モデルは，以下の要領で実装できる。  \n",
        "  * 出力層のノード数は1。\n",
        "  * 損失関数には平均二乗誤差(mean square error: MSE)を使う。  \n",
        "  * 出力層にはソフトマックス関数のような非線形関数は使わない。  \n",
        "    つまりgの値をそのままhとする。  \n",
        "  * 中間層の数やノード数，学習率，エポック数などのパラメータは適宜調整してもよい。  \n",
        "    （参考まで，学習率0.001，エポック数100で学習が上手く進んでいることは確認済み。）"
      ],
      "metadata": {
        "id": "Kh0VVWoXrMPt"
      }
    }
  ],
  "metadata": {
    "colab": {
      "collapsed_sections": [],
      "name": "report11.ipynb",
      "provenance": []
    },
    "kernelspec": {
      "display_name": "Python 3",
      "name": "python3"
    },
    "language_info": {
      "name": "python"
    }
  },
  "nbformat": 4,
  "nbformat_minor": 0
}