{
  "cells": [
    {
      "cell_type": "markdown",
      "metadata": {
        "id": "gbqkmaY9RA-z"
      },
      "source": [
        "# 第11回 その2: 任意の中間層数，ノード数を設定可能なニューラルネットワークの実装\n",
        "`11_01_neural_network.ipynb`では任意のノード数を設定できますが，中間層の数が1に限定されています。  \n",
        "ここでは，中間層の数を任意に設定できるように，さらに実装を改良します。     "
      ]
    },
    {
      "cell_type": "markdown",
      "metadata": {
        "id": "F1DmeW6oRs8r"
      },
      "source": [
        "## ステップ0: Google Driveのマウントと作業フォルダへの移動  \n",
        "Google Drive に配置したデータを読み込むための準備です。  \n",
        "詳細については第二回の 02_01_graph.ipynb を参照してください。  \n",
        "\n",
        "ここでは\"マイドライブ/情報管理/11\"を作業フォルダとします。 "
      ]
    },
    {
      "cell_type": "code",
      "execution_count": null,
      "metadata": {
        "id": "E4b4cfHPRXML"
      },
      "outputs": [],
      "source": [
        "from google.colab import drive\n",
        "drive.mount('/content/drive')\n",
        "# フォルダの移動には\"%cd\"を使用します。\n",
        "# 作業フォルダへ移動\n",
        "%cd /content/drive/'My Drive'/情報管理/11/\n",
        "# 現在のフォルダの中身を表示\n",
        "%ls"
      ]
    },
    {
      "cell_type": "markdown",
      "metadata": {
        "id": "wF6-hyJ2Sdau"
      },
      "source": [
        "`2class_data_circle.csv`というデータが表示されていることを確認してください。"
      ]
    },
    {
      "cell_type": "markdown",
      "metadata": {
        "id": "_zJI0HyoWGGc"
      },
      "source": [
        "## ステップ1: データの読み込みと標準化\n",
        "まずは必要ライブラリをインポートします。"
      ]
    },
    {
      "cell_type": "code",
      "execution_count": null,
      "metadata": {
        "id": "SYfdOuD_WNd_"
      },
      "outputs": [],
      "source": [
        "import pandas as pd\n",
        "import numpy as np\n",
        "import matplotlib.pyplot as plt"
      ]
    },
    {
      "cell_type": "markdown",
      "metadata": {
        "id": "SXb_O89VWQQY"
      },
      "source": [
        "`2class_data_circle.csv` を読み込みます。  \n",
        "このデータはx1とx2の二次元データで，クラス0とクラス1の2クラスのどちらかに属しています。  \n",
        "入力Xの標準化やクラスYのone-hotベクトルの作成も，ここで行っておきます。"
      ]
    },
    {
      "cell_type": "code",
      "execution_count": null,
      "metadata": {
        "id": "UkibCXvsRv-8"
      },
      "outputs": [],
      "source": [
        "# pandas の関数 read_csv を用いた csvファイル読み込み\n",
        "csv_data = pd.read_csv('2class_data_circle.csv', encoding='SHIFT-JIS')\n",
        "\n",
        "# データの前半部(.headで取得できる)のみ表示\n",
        "display(csv_data.head())\n",
        "\n",
        "# x1とx2のデータを抽出し，numpy用データ(ndarray型) に変換する。\n",
        "X = csv_data.loc[:, ['x1','x2']].to_numpy()\n",
        "\n",
        "# クラス番号を抽出し，numpy用データ(ndarray型) に変換する。\n",
        "Y = csv_data.loc[:,'class'].to_numpy()\n",
        "\n",
        "# データのサンプル数と次元数を得る。\n",
        "(num_samples, num_dimensions) = np.shape(X)\n",
        "print('Nunber of samples: ' + str(num_samples))\n",
        "print('Number of dimensions: ' + str(num_dimensions))\n",
        "\n",
        "# クラス数を得る。\n",
        "num_classes = int(np.max(Y) + 1)\n",
        "print('Number of classes: ' + str(num_classes))\n",
        "\n",
        "# データを標準化する。\n",
        "X = (X - np.mean(X, axis=0)) / np.std(X, axis=0)\n",
        "\n",
        "# one-hotベクトルの作成。\n",
        "Y_onehot = np.zeros([num_samples, num_classes])\n",
        "for n in range(num_samples):\n",
        "  # クラス番号(y[n])に対応するインデクスを1にする\n",
        "  Y_onehot[n, Y[n]] = 1\n",
        "\n",
        "color_list = [(0, 0, 1), (1, 0, 0)]\n",
        "# データをプロット\n",
        "plt.figure(figsize=(7,7))\n",
        "for k in range(num_classes):\n",
        "  # n番目のクラスに属している(Y==c)データをプロット\n",
        "  plt.scatter(X[Y==k,0], X[Y==k,1], color=color_list[k], label='class'+str(k))\n",
        "plt.xlabel('x1')\n",
        "plt.ylabel('x2')\n",
        "plt.legend()\n",
        "plt.xlim([-3, 3])\n",
        "plt.ylim([-3, 3])\n",
        "plt.show()"
      ]
    },
    {
      "cell_type": "markdown",
      "metadata": {
        "id": "kxl2IKgJWiM-"
      },
      "source": [
        "\n",
        "## ステップ2: 中間層数が可変のニューラルネットワークの実装  \n",
        "まず，シグモイド関数やソフトマックス関数，クロスエントロピー計算の関数を定義しておきます。"
      ]
    },
    {
      "cell_type": "code",
      "source": [
        "def sigmoid(z):\n",
        "  '''\n",
        "      シグモイド関数\n",
        "  '''\n",
        "  return (1+np.exp(-1*z))**(-1)\n",
        "\n",
        "\n",
        "def softmax(z):\n",
        "  '''\n",
        "      ソフトマックス関数\n",
        "      z: 要素数=クラス数のベクトル\n",
        "      y_hat: クラス毎の確率。要素数=クラス数のベクトル\n",
        "  '''\n",
        "  z_norm = z - np.max(z) # np.exp(z)のオーバーフロー対策\n",
        "  return (np.exp(z_norm) / np.sum(np.exp(z_norm)))\n",
        "\n",
        "\n",
        "def cross_entropy(y_hat, y_onehot):\n",
        "  '''\n",
        "      クロスエントロピー損失を計算する。\n",
        "      y_hat: マルチクラス回帰によって推定された y\n",
        "      y_onehot: 正解のクラスの確率が1，それ以外の確率を0とするベクトル\n",
        "                (one-hotベクトル)\n",
        "  '''\n",
        "  return -1.0 * np.sum(y_onehot*np.log(y_hat))"
      ],
      "metadata": {
        "id": "CThoHaEPnHwz"
      },
      "execution_count": null,
      "outputs": []
    },
    {
      "cell_type": "markdown",
      "source": [
        "ここから，中間層の数および各中間層のノード数を可変とするニューラルネットワークを実装していきます。  \n",
        "まず，以下の関数`initialize`では，引数で指定した中間層数とノード数を反映した，中間層および出力層の重み行列の初期値を作成します。\n",
        "\n",
        "ここでは，変数`num_mid`をリストとして定義することで，中間層の数および各中間層のノード数を定義できるようにしています。  \n",
        "`num_mid = [3]`の場合，「ノード数3の中間層を1個」という意味です。  \n",
        "`num_mid = [4, 3]`の場合，「中間層は2個で，一つ目の中間層のノード数は4，二つ目の中間層のノード数は3」という意味です。  \n",
        "`num_mid = []`の場合，「中間層は無し」となります。  "
      ],
      "metadata": {
        "id": "DqBkgETHpVeT"
      }
    },
    {
      "cell_type": "code",
      "source": [
        "def initialize(num_inp, num_out, num_mid, seed=0):\n",
        "  '''\n",
        "      初期設定\n",
        "      num_inp: 入力層のノード数(データの次元数)\n",
        "      num_out: 出力層のノード数(=識別したいクラス数)\n",
        "      num_mid: 各中間層のノード数。リスト型で定義\n",
        "               中間層が2層で，それぞれノード数が5, 3とする場合\n",
        "               num_mid = [5, 3]とする。\n",
        "      seed: 乱数のシード。デフォルト値は0\n",
        "  '''\n",
        "  # 中間層の数は num_mid の要素数\n",
        "  num_mid_layers = len(num_mid)\n",
        "  # トータルの層数 = 中間層の数 + 1 (出力層の分)\n",
        "  num_layers = num_mid_layers + 1\n",
        "\n",
        "  np.random.seed(seed) # 乱数シードの固定\n",
        "\n",
        "  # 中間層の重み行列 W の設定（各層の重み行列がリスト型で格納）\n",
        "  W = []\n",
        "  b = []\n",
        "  for layer in range(num_layers):\n",
        "    # まず，各層への入力ノード数と出力ノード数を確認\n",
        "    if layer == 0:\n",
        "      # 最初の中間層は入力データが入るため，入力ノード数=num_inp(データの次元数)\n",
        "      n_in = num_inp\n",
        "    else:\n",
        "      # それ以外の場合，入力ノード数=一つ前の中間層のノード数\n",
        "      n_in = num_mid[layer-1]\n",
        "    if layer == num_layers - 1:\n",
        "      # 出力層の場合，出力ノード数=num_out(クラス数)\n",
        "      n_out = num_out\n",
        "    else:\n",
        "      # それ以外の場合，出力ノード数=中間層のノード数\n",
        "      n_out = num_mid[layer]\n",
        "      \n",
        "    # W のサイズは[出力ノード数x入力ノード数]．乱数に基づいて初期値を作成\n",
        "    W_tmp = np.random.normal(0, 1/np.sqrt(n_in), (n_out, n_in))\n",
        "    # b のサイズは[出力ノード数]\n",
        "    b_tmp = np.zeros(n_out)\n",
        "\n",
        "    # 重み行列リストに追加\n",
        "    W.append(W_tmp)\n",
        "    b.append(b_tmp)\n",
        "\n",
        "  return W, b"
      ],
      "metadata": {
        "id": "G3ShIQj_roQP"
      },
      "execution_count": null,
      "outputs": []
    },
    {
      "cell_type": "markdown",
      "source": [
        "ここでは，各層における重み行列をリストで定義しています。  \n",
        "リストには，中間層と出力層の重み行列が格納されます。  \n",
        "中間層が2層存在する場合，`W = [ 一つ目の中間層のW, 二つ目の中間層のW, 出力層のW]`となります。  \n",
        "`b`や勾配も同様です。"
      ],
      "metadata": {
        "id": "JZVLoUPWt04y"
      }
    },
    {
      "cell_type": "markdown",
      "source": [
        "次に，ニューラルネットワークにデータを入力し，計算を実行する（フォワード処理）の関数を実装します。"
      ],
      "metadata": {
        "id": "npaApAV3vHkl"
      }
    },
    {
      "cell_type": "code",
      "source": [
        "def forward(x, W, b):\n",
        "  '''\n",
        "      ニューラルネットワークにデータを通す(フォワード処理)\n",
        "      x: 入力データ(サイズ=num_inpのベクトル)\n",
        "      W: 各中間層および出力層の重み行列をリスト化したもの\n",
        "      b: 各中間層および出力層のバイアスベクトルをリスト化したもの\n",
        "  '''\n",
        "  # 層の数 = 重み行列リストの要素数\n",
        "  num_layers = len(W)\n",
        "\n",
        "  # 層に通す。\n",
        "  # このとき，各層における活性化関数に通す前と通した後の計算結果をそれぞれ\n",
        "  # g, h としてリスト形式で記録しておく\n",
        "  g = [] # 非線形関数(活性化関数)を通す前\n",
        "  h = [] # 活性化関数を通した後\n",
        "  for layer in range(num_layers):\n",
        "    if layer == 0:\n",
        "      # 最初の中間層では，入力層の値(=入力データ x)との内積を取る\n",
        "      g_tmp = np.dot(W[layer], x) + b[layer]\n",
        "    else:\n",
        "      # 以降の層では，一つ前の層の値(h[-1])との内積を取る\n",
        "      g_tmp = np.dot(W[layer], h[-1]) + b[layer]\n",
        "      \n",
        "    if layer == num_layers - 1:\n",
        "      # 出力層の場合はソフトマックス関数に通す\n",
        "        h_tmp = softmax(g_tmp)\n",
        "    else:\n",
        "      # それ以外の場合はシグモイド関数に通す\n",
        "        h_tmp = sigmoid(g_tmp)\n",
        "\n",
        "    # リストに追加\n",
        "    g.append(g_tmp)\n",
        "    h.append(h_tmp)\n",
        "\n",
        "  # g と h を返す。最終的な出力はh[-1]\n",
        "  return g, h"
      ],
      "metadata": {
        "id": "FjZ5hUWDvYgd"
      },
      "execution_count": null,
      "outputs": []
    },
    {
      "cell_type": "markdown",
      "source": [
        "勾配を計算する関数を実装します。  \n",
        "ここでは，フォワード処理（`forward`関数）において計算された，各層の計算結果`h`を利用し，  \n",
        "誤差逆伝播法により勾配を計算します。（バックワード処理）"
      ],
      "metadata": {
        "id": "iAkfY9z_xF6U"
      }
    },
    {
      "cell_type": "code",
      "source": [
        "def backward(x, y, W, h):\n",
        "  '''\n",
        "      勾配を計算する(バックワード処理)\n",
        "      x: 入力データ(サイズ=num_inpのベクトル)\n",
        "      y: 正解の出力データ(サイズ=num_outのベクトル)\n",
        "      W: 各中間層および出力層の重み行列をリスト化したもの\n",
        "      h: 各中間層および出力層の計算結果をリスト化したもの\n",
        "  '''\n",
        "  # 層の数 = 重み行列リストの要素数\n",
        "  num_layers = len(W)\n",
        "  \n",
        "  # 勾配を計算\n",
        "  grad_W = []\n",
        "  grad_b = []\n",
        "  # forのrange()の後ろの[::-1]は逆順の意味。つまりnum_layers-1～0へカウントダウン。\n",
        "  for layer in range(num_layers)[::-1]:\n",
        "    # まず，prev_grad = ∂L/∂g を求める。prev_gradは逆伝播される。\n",
        "    # prev_gradは出力層とそれ以外で計算が異なる。\n",
        "    if layer == num_layers - 1:\n",
        "      # 出力層の場合\n",
        "      prev_grad = h[-1] - y\n",
        "    else:\n",
        "      # それ以外の層の場合\n",
        "      prev_grad = np.dot(prev_grad, W[layer+1])*(1 - h[layer])*h[layer]\n",
        "\n",
        "    # prev_gradを使って勾配を計算する。\n",
        "    if layer == 0:\n",
        "      # 入力層の場合\n",
        "      grad_W_tmp = np.dot(np.array([prev_grad]).T, np.array([x]))\n",
        "    else:\n",
        "      # それ以外の場合\n",
        "      grad_W_tmp = np.dot(np.array([prev_grad]).T, np.array([h[layer-1]]))\n",
        "    grad_b_tmp = prev_grad\n",
        "\n",
        "    # リストの先頭に追加\n",
        "    grad_W.insert(0, grad_W_tmp)\n",
        "    grad_b.insert(0, grad_b_tmp)\n",
        "  \n",
        "  # grad_Wとgrad_bを返す\n",
        "  return grad_W, grad_b"
      ],
      "metadata": {
        "id": "cN2hHhN0x0lV"
      },
      "execution_count": null,
      "outputs": []
    },
    {
      "cell_type": "markdown",
      "source": [
        "最後に，バックワード処理によって計算された勾配を使って，  \n",
        "勾配降下法により重み行列を更新する関数`update`を実装します。"
      ],
      "metadata": {
        "id": "UssfR5VP1N7h"
      }
    },
    {
      "cell_type": "code",
      "source": [
        "def update(lr, W, b, grad_W, grad_b):\n",
        "  '''\n",
        "      勾配降下法によるパラメータの更新\n",
        "      lr: 学習率\n",
        "      W, b: 各中間層および出力層の重み行列とバイアスベクトルをリスト化したもの\n",
        "      grad_W, grad_b，各層の勾配をリスト化したもの\n",
        "  '''\n",
        "  # 層の数 = 重み行列リストの要素数\n",
        "  num_layers = len(W)\n",
        "\n",
        "  for layer in range(num_layers):\n",
        "    W[layer] -= lr * grad_W[layer]\n",
        "    b[layer] -= lr * grad_b[layer]\n",
        "  \n",
        "  return W, b"
      ],
      "metadata": {
        "id": "Rtz19vhv1Yvo"
      },
      "execution_count": null,
      "outputs": []
    },
    {
      "cell_type": "markdown",
      "metadata": {
        "id": "TKI-bcdJXlhT"
      },
      "source": [
        "## ステップ3: ニューラルネットワークの実行\n",
        "中間層の数を1，ノード数を3として分類を行います。  "
      ]
    },
    {
      "cell_type": "code",
      "source": [
        "# 中間層のノード数\n",
        "num_middle_node = [3]\n",
        "\n",
        "# 学習率\n",
        "lr = 0.2\n",
        "# エポック数\n",
        "num_epochs = 30\n",
        "\n",
        "# 重み行列の初期化を行う\n",
        "W, b = initialize(num_dimensions, num_classes, num_middle_node)\n",
        "\n",
        "np.random.seed(0)\n",
        "\n",
        "# 損失関数の履歴\n",
        "loss_history = np.array([])\n",
        "# 正解率の履歴\n",
        "acc_history = np.array([])\n",
        "\n",
        "for epoch in range(num_epochs):\n",
        "  \n",
        "  # データをシャッフルしなおす。\n",
        "  # (局所解に陥りにくくなるため)\n",
        "  shuffle_index = np.random.permutation(np.arange(num_samples))\n",
        "  X_tmp = X[(shuffle_index)]\n",
        "  Y_tmp = Y[(shuffle_index)]\n",
        "  Y_onehot_tmp = Y_onehot[(shuffle_index)]\n",
        "  \n",
        "  loss = 0\n",
        "  acc = 0\n",
        "  for n in range(num_samples):\n",
        "    x = X_tmp[n]\n",
        "    y_onehot = Y_onehot_tmp[n]\n",
        "\n",
        "    # ニューラルネットワークに与える\n",
        "    g, h = forward(x, W, b)\n",
        "    # 最終出力はリストhの最後の要素である\n",
        "    y_hat = h[-1]\n",
        "  \n",
        "    # 勾配の計算\n",
        "    grad_W, grad_b = backward(x, y_onehot, W, h)\n",
        "\n",
        "    # 更新\n",
        "    W, b = update(lr, W, b, grad_W, grad_b)\n",
        "\n",
        "    # 損失関数の蓄積\n",
        "    loss += cross_entropy(y_hat, y_onehot)\n",
        "  \n",
        "  # エポック毎の識別正解率を測る\n",
        "  for n in range(num_samples):\n",
        "    x = X_tmp[n]\n",
        "    y = Y_tmp[n]\n",
        "    x = np.reshape(x, [num_dimensions])\n",
        "\n",
        "    g, h = forward(x, W, b)\n",
        "    y_hat = h[-1]\n",
        "    # 正解率の蓄積\n",
        "    if np.argmax(y_hat) == y:\n",
        "      acc += 1\n",
        "  \n",
        "  loss /= num_samples\n",
        "  acc /= num_samples\n",
        "  loss_history = np.append(loss_history, loss)\n",
        "  acc_history = np.append(acc_history, acc*100)\n",
        "  print('%d-th epoch: cross entropy = %.3f, accuracy = %.3f%%' % (epoch+1, loss, acc*100))\n",
        "\n",
        "\n",
        "# クロスエントロピーおよび正解率のプロット\n",
        "plt.figure(figsize=(14,5))\n",
        "plt.subplot(1,2,1)\n",
        "plt.plot(loss_history)\n",
        "plt.xlabel('epoch')\n",
        "plt.ylabel('loss (cross entropy)')\n",
        "plt.subplot(1,2,2)\n",
        "plt.plot(acc_history)\n",
        "plt.xlabel('epoch')\n",
        "plt.ylabel('accuracy [%]')\n",
        "plt.show()"
      ],
      "metadata": {
        "id": "4ds_-eEx1-B6"
      },
      "execution_count": null,
      "outputs": []
    },
    {
      "cell_type": "markdown",
      "source": [
        "次に，中間層の数を2個に増やし，それぞれのノード数を3, 2として実行します。"
      ],
      "metadata": {
        "id": "DHK_KmLRGjl_"
      }
    },
    {
      "cell_type": "code",
      "source": [
        "# 中間層のノード数\n",
        "num_middle_node = [3, 2]\n",
        "\n",
        "# 学習率\n",
        "lr = 0.2\n",
        "# エポック数\n",
        "num_epochs = 30\n",
        "\n",
        "# 重み行列の初期化を行う\n",
        "W, b = initialize(num_dimensions, num_classes, num_middle_node)\n",
        "\n",
        "np.random.seed(0)\n",
        "\n",
        "# 損失関数の履歴\n",
        "loss_history = np.array([])\n",
        "# 正解率の履歴\n",
        "acc_history = np.array([])\n",
        "\n",
        "for epoch in range(num_epochs):\n",
        "  \n",
        "  # データをシャッフルしなおす。\n",
        "  # (局所解に陥りにくくなるため)\n",
        "  shuffle_index = np.random.permutation(np.arange(num_samples))\n",
        "  X_tmp = X[(shuffle_index)]\n",
        "  Y_tmp = Y[(shuffle_index)]\n",
        "  Y_onehot_tmp = Y_onehot[(shuffle_index)]\n",
        "  \n",
        "  loss = 0\n",
        "  acc = 0\n",
        "  for n in range(num_samples):\n",
        "    x = X_tmp[n]\n",
        "    y_onehot = Y_onehot_tmp[n]\n",
        "\n",
        "    # ニューラルネットワークに与える\n",
        "    g, h = forward(x, W, b)\n",
        "    # 最終出力はリストhの最後の要素である\n",
        "    y_hat = h[-1]\n",
        "  \n",
        "    # 勾配の計算\n",
        "    grad_W, grad_b = backward(x, y_onehot, W, h)\n",
        "\n",
        "    # 更新\n",
        "    W, b = update(lr, W, b, grad_W, grad_b)\n",
        "\n",
        "    # 損失関数の蓄積\n",
        "    loss += cross_entropy(y_hat, y_onehot)\n",
        "  \n",
        "  # エポック毎の識別正解率を測る\n",
        "  for n in range(num_samples):\n",
        "    x = X_tmp[n]\n",
        "    y = Y_tmp[n]\n",
        "    x = np.reshape(x, [num_dimensions])\n",
        "\n",
        "    g, h = forward(x, W, b)\n",
        "    y_hat = h[-1]\n",
        "    # 正解率の蓄積\n",
        "    if np.argmax(y_hat) == y:\n",
        "      acc += 1\n",
        "  \n",
        "  loss /= num_samples\n",
        "  acc /= num_samples\n",
        "  loss_history = np.append(loss_history, loss)\n",
        "  acc_history = np.append(acc_history, acc*100)\n",
        "  print('%d-th epoch: cross entropy = %.3f, accuracy = %.3f%%' % (epoch+1, loss, acc*100))\n",
        "\n",
        "\n",
        "# クロスエントロピーおよび正解率のプロット\n",
        "plt.figure(figsize=(14,5))\n",
        "plt.subplot(1,2,1)\n",
        "plt.plot(loss_history)\n",
        "plt.xlabel('epoch')\n",
        "plt.ylabel('loss (cross entropy)')\n",
        "plt.subplot(1,2,2)\n",
        "plt.plot(acc_history)\n",
        "plt.xlabel('epoch')\n",
        "plt.ylabel('accuracy [%]')\n",
        "plt.show()"
      ],
      "metadata": {
        "id": "dbRGmwCYscxy"
      },
      "execution_count": null,
      "outputs": []
    },
    {
      "cell_type": "markdown",
      "source": [
        "こちらも100%の精度が得られました。"
      ],
      "metadata": {
        "id": "UPnxwMEceFQZ"
      }
    },
    {
      "cell_type": "markdown",
      "source": [
        "中間層が2のモデルでは，二つ目の中間層，つまり出力層の直前の層のノード数を2としています。  \n",
        "この2個のノードの値（活性化関数を通す前の値 $g$）を2次元平面上でプロットしてみます。"
      ],
      "metadata": {
        "id": "B4lKQu8ceIez"
      }
    },
    {
      "cell_type": "code",
      "source": [
        "# 出力層の直前の層の g の値\n",
        "g_tmp = np.zeros([num_samples, 2])\n",
        "\n",
        "for n in range(num_samples):\n",
        "  x = X[n]\n",
        "  # ニューラルネットワークに与える\n",
        "  g, h = forward(x, W, b)\n",
        "\n",
        "  # 出力層の直前の層のインデクスは -2 \n",
        "  g_tmp[n,:] = g[-2]\n",
        "\n",
        "plt.figure(figsize=(7,7))\n",
        "color_list = [(0, 0, 1), (1, 0, 0)]\n",
        "for k in range(num_classes):\n",
        "  plt.scatter(g_tmp[Y==k,0], g_tmp[Y==k,1], color=color_list[k], label='class'+str(k))\n",
        "plt.legend()\n",
        "plt.show()"
      ],
      "metadata": {
        "id": "oDBcZTRy1Ixk"
      },
      "execution_count": null,
      "outputs": []
    },
    {
      "cell_type": "markdown",
      "source": [
        "元々の二次元データ$x$は線形分離不可能な分布になっていたのに対して，出力層の直前の層の値は線形分離可能な分布になっています。  \n",
        "\n",
        "今回のニューラルネットワークモデルでは，中間層のノード数が3と2です。  \n",
        "従って，元も2次元データ$x$が，最初の中間層で3次元データに変換され，さらに次の中間層で2次元データに変換されたことになります。  \n",
        "この非線形な変換によって，線形分離不可能な空間から，線形分離可能な空間に変換されたことになります。"
      ],
      "metadata": {
        "id": "R_XXGA-mivqP"
      }
    },
    {
      "cell_type": "markdown",
      "source": [
        "中間層の数が2の場合でも100%になりましたが，中間層の数が1の場合は2エポック目で既に100%になっていたのに対して中間層の数が2の場合では10エポック目あたりまでは50%となっており，学習スピードが遅いことが分かりました。  \n",
        "\n",
        "そこで，試しに層の数をさらに増やして学習を実行してみましょう。"
      ],
      "metadata": {
        "id": "CP-vy9I3bwDS"
      }
    },
    {
      "cell_type": "code",
      "source": [
        "# 中間層のノード数\n",
        "num_middle_node = [3, 3, 3, 3]\n",
        "\n",
        "# 学習率\n",
        "lr = 0.2\n",
        "# エポック数\n",
        "num_epochs = 30\n",
        "\n",
        "# 重み行列の初期化を行う\n",
        "W, b = initialize(num_dimensions, num_classes, num_middle_node)\n",
        "\n",
        "np.random.seed(0)\n",
        "\n",
        "# 損失関数の履歴\n",
        "loss_history = np.array([])\n",
        "# 正解率の履歴\n",
        "acc_history = np.array([])\n",
        "\n",
        "for epoch in range(num_epochs):\n",
        "  \n",
        "  # データをシャッフルしなおす。\n",
        "  # (局所解に陥りにくくなるため)\n",
        "  shuffle_index = np.random.permutation(np.arange(num_samples))\n",
        "  X_tmp = X[(shuffle_index)]\n",
        "  Y_tmp = Y[(shuffle_index)]\n",
        "  Y_onehot_tmp = Y_onehot[(shuffle_index)]\n",
        "  \n",
        "  loss = 0\n",
        "  acc = 0\n",
        "  for n in range(num_samples):\n",
        "    x = X_tmp[n]\n",
        "    y_onehot = Y_onehot_tmp[n]\n",
        "\n",
        "    # ニューラルネットワークに与える\n",
        "    g, h = forward(x, W, b)\n",
        "    # 最終出力はリストhの最後の要素である\n",
        "    y_hat = h[-1]\n",
        "  \n",
        "    # 勾配の計算\n",
        "    grad_W, grad_b = backward(x, y_onehot, W, h)\n",
        "\n",
        "    # 更新\n",
        "    W, b = update(lr, W, b, grad_W, grad_b)\n",
        "\n",
        "    # 損失関数の蓄積\n",
        "    loss += cross_entropy(y_hat, y_onehot)\n",
        "  \n",
        "  # エポック毎の識別正解率を測る\n",
        "  for n in range(num_samples):\n",
        "    x = X_tmp[n]\n",
        "    y = Y_tmp[n]\n",
        "    x = np.reshape(x, [num_dimensions])\n",
        "\n",
        "    g, h = forward(x, W, b)\n",
        "    y_hat = h[-1]\n",
        "    # 正解率の蓄積\n",
        "    if np.argmax(y_hat) == y:\n",
        "      acc += 1\n",
        "  \n",
        "  loss /= num_samples\n",
        "  acc /= num_samples\n",
        "  loss_history = np.append(loss_history, loss)\n",
        "  acc_history = np.append(acc_history, acc*100)\n",
        "  print('%d-th epoch: cross entropy = %.3f, accuracy = %.3f%%' % (epoch+1, loss, acc*100))\n",
        "\n",
        "\n",
        "# クロスエントロピーおよび正解率のプロット\n",
        "plt.figure(figsize=(14,5))\n",
        "plt.subplot(1,2,1)\n",
        "plt.plot(loss_history)\n",
        "plt.xlabel('epoch')\n",
        "plt.ylabel('loss (cross entropy)')\n",
        "plt.subplot(1,2,2)\n",
        "plt.plot(acc_history)\n",
        "plt.xlabel('epoch')\n",
        "plt.ylabel('accuracy [%]')\n",
        "plt.show()"
      ],
      "metadata": {
        "id": "WO9QZtqS_7BL"
      },
      "execution_count": null,
      "outputs": []
    },
    {
      "cell_type": "markdown",
      "source": [
        "30エポックでは全く学習がされませんでした。  \n",
        "各層の重み行列$\\bf W$の勾配を見てみましょう。 "
      ],
      "metadata": {
        "id": "dNgv2bWYlRqD"
      }
    },
    {
      "cell_type": "code",
      "source": [
        "num_layers = len(grad_W)\n",
        "for n in range(num_layers):\n",
        "  print('layer : '+str(n))\n",
        "  print('grad_W =')\n",
        "  print(grad_W[n])"
      ],
      "metadata": {
        "id": "dILWw53_k5Qn"
      },
      "execution_count": null,
      "outputs": []
    },
    {
      "cell_type": "markdown",
      "metadata": {
        "id": "wgNY7XAUtF6Q"
      },
      "source": [
        "層が0，つまり入力層に近づくに従って，勾配の絶対値が小さい値になっていることが分かります。  \n",
        "ある層の勾配は，その後ろの層の勾配に何らかの値を掛けた値になります。  \n",
        "このとき，後ろの層の勾配や，掛けられる値の絶対値が1以下の場合，その層で計算される勾配の絶対値は小さくなります。  \n",
        "これが誤差逆伝播の仮定で何層も繰り返されると，入力層に近い層ほど，勾配の絶対値が小さくなっていきます。  \n",
        "この現象が深刻化すると，勾配の絶対値が小さくなりすぎてアンダーフローを起こして0になってしまう，<font color='red'>**勾配消失問題**</font>が発生します。  \n",
        "これは長らく深層ニューラルネットワークの学習を困難にしていた要因の一つで，この問題を軽減する様々なテクニックが近年開発されています。"
      ]
    },
    {
      "cell_type": "code",
      "source": [
        ""
      ],
      "metadata": {
        "id": "3cv7hGjsp6KO"
      },
      "execution_count": null,
      "outputs": []
    }
  ],
  "metadata": {
    "colab": {
      "collapsed_sections": [],
      "name": "11_02_neural_network2.ipynb",
      "provenance": []
    },
    "kernelspec": {
      "display_name": "Python 3",
      "name": "python3"
    },
    "language_info": {
      "name": "python"
    }
  },
  "nbformat": 4,
  "nbformat_minor": 0
}