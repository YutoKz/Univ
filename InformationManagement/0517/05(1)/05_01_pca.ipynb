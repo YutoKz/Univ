{
  "nbformat": 4,
  "nbformat_minor": 0,
  "metadata": {
    "colab": {
      "name": "05_01_pca.ipynb",
      "provenance": [],
      "collapsed_sections": []
    },
    "kernelspec": {
      "name": "python3",
      "display_name": "Python 3"
    },
    "language_info": {
      "name": "python"
    }
  },
  "cells": [
    {
      "cell_type": "markdown",
      "metadata": {
        "id": "gbqkmaY9RA-z"
      },
      "source": [
        "# 第5回 その1: 主成分分析\n",
        "第2回のレポート課題で使用した，5教科テストデータに対して主成分分析を行ってみましょう。\n"
      ]
    },
    {
      "cell_type": "markdown",
      "metadata": {
        "id": "srIl-shURTM2"
      },
      "source": [
        "## ステップ0: Google Driveのマウントと作業フォルダへの移動  \n",
        "Google Drive に配置したデータを読み込むための準備です。  \n",
        "詳細については第二回の 02_01_graph.ipynb を参照してください。  \n",
        "\n",
        "ここでは\"マイドライブ/情報管理/05\"を作業フォルダとします。 "
      ]
    },
    {
      "cell_type": "code",
      "metadata": {
        "id": "wf9ghfr_QzT1"
      },
      "source": [
        "from google.colab import drive\n",
        "drive.mount('/content/drive')\n",
        "# フォルダの移動には\"%cd\"を使用します。\n",
        "# 作業フォルダへ移動\n",
        "%cd /content/drive/'My Drive'/情報管理/05/\n",
        "# 現在のフォルダの中身を表示\n",
        "%ls"
      ],
      "execution_count": null,
      "outputs": []
    },
    {
      "cell_type": "markdown",
      "metadata": {
        "id": "xNGpM3FYRiob"
      },
      "source": [
        "`gokyouka.csv`というデータが表示されていることを確認してください。"
      ]
    },
    {
      "cell_type": "markdown",
      "metadata": {
        "id": "F1DmeW6oRs8r"
      },
      "source": [
        "## ステップ1: データの読み込み\n",
        "まずは必要ライブラリをインポートします。"
      ]
    },
    {
      "cell_type": "code",
      "metadata": {
        "id": "E4b4cfHPRXML"
      },
      "source": [
        "import pandas as pd\n",
        "import numpy as np\n",
        "import matplotlib.pyplot as plt"
      ],
      "execution_count": null,
      "outputs": []
    },
    {
      "cell_type": "markdown",
      "metadata": {
        "id": "wF6-hyJ2Sdau"
      },
      "source": [
        "`gokyouka.csv` を読み込みます。  \n",
        "このデータは第2回のレポート課題で使用した，5教科のテストの点数を示したデータ(report02_input.csv)です。"
      ]
    },
    {
      "cell_type": "code",
      "metadata": {
        "id": "UkibCXvsRv-8"
      },
      "source": [
        "# pandas の関数 read_csv を用いた csvファイル読み込み\n",
        "csv_data = pd.read_csv('gokyouka.csv', encoding='SHIFT-JIS')\n",
        "# データの前半部(.headで取得できる)のみ表示\n",
        "display(csv_data.head())\n",
        "\n",
        "# numpy用データ(ndarray型) に変換する。\n",
        "X = csv_data.to_numpy()\n",
        "\n",
        "# データのサンプル数と次元数を得る。\n",
        "(num_samples, num_dimensions) = np.shape(X)\n",
        "print('Nunber of samples: ' + str(num_samples))\n",
        "print('Number of dimensions: ' + str(num_dimensions))"
      ],
      "execution_count": null,
      "outputs": []
    },
    {
      "cell_type": "markdown",
      "metadata": {
        "id": "RSTsQodYTBS9"
      },
      "source": [
        "データが `X` に格納されました。\n",
        "`Number of samples` はデータ内のサンプル数，つまり生徒数です。  \n",
        "`Number of dimensions` は1サンプルの次元数，つまり教科数です。  \n",
        "つまりこのデータは5次元ベクトルが100サンプル格納されたデータということになります。  \n",
        "この5次元ベクトルデータを主成分分析により2次元に圧縮し，プロットすることを試みます。"
      ]
    },
    {
      "cell_type": "markdown",
      "metadata": {
        "id": "RHVheMeZ2I4v"
      },
      "source": [
        "## ステップ2: データの標準化  \n",
        "(今回のデータは単位が揃っていますが)一般的なデータでは，各次元の値の単位（スケール）が揃っていないことが多いです（例えば身長(cm)と体重(kg)のデータ）。  \n",
        "そこでスケールを合わせるための前処理として，各次元の平均と分散で正規化を行います。  "
      ]
    },
    {
      "cell_type": "code",
      "metadata": {
        "id": "m-JDrAnH3CfJ"
      },
      "source": [
        "# 次元毎の平均と分散\n",
        "mu = np.mean(X, axis=0)\n",
        "std = np.std(X, axis=0)\n",
        "\n",
        "# 標準化\n",
        "X_norm = (X - mu) / std"
      ],
      "execution_count": null,
      "outputs": []
    },
    {
      "cell_type": "markdown",
      "metadata": {
        "id": "VwjlQO49Tehk"
      },
      "source": [
        "## ステップ3: 分散共分散行列の計算  \n",
        "標準化したデータの分散共分散行列を計算します。  \n",
        "分散共分散行列は主成分分析の計算過程で必要な他，  \n",
        "次元毎のばらつきや，次元間の相関関係を知ることにも使用できます。  \n",
        "\n",
        "分散共分散行列の計算には numpy の <font color=\"Red\"> **`cov`**</font> 関数を使用します。  \n",
        "ただし，`cov`関数に入力する前に，データを転置し，[次元数, サンプル数]にしておく必要があります。\n"
      ]
    },
    {
      "cell_type": "code",
      "metadata": {
        "id": "lN9jvB8TT6ou"
      },
      "source": [
        "# 分散共分散行列の計算\n",
        "# X.T とすることで転置してから cov に入力する点に注意\n",
        "cov = np.cov(X_norm.T, bias=True)\n",
        "print(cov)"
      ],
      "execution_count": null,
      "outputs": []
    },
    {
      "cell_type": "markdown",
      "metadata": {
        "id": "obXK4HAMU5Bj"
      },
      "source": [
        "分散共分散の対角成分は，次元毎の分散値，つまり教科ごとの点数の分散です。  \n",
        "非対角成分は，次元間，つまり２教科間の相関係数を表します。  \n",
        "例えば 1行2列目の0.85243365は，1次元目と2次元目，つまり国語と英語の相関係数を表します。  \n",
        "3行4列目の0.88124546 は，3次元目と4次元目，つまり数学と物理の相関係数を表します。  \n",
        "分散共分散行列は対称行列（cov = cov.T）です。  \n",
        "（国語と英語の相関 = 英語と国語の相関）"
      ]
    },
    {
      "cell_type": "markdown",
      "metadata": {
        "id": "IKvNt-e6V14o"
      },
      "source": [
        "## ステップ4: 分散共分散行列の固有値分解\n",
        "主成分分析を実行するためには，分散共分散行列を固有値分解し，固有値の大きい順に固有ベクトルを並べ替えます。  \n",
        "固有値と固有ベクトルの計算には，numpy の <font color=\"Red\"> **`linalg.eig`**</font> 関数を使用します。  \n",
        "また，並べ替えには numpy の <font color=\"Red\"> **`argsort`**</font> 関数を使用します。  \n",
        "ただし argsort は小さい順に並び替えるため，argsortを使って小さい順に並べた結果に`[::-1]`とつけることで，さらに逆順（=大きい順）に並び替えています。"
      ]
    },
    {
      "cell_type": "code",
      "metadata": {
        "id": "bCwq-6jbR8D9"
      },
      "source": [
        "# 固有値 eig_val と 固有ベクトル eig_vec を計算\n",
        "eig_val, eig_vec =np.linalg.eig(cov)\n",
        "# データによっては固有値分解結果が複素数になる場合があるため，実部のみ取得\n",
        "eig_val = np.real(eig_val)\n",
        "eig_vec = np.real(eig_vec)\n",
        "\n",
        "# 固有値を大きい順に並び替える\n",
        "order = np.argsort(eig_val)[::-1]\n",
        "eig_val = eig_val[order]\n",
        "eig_vec = eig_vec[:,order]\n",
        "print('Eigen values:')\n",
        "print(eig_val)\n",
        "print('Eigen vectors:')\n",
        "print(eig_vec)"
      ],
      "execution_count": null,
      "outputs": []
    },
    {
      "cell_type": "markdown",
      "metadata": {
        "id": "uoyNM64b_xto"
      },
      "source": [
        "固有ベクトル（Eigen vectors）は，要素数5の列ベクトルが横に5個並んでいます。  \n",
        "つまり，固有値3.26に対応する固有ベクトルは[-0.36, -0.36, -0.50, -0.50, -0.49]です。"
      ]
    },
    {
      "cell_type": "markdown",
      "metadata": {
        "id": "pCPimpgMW8nO"
      },
      "source": [
        "## ステップ4: 主成分分析による次元圧縮\n",
        "第一主成分および第二主成分の固有ベクトルを使って，データを二次元に圧縮します。"
      ]
    },
    {
      "cell_type": "code",
      "metadata": {
        "id": "BN82w2qqSEp6"
      },
      "source": [
        "X_pca = np.dot(X_norm, eig_vec[:,:2])\n",
        "\n",
        "# データのサンプル数と次元数を得る。\n",
        "(num_samples_pca, num_dimensions_pca) = np.shape(X_pca)\n",
        "print('Nunber of samples: ' + str(num_samples_pca))\n",
        "print('Number of dimensions: ' + str(num_dimensions_pca))"
      ],
      "execution_count": null,
      "outputs": []
    },
    {
      "cell_type": "markdown",
      "metadata": {
        "id": "AAZwhlEkZZDB"
      },
      "source": [
        "主成分分析により，データが5次元から2次元に圧縮されました。  \n",
        "\n",
        "次に，横軸を第一主成分，縦軸を第二主成分として，2次元に圧縮したデータをプロットします。"
      ]
    },
    {
      "cell_type": "code",
      "metadata": {
        "id": "pdCBu3w4Zy5o"
      },
      "source": [
        "plt.figure(figsize=(10,5))\n",
        "plt.scatter(X_pca[:,0], X_pca[:,1], color='b')\n",
        "plt.xlabel('1st principal component')\n",
        "plt.ylabel('2nd principal component')\n",
        "plt.show()"
      ],
      "execution_count": null,
      "outputs": []
    },
    {
      "cell_type": "markdown",
      "metadata": {
        "id": "abYMTBYZXHXy"
      },
      "source": [
        "## ステップ5: 主成分の考察  \n",
        "ステップ4で，5次元のデータを2次元平面上にプロットすることはできました。  \n",
        "このとき，横軸と縦軸がどういう意味を持っているのかについて考察しましょう。  \n",
        "\n",
        "まず，第一主成分と第二主成分の固有ベクトル，つまり圧縮時に用いる各次元の係数を見てみましょう。"
      ]
    },
    {
      "cell_type": "code",
      "metadata": {
        "id": "Z8ktw3Vpbu3N"
      },
      "source": [
        "print('Coefficients for the 1st principal component')\n",
        "print(eig_vec[:,0])\n",
        "\n",
        "print('Coefficients for the 2nd principal component')\n",
        "print(eig_vec[:,1])"
      ],
      "execution_count": null,
      "outputs": []
    },
    {
      "cell_type": "markdown",
      "metadata": {
        "id": "YQV6vOJ1cXgD"
      },
      "source": [
        "第一主成分は，  \n",
        "-0.36\\*国語 - 0.36\\*英語 - 0.50\\*数学 - 0.50\\*物理 -0.49\\*化学  \n",
        "として計算されています。  \n",
        "全ての教科に負の係数がかけられているため，テストの点が良いほど，第一主成分は負の方向に大きくなります。  \n",
        "また，文系科目よりも理系科目の方がやや比重が大きく計算されていることが分かります。  \n",
        "\n",
        "第二主成分は，\n",
        "-0.61\\*国語 - 0.60\\*英語 + 0.26\\*数学 + 0.29\\*物理 + 0.33\\*化学  \n",
        "として計算されています。  \n",
        "文系科目には負の係数，理系科目には正の係数がかけられているため，テストの点が文系科目に偏るほど第二主成分は負の方向へ，逆に理系科目に偏るほど第二主成分は正の方向へ大きくなることにな。"
      ]
    },
    {
      "cell_type": "markdown",
      "metadata": {
        "id": "pkyzGZnHeDro"
      },
      "source": [
        "テストの総合点が高い程赤く，低い程青くなるように散布図の色を変えてプロットしてみましょう。"
      ]
    },
    {
      "cell_type": "code",
      "metadata": {
        "id": "14Ru8-qASGvx"
      },
      "source": [
        "# 各サンプルのテストの総合点を計算\n",
        "color = np.sum(X,axis=1)\n",
        "\n",
        "plt.figure(figsize=(11,5))\n",
        "plt.scatter(X_pca[:,0], X_pca[:,1], c=color, cmap='jet')\n",
        "plt.xlabel('1st principal component')\n",
        "plt.ylabel('2nd principal component')\n",
        "plt.colorbar(label='Total score of the 5 subjects')\n",
        "plt.show()"
      ],
      "execution_count": null,
      "outputs": []
    },
    {
      "cell_type": "markdown",
      "metadata": {
        "id": "u9QSbB3AfWrH"
      },
      "source": [
        "上の図によると，合計点が低い（色が青い）ほど右に，高い（色が赤い）ほど左に分布していることが分かります。  \n",
        "このことから，**第一主成分（横軸）はテストの総合的な出来と関係性が強い軸が作られている**ことが分かります。"
      ]
    },
    {
      "cell_type": "markdown",
      "metadata": {
        "id": "jzh5IGvcXa_x"
      },
      "source": [
        "次に，文系科目の平均点と理系科目の平均点の割合を計算し，理系科目の割合が高い程赤く，文系科目の割合が高いほど青くなるように散布図の色を変えてプロットしてみます。"
      ]
    },
    {
      "cell_type": "code",
      "metadata": {
        "id": "-NHHoFTtSKz2"
      },
      "source": [
        "# 理系科目の平均点 / 文系科目の平均点\n",
        "color = np.mean(X[:,2:],axis=1) / np.mean(X[:,:2], axis=1)\n",
        "\n",
        "plt.figure(figsize=(11,5))\n",
        "plt.scatter(X_pca[:,0], X_pca[:,1], c=color, cmap='jet')\n",
        "plt.xlabel('1st principal component')\n",
        "plt.ylabel('2nd principal component')\n",
        "plt.colorbar(label='bunkei / rikei')\n",
        "plt.show()"
      ],
      "execution_count": null,
      "outputs": []
    },
    {
      "cell_type": "markdown",
      "metadata": {
        "id": "ON28Sc1Bhg4_"
      },
      "source": [
        "上の図によると，文系科目の点数の割合が高い（色が青い）ほど下に，理系科目の点数の割合が高い（色が赤い）ほど上に分布していることが分かります。  \n",
        "このことから，**第二主成分（縦軸）は文系-理系の得意科目傾向と関係が強い軸が作られている**ことが分かります。  "
      ]
    },
    {
      "cell_type": "markdown",
      "metadata": {
        "id": "qjm-fPrZKIlu"
      },
      "source": [
        "横軸「総合的なテストの出来」と縦軸「文系-理系の得意科目傾向」の二軸で今回のデータを俯瞰すると，データの性質が色々と見えてきます。例えば  \n",
        "* 総合的なテストの出来は，「良い（左側）」，「普通（中央）」，「悪い（右側）」の３グループに分かれる。  \n",
        "* 「普通」の集団は，文系-理系の偏りが広いのに対して，「良い」および「悪い」の集団では，あまり文系-理系の偏りが広くない。  \n",
        "\n",
        "と言ったことがわかります。  \n",
        "このことから，今回のテストは出来が「良い」「普通」「悪い」グループにはっきりと分かれており，「良い」集団はどの教科も点数は高く，「悪い」集団はどの教科も点数が低い，ということが分かります。"
      ]
    },
    {
      "cell_type": "markdown",
      "metadata": {
        "id": "jlpps9fqiJW-"
      },
      "source": [
        "### 補足\n",
        "第一主成分は総合点が高い程，負の方向に大きくなっているため，直感と異なるかもしれません。  \n",
        "主成分分析側からすると，入力されたデータの意味，つまり各データがテストの点で，大きいほど価値が高いというような情報は一切知りません。  \n",
        "あくまでデータの相対的な散らばり具合を保存するように分析をしているだけですので，必ずしも正負が直感に沿った関係になるとは限りません。また，データの相対的な位置関係に意味があるのであって，横軸の-4～4，縦軸の-4～2といった値自体には特に意味はありません。  \n",
        "\n",
        "主成分分析は単にデータの散らばり具合を保存する軸を抽出しているだけであり，軸の意味は解析者が考える必要があります。\n",
        "今回の例では，第一主成分(横軸)にテストの総合点，第二主成分(縦軸)に理系/文系傾向といった，直感的に意味が分かりやすい軸が得られましたが，必ずしも理解しやすい軸が常に得られる訳では無いという点には注意してください。  \n",
        "（事実，今回の例でも第三主成分以降はよく分からない軸になっています。）  "
      ]
    },
    {
      "cell_type": "code",
      "metadata": {
        "id": "QdyD50LolBX6"
      },
      "source": [
        ""
      ],
      "execution_count": null,
      "outputs": []
    }
  ]
}