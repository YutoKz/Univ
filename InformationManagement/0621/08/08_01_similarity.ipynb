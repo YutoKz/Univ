{
  "nbformat": 4,
  "nbformat_minor": 0,
  "metadata": {
    "colab": {
      "name": "08_01_similarity.ipynb",
      "provenance": [],
      "collapsed_sections": []
    },
    "kernelspec": {
      "name": "python3",
      "display_name": "Python 3"
    },
    "language_info": {
      "name": "python"
    }
  },
  "cells": [
    {
      "cell_type": "markdown",
      "metadata": {
        "id": "gbqkmaY9RA-z"
      },
      "source": [
        "# 第8回 その1: 類似度ベースのクラスタリング：ユークリッド距離と正規分布\n",
        "ここでは，類似度を用いてクラスタリングを行う方法として，  \n",
        "クラス平均とのユークリッド距離を用いる方法と，  \n",
        "正規分布（多変量正規分布）を用いる方法とを比較します。  \n"
      ]
    },
    {
      "cell_type": "markdown",
      "metadata": {
        "id": "F1DmeW6oRs8r"
      },
      "source": [
        "## ステップ1: データの作成\n",
        "まずは必要ライブラリをインポートします。"
      ]
    },
    {
      "cell_type": "code",
      "metadata": {
        "id": "E4b4cfHPRXML"
      },
      "source": [
        "import pandas as pd\n",
        "import numpy as np\n",
        "import matplotlib.pyplot as plt"
      ],
      "execution_count": null,
      "outputs": []
    },
    {
      "cell_type": "markdown",
      "metadata": {
        "id": "wF6-hyJ2Sdau"
      },
      "source": [
        "まず，二種類のクラスに属するデータを生成します。  \n",
        "これらのデータは，それぞれ異なる正規分布に基づいて生成されています。"
      ]
    },
    {
      "cell_type": "code",
      "metadata": {
        "id": "UkibCXvsRv-8"
      },
      "source": [
        "# 乱数のシード設定\n",
        "np.random.seed(0)\n",
        "\n",
        "# 分布の平均値ベクトルと分散共分散行列を設定\n",
        "# (以下の値はシミュレーションデータの平均と分散共分散の設定)\n",
        "mean1 = np.array([2, 4])\n",
        "mean2 = np.array([8, 6])\n",
        "cov1 = np.array([[5, 4], [4, 5]])\n",
        "cov2 = np.array([[0.5, 0], [0, 0.5]])\n",
        "\n",
        "# 分布に基づいてデータを200サンプル生成\n",
        "class1 = np.random.multivariate_normal(mean1, cov1, size=200)\n",
        "class2 = np.random.multivariate_normal(mean2, cov2, size=200)\n",
        "# 各クラスの平均値ベクトルと分散共分散行列を計算\n",
        "mean1 = np.mean(class1, axis=0)\n",
        "mean2 = np.mean(class2, axis=0)\n",
        "cov1 = np.cov(class1.T)\n",
        "cov2 = np.cov(class2.T)\n",
        "print('class 1')\n",
        "print('mean = ')\n",
        "print(mean1)\n",
        "print('covariance matrix = ')\n",
        "print(cov1)\n",
        "print('\\nclass 2')\n",
        "print('mean = ')\n",
        "print(mean2)\n",
        "print('covariance matrix = ')\n",
        "print(cov2)\n",
        "\n",
        "# データと平均値をプロット\n",
        "plt.figure(figsize=(8,8))\n",
        "plt.scatter(class1[:,0], class1[:,1], color='deepskyblue', label='class 1')\n",
        "plt.scatter(mean1[0], mean1[1], color='b', label='mean of class 1', marker='x', s=100)\n",
        "plt.scatter(class2[:,0], class2[:,1], color='salmon', label='class 2')\n",
        "plt.scatter(mean2[0], mean2[1], color='r', label='mean of a class 2', marker='x', s=100)\n",
        "plt.legend()\n",
        "plt.show()"
      ],
      "execution_count": null,
      "outputs": []
    },
    {
      "cell_type": "markdown",
      "source": [
        "各データは２次元の多変量ベクトルです。  \n",
        "<font color='deepskyblue'>水色</font>の点はクラス１に属するデータで，$\\times$ 印はクラス１の平均値ベクトルです。  \n",
        "<font color='salmon'>赤色</font>の点はクラス２に属するデータで，$\\times$ 印はクラス２の平均値ベクトルです。  "
      ],
      "metadata": {
        "id": "KGqbS8UYC2jR"
      }
    },
    {
      "cell_type": "markdown",
      "metadata": {
        "id": "0RmuM3aYnanP"
      },
      "source": [
        "次に，あるサンプル sample $= [5, 8]$ を作成し，<font color='green'>緑色の$\\times$印</font>でプロットします。"
      ]
    },
    {
      "cell_type": "code",
      "metadata": {
        "id": "RBozvGsXm0S3"
      },
      "source": [
        "sample = np.array([5, 8])\n",
        "\n",
        "# データと平均値をプロット\n",
        "plt.figure(figsize=(8,8))\n",
        "plt.scatter(class1[:,0], class1[:,1], color='deepskyblue', label='class 1')\n",
        "plt.scatter(mean1[0], mean1[1], color='b', label='mean of class 1', marker='x', s=100)\n",
        "plt.scatter(class2[:,0], class2[:,1], color='salmon', label='class 2')\n",
        "plt.scatter(mean2[0], mean2[1], color='r', label='mean of a class 2', marker='x', s=100)\n",
        "plt.scatter(sample[0], sample[1], color='g', label='sample', marker='x', s=100)\n",
        "plt.legend()\n",
        "plt.show()"
      ],
      "execution_count": null,
      "outputs": []
    },
    {
      "cell_type": "markdown",
      "metadata": {
        "id": "2scEG_n8tde3"
      },
      "source": [
        "さて，このサンプルはクラス1とクラス2，どちらに分類されるべきでしょうか？  \n",
        "（この場合，緑のサンプル以外は属しているクラス情報（ラベル）があるので，**教師ありクラスタリング**ということになります。）"
      ]
    },
    {
      "cell_type": "markdown",
      "metadata": {
        "id": "kyfdBb4FntFY"
      },
      "source": [
        "## ステップ2: 平均値ベクトルとのユークリッド距離  \n",
        "クラス1とクラス2のどちらがクラスに近いか，平均値とのユークリッド距離を比較してみます。"
      ]
    },
    {
      "cell_type": "code",
      "metadata": {
        "id": "-i9nEdCeLcAf"
      },
      "source": [
        "def euclidean_distance(x, y):\n",
        "  '''\n",
        "      ユークリッド距離を計算して出力する\n",
        "      x, y: 距離を測りたい2個の多次元ベクトル\n",
        "  '''\n",
        "  dist = np.sum((x-y)**2)\n",
        "  dist = np.sqrt(dist)\n",
        "  return dist\n",
        "\n",
        "\n",
        "print('class 1: %f' % (euclidean_distance(mean1, sample)))\n",
        "print('class 2: %f' % (euclidean_distance(mean2, sample)))"
      ],
      "execution_count": null,
      "outputs": []
    },
    {
      "cell_type": "markdown",
      "metadata": {
        "id": "xIOjc3YvALzu"
      },
      "source": [
        "ユークリッド距離の値は，小さい程そのクラスに近い，つまり類似しているという意味です。  \n",
        "クラス2の方が平均値との距離が短かいので，**クラス2**に分類すべきという結果になります。"
      ]
    },
    {
      "cell_type": "markdown",
      "metadata": {
        "id": "7KJ3CbdLoU8o"
      },
      "source": [
        "## ステップ3: 多変量正規分布関数を使った類似度計算\n",
        "では，正規分布関数を使って類似度を計算した場合はどうでしょうか？\n",
        "\n",
        "以下は正規分布関数の値を計算する関数です。"
      ]
    },
    {
      "cell_type": "code",
      "metadata": {
        "id": "0gfV8Lx9MyKm"
      },
      "source": [
        "def normal_distribution(x, mean, cov):\n",
        "  '''\n",
        "      正規分布の確率密度関数の値を計算する\n",
        "      x: 計算したいデータ\n",
        "      mean: 平均値ベクトル\n",
        "      cov: 分散共分散行列\n",
        "  '''\n",
        "  # 次元数\n",
        "  D = np.size(x)\n",
        "  # 分散共分散行列の逆行列\n",
        "  inv_cov = np.linalg.inv(cov)\n",
        "  # 分散共分散行列の行列式\n",
        "  det_cov = np.linalg.det(cov)\n",
        "  \n",
        "  sub = x - mean\n",
        "  # sub は1行k列のベクトルなので，これをk行1列のベクトルに変換する\n",
        "  sub = np.reshape(sub, [-1,1])\n",
        "\n",
        "  tmp = np.dot(sub.T, inv_cov)\n",
        "  tmp = np.dot(tmp, sub)\n",
        "  tmp = np.exp(-1.0 * tmp / 2)\n",
        "  res = tmp / (np.sqrt((2*np.pi)**D * det_cov))\n",
        "\n",
        "  return res[0,0]"
      ],
      "execution_count": null,
      "outputs": []
    },
    {
      "cell_type": "markdown",
      "metadata": {
        "id": "fRI30XliAiKs"
      },
      "source": [
        "定義した関数を使ってクラス1，クラス2それぞれに関する類似度を計算します。"
      ]
    },
    {
      "cell_type": "code",
      "metadata": {
        "id": "-ecMXyWMR-9I"
      },
      "source": [
        "print('class 1: ' + str(normal_distribution(sample, mean1, cov1)))\n",
        "print('class 2: ' + str(normal_distribution(sample, mean2, cov2)))"
      ],
      "execution_count": null,
      "outputs": []
    },
    {
      "cell_type": "markdown",
      "metadata": {
        "id": "L6VgVrm5QAiP"
      },
      "source": [
        "正規分布関数の値は，高い程そのクラスに近いことを意味します。  \n",
        "結果を見ると，クラス1の方が類似度が高いため，**クラス1**に分類すべきという結果になります。  \n",
        "\n",
        "分布の図を見ると，確かにクラス2よりクラス1の方が分類先としては正しそうです。\n",
        "\n",
        "ユークリッド距離は，あくまで平均値との距離しかみておらず，データの分布の仕方，つまり分散共分散を考慮していません。  \n",
        "従って，データ間の距離や類似度を測る時，背後にあるデータの分布情報が分かっている場合は，ユークリッド距離よりも分布の関数を使う方が良いと言えます。"
      ]
    },
    {
      "cell_type": "code",
      "metadata": {
        "id": "PkdO-S8SuDPX"
      },
      "source": [
        ""
      ],
      "execution_count": null,
      "outputs": []
    }
  ]
}