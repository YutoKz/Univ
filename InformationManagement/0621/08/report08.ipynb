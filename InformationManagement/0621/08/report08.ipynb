{
  "nbformat": 4,
  "nbformat_minor": 0,
  "metadata": {
    "colab": {
      "name": "report08.ipynb",
      "provenance": [],
      "collapsed_sections": []
    },
    "kernelspec": {
      "name": "python3",
      "display_name": "Python 3"
    },
    "language_info": {
      "name": "python"
    }
  },
  "cells": [
    {
      "cell_type": "markdown",
      "metadata": {
        "id": "gbqkmaY9RA-z"
      },
      "source": [
        "# レポート課題第8回\n"
      ]
    },
    {
      "cell_type": "markdown",
      "metadata": {
        "id": "srIl-shURTM2"
      },
      "source": [
        "Googleドライブのマウントとフォルダの移動"
      ]
    },
    {
      "cell_type": "code",
      "metadata": {
        "id": "wf9ghfr_QzT1"
      },
      "source": [
        "from google.colab import drive\n",
        "drive.mount('/content/drive')\n",
        "# フォルダの移動には\"%cd\"を使用します。\n",
        "# 作業フォルダへ移動\n",
        "%cd /content/drive/'My Drive'/情報管理/08/\n",
        "# 現在のフォルダの中身を表示\n",
        "%ls"
      ],
      "execution_count": null,
      "outputs": []
    },
    {
      "cell_type": "markdown",
      "metadata": {
        "id": "F1DmeW6oRs8r"
      },
      "source": [
        "必要ライブラリをインポート。"
      ]
    },
    {
      "cell_type": "code",
      "metadata": {
        "id": "E4b4cfHPRXML"
      },
      "source": [
        "import pandas as pd\n",
        "import numpy as np\n",
        "import matplotlib.pyplot as plt"
      ],
      "execution_count": null,
      "outputs": []
    },
    {
      "cell_type": "markdown",
      "metadata": {
        "id": "wF6-hyJ2Sdau"
      },
      "source": [
        "`gokyouka.csv` を読み込む。  "
      ]
    },
    {
      "cell_type": "code",
      "metadata": {
        "id": "UkibCXvsRv-8"
      },
      "source": [
        "# pandas の関数 read_csv を用いた csvファイル読み込み\n",
        "csv_data = pd.read_csv('gokyouka.csv', encoding='SHIFT-JIS')\n",
        "# データの前半部(.headで取得できる)のみ表示\n",
        "display(csv_data.head())\n",
        "\n",
        "# numpy用データ(ndarray型) に変換する。\n",
        "X = csv_data.to_numpy()\n",
        "\n",
        "# データのサンプル数と次元数を得る。\n",
        "(num_samples, num_dimensions) = np.shape(X)\n",
        "print('Nunber of samples: ' + str(num_samples))\n",
        "print('Number of dimensions: ' + str(num_dimensions))"
      ],
      "execution_count": null,
      "outputs": []
    },
    {
      "cell_type": "markdown",
      "metadata": {
        "id": "glCVWFIRID3y"
      },
      "source": [
        "主成分分析を用いて2次元に圧縮する。"
      ]
    },
    {
      "cell_type": "code",
      "metadata": {
        "id": "5Em_IcIDIL6A"
      },
      "source": [
        "# データの標準化\n",
        "X_norm = (X - np.mean(X, axis=0)) / np.std(X, axis=0)\n",
        "\n",
        "# 分散共分散行列の計算\n",
        "cov = np.cov(X_norm.T, bias=True)\n",
        "# 固有値分解\n",
        "eig_val, eig_vec =np.linalg.eig(cov)\n",
        "\n",
        "# 固有値を大きい順に並び替える\n",
        "order = np.argsort(eig_val)[::-1]\n",
        "eig_val = eig_val[order]\n",
        "eig_vec_pca = eig_vec[:,order]\n",
        "\n",
        "# 第二主成分までの固有ベクトルを用いて次元圧縮\n",
        "X_pca = np.dot(X_norm, eig_vec_pca[:,:2])\n",
        "\n",
        "# 二次元データのプロット\n",
        "plt.figure(figsize=(10,6))\n",
        "plt.scatter(X_pca[:,0], X_pca[:,1], color='k')\n",
        "plt.xlabel('1st principal component')\n",
        "plt.ylabel('2nd principal component')\n",
        "plt.show()"
      ],
      "execution_count": null,
      "outputs": []
    },
    {
      "cell_type": "markdown",
      "metadata": {
        "id": "68gTNlhd51uR"
      },
      "source": [
        "## K-means による3クラスのクラスタリング  \n",
        "まず，k-meansによるクラスタリングを実行する。  \n",
        "以下は k-means の関数の実装(08_01_kmeans.ipynb参照)。"
      ]
    },
    {
      "cell_type": "code",
      "metadata": {
        "id": "-i9nEdCeLcAf"
      },
      "source": [
        "def euclidean_distance(x, y):\n",
        "  '''\n",
        "      ユークリッド距離を計算して出力する\n",
        "      x, y: 距離を測りたい2個の多次元ベクトル\n",
        "  '''\n",
        "  dist = np.sum((x-y)**2)\n",
        "  return dist\n",
        "\n",
        "def k_means(centroid, data):\n",
        "  '''\n",
        "     k-means によるセントロイドの更新を1回行う。\n",
        "     入力\n",
        "     centroid: 現在のセントロイド\n",
        "     data: データ\n",
        "     出力\n",
        "     new_centroid: 更新後のセントロイド\n",
        "     assigned_class: 各データが振り分けられたクラス番号\n",
        "  '''\n",
        "  # クラス数を取得\n",
        "  num_classes, num_dimensions = np.shape(centroid)\n",
        "  # データのサンプル数と次元数を取得\n",
        "  num_samples, num_dimensions = np.shape(data)\n",
        "\n",
        "  # 各データに対して割り当てるクラス番号\n",
        "  assigned_class = np.zeros(num_samples)\n",
        "\n",
        "  # 各データに対して，最もセントロイドが近いクラスを割り当てる\n",
        "  for n in range(num_samples):\n",
        "    # 各クラスのセントロイドとの距離を測る\n",
        "    dists = np.zeros(num_classes)\n",
        "    for k in range(num_classes):\n",
        "      # n番目のデータとk番目のセントロイドの距離\n",
        "      dists[k] = euclidean_distance(data[n,:], centroid[k,:])\n",
        "\n",
        "    # セントロイドとの距離が最小のクラス番号を割り当てる\n",
        "    assigned_class[n] = np.argmin(dists)\n",
        "  \n",
        "  # セントロイドの更新\n",
        "  new_centroid = np.zeros((num_classes, num_dimensions))\n",
        "  for k in range(num_classes):\n",
        "    # k番目のクラスに該当するデータ data[assigned_class==k] の平均値を\n",
        "    # k番目のクラスの新たなセントロイドとする\n",
        "    new_centroid[k] = np.mean(data[assigned_class==k,:], axis=0)\n",
        "  \n",
        "  return new_centroid, assigned_class"
      ],
      "execution_count": null,
      "outputs": []
    },
    {
      "cell_type": "markdown",
      "metadata": {
        "id": "12eW3PQc_5Lh"
      },
      "source": [
        "分割するクラスの数 $K=3$ としてセントロイド初期値を設定し，k-meansを実行する。"
      ]
    },
    {
      "cell_type": "code",
      "metadata": {
        "id": "-U5lG9p-iYeB"
      },
      "source": [
        "#クラス数\n",
        "K = 3\n",
        "\n",
        "#\n",
        "# セントロイド初期値の設定(06_01_kmeans.ipynb参照)\n",
        "#\n",
        "# 乱数シードの設定(ここではシードを5としていますが，何でも良いです)\n",
        "np.random.seed(5)\n",
        "# 0～99 をランダムに並び替える\n",
        "shuffle_index = np.random.permutation(np.arange(num_samples))\n",
        "# 並び替えた数の先頭 K個を取り出して、セントロイドの初期値とする。\n",
        "centroid_index = shuffle_index[:K]\n",
        "initial_centroid = X_pca[centroid_index,:]\n",
        "\n",
        "\n",
        "#\n",
        "# K-means を実行する(06_01_kmeans.ipynb参照)\n",
        "#\n",
        "\n",
        "# 最大更新回数を100とする\n",
        "max_iter = 100\n",
        "\n",
        "centroid = initial_centroid\n",
        "\n",
        "# ループの回数は max_iter とする\n",
        "for n in range(max_iter):\n",
        "  print('Iteration: ' + str(n+1))\n",
        "\n",
        "  # k-meansによるセントロイドの更新を実施\n",
        "  new_centroid, assigned_class = k_means(centroid, X_pca)\n",
        "\n",
        "  # セントロイドが変わっていない，\n",
        "  # つまり更新前後のセントロイドの移動距離が0の場合，ループを抜ける\n",
        "  if np.sum((new_centroid - centroid)**2) == 0:\n",
        "    print('centroids converged')\n",
        "    break\n",
        "  \n",
        "  # セントロイドの更新\n",
        "  centroid = new_centroid"
      ],
      "execution_count": null,
      "outputs": []
    },
    {
      "cell_type": "markdown",
      "metadata": {
        "id": "L6VgVrm5QAiP"
      },
      "source": [
        "結果をプロットする。"
      ]
    },
    {
      "cell_type": "code",
      "metadata": {
        "id": "jTUcXsy3Fut2"
      },
      "source": [
        "colors = ['r', 'b', 'g', 'c', 'm', 'y']\n",
        "# 二次元データのプロット\n",
        "plt.figure(figsize=(10,6))\n",
        "# セントロイドを\"x\"印でプロット \n",
        "for k in range(K):\n",
        "  c = colors[k%6] # プロットの色を，クラス番号によって自動的に変える。\n",
        "  # 全データのプロット\n",
        "  plt.scatter(X_pca[assigned_class==k,0], X_pca[assigned_class==k,1], color=c, label='class: '+str(k+1))\n",
        "  # セントロイドを \"x\"印でプロット\n",
        "  plt.scatter(centroid[k,0], centroid[k,1], label='centroid: '+str(k+1), color=c, marker='x', s=100)\n",
        "plt.xlabel('1st principal component')\n",
        "plt.ylabel('2nd principal component')\n",
        "plt.legend()\n",
        "plt.show()"
      ],
      "execution_count": null,
      "outputs": []
    },
    {
      "cell_type": "markdown",
      "metadata": {
        "id": "KyPp1AGPQxF2"
      },
      "source": [
        "上記の結果では，成績が普通のクラス(文系)と成績が悪いクラスが緑色のクラス3でまとまってクラス化されていることから，この結果は直感と異なるクラスタリングがされていると言える。\n"
      ]
    },
    {
      "cell_type": "markdown",
      "metadata": {
        "id": "VwjlQO49Tehk"
      },
      "source": [
        "## 混合正規分布によるクラスタリング\n",
        "k-meansによるクラスタリング結果をさらによくするために，混合正規分布によるクラスタリングを行う。"
      ]
    },
    {
      "cell_type": "markdown",
      "metadata": {
        "id": "0qhRcn1tHd0D"
      },
      "source": [
        "まず，以下は多変量正規分布によるスコアを計算する関数 `normal_distribution` である。  \n",
        "$f(x) = \\frac{exp(-\\frac{1}{2}(x-\\mu)^{T}\\Sigma^{-1}(x-\\mu))}{\\sqrt{(2\\pi)^{D}|\\Sigma|}}$  \n",
        "$x$: スコアを計算したいデータサンプル($D$次元のベクトル)  \n",
        "$\\mu$: 正規分布の平均値ベクトル($D$次元ベクトル)  \n",
        "$\\Sigma$: 正規分布の分散共分散行列($D \\times D$の行列)  \n",
        "$\\Sigma^{-1}$: 分散共分散行列の逆行列  \n",
        "$|\\Sigma|$: 分散共分散行列の行列式"
      ]
    },
    {
      "cell_type": "code",
      "metadata": {
        "id": "ujuIlswaG5yA"
      },
      "source": [
        "def normal_distribution(x, mean, cov):\n",
        "  '''\n",
        "      正規分布の確率密度関数の値を計算する\n",
        "      x: 計算したいデータ\n",
        "      mean: 平均値ベクトル\n",
        "      cov: 分散共分散行列\n",
        "  '''\n",
        "  # 次元数\n",
        "  D = np.size(x)\n",
        "  # 分散共分散行列の逆行列\n",
        "  inv_cov = np.linalg.inv(cov)\n",
        "  # 分散共分散行列の行列式\n",
        "  det_cov = np.linalg.det(cov)\n",
        "  \n",
        "  sub = x - mean\n",
        "  # sub は1行k列のベクトルなので，これをk行1列のベクトルに変換する\n",
        "  sub = np.reshape(sub, [-1,1])\n",
        "\n",
        "  tmp = np.dot(sub.T, inv_cov)\n",
        "  tmp = np.dot(tmp, sub)\n",
        "  tmp = np.exp(-1.0 * tmp / 2)\n",
        "  res = tmp / (np.sqrt((2*np.pi)**D * det_cov))\n",
        "\n",
        "  return res[0,0]"
      ],
      "execution_count": null,
      "outputs": []
    },
    {
      "cell_type": "markdown",
      "metadata": {
        "id": "XLzWu8YBJNzY"
      },
      "source": [
        "## <font color=red>問題はここから</font>\n",
        "<font color=red>**小問1: 以下の関数を補完し，各データの各クラス分布に対する帰属度$r_{n,k}$を計算する関数を実装せよ（穴埋め2か所）**</font>  \n",
        "帰属度$r$はプログラム中ではratioと定義されています。  \n",
        "重み付き正規分布関数値$s$はプログラム中ではscoresと定義されています。"
      ]
    },
    {
      "cell_type": "code",
      "metadata": {
        "id": "Qe3J__EbJdBa"
      },
      "source": [
        "def update_ratio(X, weights, means, covs):\n",
        "  '''\n",
        "      X: 全データ\n",
        "      weights: weights[k] はクラスkの重み\n",
        "      means: KxDの配列。means[k] はクラスkの平均値ベクトル(次元数D)\n",
        "      covs: KxDxDの三次元配列。covs[k] はクラスkの分散共分散行列(次元数DxD)\n",
        "  '''\n",
        "  # データ数Nと次元数Dを得る\n",
        "  N, D = np.shape(X)\n",
        "  # クラス数Mを得る\n",
        "  K = np.size(weights)\n",
        "\n",
        "  # 各データの，各クラス分布に対するスコア\n",
        "  # score[n, k] は n番目のサンプルがクラスkの分布に対する重み付きスコアが格納される。\n",
        "  scores = np.zeros((N, K))\n",
        "  for n in range(N):\n",
        "    for k in range(K):\n",
        "      # スコアはクラスkの正規分布スコアに，クラスkの重みをかけたもの\n",
        "      scores[n,k] = \n",
        "    \n",
        "  # 各データの各クラス分布に対する帰属度\n",
        "  # ratio[n, k] はn番目のサンプルがクラスkの分布に対する帰属度が格納される。\n",
        "  ratio = np.zeros((N,K))\n",
        "  for n in range(N):\n",
        "    # 帰属度を全クラス総和が1になるよう正規化\n",
        "    ratio[n] =\n",
        "  \n",
        "  return ratio"
      ],
      "execution_count": null,
      "outputs": []
    },
    {
      "cell_type": "markdown",
      "metadata": {
        "id": "qQmukTFYE1J_"
      },
      "source": [
        "<font color=red>**小問2: 以下の関数を補完し，各クラスの重み$w_k$を計算する関数を実装せよ(穴埋め1か所)**</font>  \n",
        "重み$w_k$はプログラム中ではweightsと定義している。"
      ]
    },
    {
      "cell_type": "code",
      "metadata": {
        "id": "xteC-HgjFDge"
      },
      "source": [
        "def update_weights(ratio):\n",
        "  '''\n",
        "     ratio: NxKの配列。ratio[n,k]はn番目のサンプルがクラスkの分布に対する帰属度が格納される。\n",
        "  '''\n",
        "  # weights は ratio をサンプル数の方向へ平均することで得られる。\n",
        "  weights = \n",
        "  return weights"
      ],
      "execution_count": null,
      "outputs": []
    },
    {
      "cell_type": "markdown",
      "metadata": {
        "id": "YecsvGDlFa44"
      },
      "source": [
        "<font color=red>**小問3: 以下の関数を補完し，各クラスの平均値ベクトル$\\mu_{k}$を計算する関数を実装せよ(穴埋め3か所)**</font>  \n",
        "平均値ベクトル$\\mu_k$はプログラム中ではmeanと定義されている。"
      ]
    },
    {
      "cell_type": "code",
      "metadata": {
        "id": "WwCflMz1FqlB"
      },
      "source": [
        "def update_means(X, ratio):\n",
        "  '''\n",
        "      X: データ。NxDの配列。\n",
        "      ratio: NxKの配列。ratio[n,k]はn番目のサンプルがクラスkの分布に対する帰属度が格納される。\n",
        "  '''\n",
        "  # データ数と次元数を得る\n",
        "  N, D = np.shape(X)\n",
        "  # クラス数を得る\n",
        "  K = np.shape(ratio)[1]\n",
        "\n",
        "  # means: MxDの配列。means[k] はクラスkの平均値ベクトル(次元数D)\n",
        "  means = np.zeros((K, D))\n",
        "  for k in range(K):\n",
        "    # 分母の計算\n",
        "    denom = \n",
        "    # 分子の計算\n",
        "    numer = np.zeros(D)\n",
        "    for n in range(N):\n",
        "      numer += \n",
        "    # means[k,:] = 分子/分母\n",
        "    means[k,:] = \n",
        "  \n",
        "  return means"
      ],
      "execution_count": null,
      "outputs": []
    },
    {
      "cell_type": "markdown",
      "metadata": {
        "id": "9_hzm2o6KRYA"
      },
      "source": [
        "**以下の関数は各クラスの分散共分散行列$\\Sigma_k$を計算する関数である。**  \n",
        "分散共分散行列$\\Sigma$はプログラム中ではcovsと定義されている。"
      ]
    },
    {
      "cell_type": "code",
      "metadata": {
        "id": "kysrcZZMKVeZ"
      },
      "source": [
        "def update_covs(X, ratio, means):\n",
        "  '''\n",
        "      X: データ。NxDの配列。\n",
        "      ratio: NxKの配列。ratio[n,k]はn番目のサンプルがクラスkの分布に対する帰属度が格納される。\n",
        "      means: KxDの配列。means[k] はクラスkの平均値ベクトル(次元数D)\n",
        "  '''\n",
        "  # データ数と次元数を得る\n",
        "  N, D = np.shape(X)\n",
        "  # クラス数を得る\n",
        "  K = np.shape(ratio)[1]\n",
        "  \n",
        "  # covs: MxDxDの三次元配列。covs[k] はクラスkの分散共分散行列(次元数DxD)\n",
        "  covs = np.zeros((K, D, D))\n",
        "  for k in range(K):\n",
        "    # 分母の計算\n",
        "    denom = np.sum(ratio[:,k])\n",
        "    # 分子の計算\n",
        "    numer = np.zeros((D,D))\n",
        "    for n in range(N):\n",
        "      sub = X[n] - means[k]\n",
        "      # sub は1行k列のベクトルなので，これをk行1列のベクトルに変換する\n",
        "      sub = np.reshape(sub, [-1,1])\n",
        "      numer += ratio[n, k] * np.dot(sub, sub.T)\n",
        "    # covs[k,:,:] = 分子/分母\n",
        "    covs[k, :, :] = numer/denom\n",
        "  \n",
        "  return covs"
      ],
      "execution_count": null,
      "outputs": []
    },
    {
      "cell_type": "markdown",
      "metadata": {
        "id": "r-niwwF3a7fJ"
      },
      "source": [
        "<font color=red>**以下のセルは上記の関数の動作確認をするためのコードである**</font>  \n",
        "実行すると以下のような出力が得られるはずである。  \n",
        "デバッグの際に利用されたい。  \n",
        "\n",
        "update_ratio  \n",
        "[[0.99891715 0.00108285]  \n",
        " [0.96765775 0.03234225]  \n",
        " [0.29168584 0.70831416]]  \n",
        "update_weights  \n",
        "[0.75275358 0.24724642]  \n",
        "update_means  \n",
        "[[2.37364956 3.37364956]  \n",
        " [4.90695395 5.90695395]]  \n",
        "update_covs  \n",
        "[[[2.03331148 2.03331148]  \n",
        "  [2.03331148 2.03331148]]  \n",
        "\n",
        " [[9.75604743 9.75604743]  \n",
        "  [9.75604743 9.75604743]]]  \n"
      ]
    },
    {
      "cell_type": "code",
      "metadata": {
        "id": "3HWlHGRibGL6"
      },
      "source": [
        "Xtest = np.array([[1,2],[3,4],[5,6]])\n",
        "wtest = np.array([0.4, 0.6])\n",
        "mtest = np.array([[2, 3],[8,9]])\n",
        "ctest = np.array([[[3,1],[1,3]],\n",
        "                  [[5,2],[2,5]]])\n",
        "\n",
        "\n",
        "ratio = update_ratio(Xtest, wtest, mtest, ctest)\n",
        "print('update_ratio')\n",
        "print(ratio)\n",
        "print('update_weights')\n",
        "print(update_weights(ratio))\n",
        "print('update_means')\n",
        "print(update_means(Xtest, ratio))\n",
        "print('update_covs')\n",
        "print(update_covs(Xtest, ratio, mtest))"
      ],
      "execution_count": null,
      "outputs": []
    },
    {
      "cell_type": "markdown",
      "metadata": {
        "id": "Nkm7W53TLCBj"
      },
      "source": [
        "<font color=red>**問題はここまで。動作確認がうまく行けば，以下も想定通り動くはずである。**</font>  \n",
        "以下は，上記の小問で定義した関数を使って，混合正規分布の各パラメータを1回更新する関数である。  \n",
        "また，各データについて，帰属度が最大となるクラスをargmax関数を使って取り出し，クラスの割り当て処理を行っている。"
      ]
    },
    {
      "cell_type": "code",
      "metadata": {
        "id": "n-GgxLknLLbl"
      },
      "source": [
        "def gmm_fit(X, weights, means, covs):\n",
        "  # 帰属度を計算する\n",
        "  ratio = update_ratio(X, weights, means, covs)\n",
        "\n",
        "  # 重みを計算する。\n",
        "  new_weights = update_weights(ratio)\n",
        "\n",
        "  # 平均値ベクトルを計算する。\n",
        "  new_means = update_means(X, ratio)\n",
        "\n",
        "  # 分散共分散行列を計算する。\n",
        "  new_covs = update_covs(X, ratio, new_means)\n",
        "\n",
        "  # 帰属度が最も大きいクラスを，各データの属するクラスに割り当てる。\n",
        "  assigned_class = np.argmax(ratio, axis=1)\n",
        "\n",
        "  return new_weights, new_means, new_covs, assigned_class"
      ],
      "execution_count": null,
      "outputs": []
    },
    {
      "cell_type": "markdown",
      "metadata": {
        "id": "x59nIu_vO8ny"
      },
      "source": [
        "k-meansの結果をもとに，means，covs，weightsの初期値を計算する。  \n",
        "クラス毎に，k-meansによって割り当てられたデータを用いて平均と分散共分散行列を計算する。  \n",
        "また割り当てられたデータ数を元にweightsも計算する。  "
      ]
    },
    {
      "cell_type": "code",
      "metadata": {
        "id": "K6cP4A5HYpR9"
      },
      "source": [
        "weights = np.zeros(K)\n",
        "means = np.zeros((K, 2))\n",
        "covs = np.zeros((K, 2, 2))\n",
        "\n",
        "for k in range(K):\n",
        "  # assigned_classがkのデータを用いて平均/分散共分散行列を計算\n",
        "  means[k] = np.mean(X_pca[assigned_class==k,:], axis=0)\n",
        "  covs[k] = np.cov(X_pca[assigned_class==k,:].T)\n",
        "  # assigned_classがkのデータ数/総データ数\n",
        "  weights[k] = np.sum(assigned_class==k) / num_samples"
      ],
      "execution_count": null,
      "outputs": []
    },
    {
      "cell_type": "markdown",
      "metadata": {
        "id": "VESuokQSdpeo"
      },
      "source": [
        "混合正規分布によるクラスタリングを実行する。"
      ]
    },
    {
      "cell_type": "code",
      "metadata": {
        "id": "rvNNKO1A0SFI"
      },
      "source": [
        "# 最大更新回数を100とする\n",
        "max_iter = 100\n",
        "\n",
        "# 各更新における平均値ベクトルおよびクラス振り分け結果の履歴を格納する変数\n",
        "means_history = np.empty((0, K, 2), float)\n",
        "assigned_class_gmm_history = np.empty((0, num_samples), int)\n",
        "\n",
        "# ループの回数は max_iter とする\n",
        "for n in range(max_iter):\n",
        "  print('Iteration: %d' %(n+1) )\n",
        "\n",
        "  # 混合正規分布の各パラメータの更新を実施\n",
        "  new_weights, new_means, new_covs, assigned_class_gmm = gmm_fit(X_pca, weights, means, covs)\n",
        "\n",
        "  # 更新結果を履歴に追加\n",
        "  means_history = np.append(means_history, np.reshape(new_means,[-1,K,2]), axis=0)\n",
        "  assigned_class_gmm_history = np.append(assigned_class_gmm_history, np.reshape(assigned_class_gmm,[-1,num_samples]), axis=0)\n",
        "\n",
        "  # 平均値ベクトルが変わっていない，\n",
        "  # つまり更新前後の平均値ベクトルの移動距離が小さい場合，ループを抜ける\n",
        "  if np.sum((new_means-means)**2) < 1E-10:\n",
        "    print('parameters converged')\n",
        "    break\n",
        "  \n",
        "  # パラメータの更新\n",
        "  weights = new_weights\n",
        "  means = new_means\n",
        "  covs = new_covs"
      ],
      "execution_count": null,
      "outputs": []
    },
    {
      "cell_type": "markdown",
      "metadata": {
        "id": "AVOpxTUxZJGH"
      },
      "source": [
        "混合正規分布によるクラスタリング結果をプロット。"
      ]
    },
    {
      "cell_type": "code",
      "metadata": {
        "id": "NlK1HRnU1nnA"
      },
      "source": [
        "colors = ['r', 'b', 'g', 'c', 'm', 'y']\n",
        "# 二次元データのプロット\n",
        "plt.figure(figsize=(10,6))\n",
        "# セントロイドを\"x\"印でプロット \n",
        "for k in range(K):\n",
        "  c = colors[k%6] # プロットの色を，クラス番号によって自動的に変える。\n",
        "  # 全データのプロット\n",
        "  plt.scatter(X_pca[assigned_class_gmm==k,0], X_pca[assigned_class_gmm==k,1], color=c, label='class: '+str(k+1))\n",
        "  # セントロイドを \"x\"印でプロット\n",
        "  plt.scatter(means[k,0], means[k,1], label='means: '+str(k+1), color=c, marker='x', s=100)\n",
        "plt.xlabel('1st principal component')\n",
        "plt.ylabel('2nd principal component')\n",
        "plt.legend()\n",
        "plt.show()"
      ],
      "execution_count": null,
      "outputs": []
    },
    {
      "cell_type": "markdown",
      "metadata": {
        "id": "b36ZzWZfZSdc"
      },
      "source": [
        "更新の様子をアニメーションでプロット"
      ]
    },
    {
      "cell_type": "code",
      "metadata": {
        "id": "PTUxFNsbNrCq"
      },
      "source": [
        "from matplotlib import animation, rc\n",
        "from IPython.display import HTML\n",
        "\n",
        "colors = ['r', 'b', 'g', 'c', 'm', 'y']\n",
        "\n",
        "images = []\n",
        "fig = plt.figure(figsize=(10,6))\n",
        "\n",
        "# 更新回数の分だけ繰り返す\n",
        "for step in range(len(means_history)):\n",
        "  # step番目の更新時のセントロイドとクラス振り分け情報を履歴から取得する。\n",
        "  assigned_class_gmm = assigned_class_gmm_history[step]\n",
        "  means = means_history[step]\n",
        "\n",
        "  # このstepのセントロイドとクラス振り分け情報をプロット\n",
        "  image_tmp = []\n",
        "  for k in range(K):\n",
        "    c = colors[k%6] # プロットの色を，クラス番号によって自動的に変える。\n",
        "    # 全データのプロット\n",
        "    img = plt.scatter(X_pca[assigned_class_gmm==k,0], X_pca[assigned_class_gmm==k,1], color=c, label='class: '+str(k+1))\n",
        "    image_tmp.append(img)\n",
        "    # セントロイドを \"x\"印でプロット\n",
        "    img = plt.scatter(means[k,0], means[k,1], label='mean: '+str(k+1), color=c, marker='x', s=100)\n",
        "    image_tmp.append(img)\n",
        "  img = plt.text(-4.5, 2.5, 'Iteration: '+str(step+1), size='x-large')\n",
        "  image_tmp.append(img)\n",
        "\n",
        "  images.append(image_tmp)\n",
        "plt.xlabel('1st principal component')\n",
        "plt.ylabel('2nd principal component')\n",
        "\n",
        "# アニメーション作成\n",
        "anim = animation.ArtistAnimation(fig, images, interval=1000)\n",
        "\n",
        "# Google Colaboratoryの場合必要\n",
        "rc('animation', html='jshtml')\n",
        "plt.close()\n",
        "display(anim)"
      ],
      "execution_count": null,
      "outputs": []
    },
    {
      "cell_type": "markdown",
      "metadata": {
        "id": "MMGv2DQMdz5t"
      },
      "source": [
        "k-meansの結果がさらに修正され，直感通りのクラスタリング結果になるのが分かる。"
      ]
    },
    {
      "cell_type": "code",
      "metadata": {
        "id": "bLueu0ThOcGl"
      },
      "source": [
        ""
      ],
      "execution_count": null,
      "outputs": []
    }
  ]
}