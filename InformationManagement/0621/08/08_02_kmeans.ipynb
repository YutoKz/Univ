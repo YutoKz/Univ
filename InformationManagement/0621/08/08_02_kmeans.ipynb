{
  "nbformat": 4,
  "nbformat_minor": 0,
  "metadata": {
    "colab": {
      "name": "08_02_kmeans.ipynb",
      "provenance": [],
      "collapsed_sections": []
    },
    "kernelspec": {
      "name": "python3",
      "display_name": "Python 3"
    },
    "language_info": {
      "name": "python"
    }
  },
  "cells": [
    {
      "cell_type": "markdown",
      "metadata": {
        "id": "gbqkmaY9RA-z"
      },
      "source": [
        "# 第8回 その2: k-means\n",
        "5教科テストデータに対して k-means を行い自動クラス分類を行ってみましょう。\n"
      ]
    },
    {
      "cell_type": "markdown",
      "metadata": {
        "id": "srIl-shURTM2"
      },
      "source": [
        "## ステップ0: Google Driveのマウントと作業フォルダへの移動  \n",
        "Google Drive に配置したデータを読み込むための準備です。  \n",
        "詳細については第二回の 02_01_graph.ipynb を参照してください。  \n",
        "\n",
        "ここでは\"マイドライブ/情報管理/08\"を作業フォルダとします。 "
      ]
    },
    {
      "cell_type": "code",
      "metadata": {
        "id": "wf9ghfr_QzT1"
      },
      "source": [
        "from google.colab import drive\n",
        "drive.mount('/content/drive')\n",
        "# フォルダの移動には\"%cd\"を使用します。\n",
        "# 作業フォルダへ移動\n",
        "%cd /content/drive/'My Drive'/情報管理/08/\n",
        "# 現在のフォルダの中身を表示\n",
        "%ls"
      ],
      "execution_count": null,
      "outputs": []
    },
    {
      "cell_type": "markdown",
      "metadata": {
        "id": "xNGpM3FYRiob"
      },
      "source": [
        "`gokyouka.csv`というデータが表示されていることを確認してください。"
      ]
    },
    {
      "cell_type": "markdown",
      "metadata": {
        "id": "F1DmeW6oRs8r"
      },
      "source": [
        "## ステップ1: データの読み込み\n",
        "まずは必要ライブラリをインポートします。"
      ]
    },
    {
      "cell_type": "code",
      "metadata": {
        "id": "E4b4cfHPRXML"
      },
      "source": [
        "import pandas as pd\n",
        "import numpy as np\n",
        "import matplotlib.pyplot as plt"
      ],
      "execution_count": null,
      "outputs": []
    },
    {
      "cell_type": "markdown",
      "metadata": {
        "id": "wF6-hyJ2Sdau"
      },
      "source": [
        "`gokyouka.csv` を読み込みます。  \n",
        "このデータは第2回のレポート課題で使用した，5教科のテストの点数を示したデータ(report02_input.csv)です。"
      ]
    },
    {
      "cell_type": "code",
      "metadata": {
        "id": "UkibCXvsRv-8"
      },
      "source": [
        "# pandas の関数 read_csv を用いた csvファイル読み込み\n",
        "csv_data = pd.read_csv('gokyouka.csv', encoding='SHIFT-JIS')\n",
        "# データの前半部(.headで取得できる)のみ表示\n",
        "display(csv_data.head())\n",
        "\n",
        "# numpy用データ(ndarray型) に変換する。\n",
        "X = csv_data.to_numpy()\n",
        "\n",
        "# データのサンプル数と次元数を得る。\n",
        "(num_samples, num_dimensions) = np.shape(X)\n",
        "print('Nunber of samples: ' + str(num_samples))\n",
        "print('Number of dimensions: ' + str(num_dimensions))"
      ],
      "execution_count": null,
      "outputs": []
    },
    {
      "cell_type": "markdown",
      "metadata": {
        "id": "glCVWFIRID3y"
      },
      "source": [
        "## ステップ2: 主成分分析によるデータの2次元への圧縮  \n",
        "今回はk-meansの途中経過をプロットしながら動作確認をします。  \n",
        "5教科データのままではプロットできませんので，主成分分析を用いて5教科データを2次元に圧縮しておきます。  \n",
        "主成分分析については第5回で解説していますので参照してください。  \n",
        "\n",
        "**補足**  \n",
        "今回は途中結果を可視化するため主成分分析を用いて2次元に圧縮してから k-means を使っていますが，  \n",
        "本来はk-meansに主成分分析は必須ではありません。  \n",
        "5次元データのままk-meansを実施して問題はありません。  \n",
        "ただし，元データの次元数が多すぎる場合は，計算時間がかかるので，主成分分析を使って次元削減を行ってからk-meansを実施するケースは多々あります（この場合は2次元以上の次元数に圧縮しても構いません）。"
      ]
    },
    {
      "cell_type": "code",
      "metadata": {
        "id": "5Em_IcIDIL6A"
      },
      "source": [
        "# データの標準化\n",
        "X_norm = (X - np.mean(X, axis=0)) / np.std(X, axis=0)\n",
        "\n",
        "# 分散共分散行列の計算\n",
        "cov = np.cov(X_norm.T, bias=True)\n",
        "# 固有値分解\n",
        "eig_val, eig_vec =np.linalg.eig(cov)\n",
        "\n",
        "# 固有値を大きい順に並び替える\n",
        "order = np.argsort(eig_val)[::-1]\n",
        "eig_val = eig_val[order]\n",
        "eig_vec_pca = eig_vec[:,order]\n",
        "\n",
        "# 第二主成分までの固有ベクトルを用いて次元圧縮\n",
        "X_pca = np.dot(X_norm, eig_vec_pca[:,:2])\n",
        "\n",
        "# 二次元データのプロット\n",
        "plt.figure(figsize=(10,6))\n",
        "plt.scatter(X_pca[:,0], X_pca[:,1], color='k')\n",
        "plt.xlabel('1st principal component')\n",
        "plt.ylabel('2nd principal component')\n",
        "plt.show()"
      ],
      "execution_count": null,
      "outputs": []
    },
    {
      "cell_type": "markdown",
      "metadata": {
        "id": "68gTNlhd51uR"
      },
      "source": [
        "主成分分析によって2次元圧縮したデータが `X_pca` に格納されました。  \n",
        "以降は `X_pca` に対して k-means を行います。  "
      ]
    },
    {
      "cell_type": "markdown",
      "metadata": {
        "id": "12eW3PQc_5Lh"
      },
      "source": [
        "## ステップ3: セントロイド初期値の設定  \n",
        "ここからが k-means の処理になります。  \n",
        "ここでは分割するクラスの数 $K=4$ とします。  \n",
        "\n",
        "まずは各クラスの中心データ（セントロイド）の初期値をランダムに決めます。 \n",
        "ここでは全データからランダムに $K=4$ 個取り出し，取り出した4個のデータの値をセントロイドの初期値とします。  \n",
        "\n",
        "ランダムにデータを取り出すために，ここではデータをランダムに並び替えた後，先頭から$K=4$個取り出すという方法を取っています。"
      ]
    },
    {
      "cell_type": "code",
      "metadata": {
        "id": "-U5lG9p-iYeB"
      },
      "source": [
        "#クラス数\n",
        "K = 4\n",
        "\n",
        "# 乱数シードの設定(ここではシードを5としていますが，何でも良いです)\n",
        "np.random.seed(5)\n",
        "\n",
        "# 0～99 をランダムに並び替える\n",
        "print('shuffled indexes')\n",
        "shuffle_index = np.random.permutation(np.arange(num_samples))\n",
        "print(shuffle_index)\n",
        "\n",
        "# 並び替えた数の先頭 K個を取り出して、セントロイドの初期値とする。\n",
        "centroid_index = shuffle_index[:K]\n",
        "print('initial centroid index')\n",
        "print('  ' + str(centroid_index))\n",
        "initial_centroid = X_pca[centroid_index,:]\n",
        "\n",
        "# 各セントロイドのデータ（5教科点数）を表示\n",
        "print('Centroids')\n",
        "print(initial_centroid)"
      ],
      "execution_count": null,
      "outputs": []
    },
    {
      "cell_type": "markdown",
      "metadata": {
        "id": "7HDqiOsmPjDl"
      },
      "source": [
        "上記の処理では，まず0～99の整数をランダムに並び替えています。  \n",
        "その後先頭の $K=4$ 個を取り出しています。  \n",
        "取り出した結果は [66, 32, 46, 28] となっています。  \n",
        "(同じ乱数シードを使っていれば，皆さんの実行結果も同じ値になっているはずですが，もし別の値になっている場合は教えてください。)  \n",
        "\n",
        "よって，66番目，32番目，46番目，28番目のデータを取ってきて，その値をセントロイドの初期値とします。  \n",
        "ただし主成分分析を行った後のデータ `X_pca` に対して処理を送るので，セントロイドの次元数は5ではなく2である点に注意してください。"
      ]
    },
    {
      "cell_type": "markdown",
      "metadata": {
        "id": "UcPcfYEHGsg1"
      },
      "source": [
        "各データ `X_pca` とセントロイド初期値 `initial_centroid` をプロットしてみましょう。  \n",
        "（66，32，46，28番がセントロイドになっていることを示すため，プロット結果にサンプル番号を表示しています。）"
      ]
    },
    {
      "cell_type": "code",
      "metadata": {
        "id": "EU8fP3-zI3Gu"
      },
      "source": [
        "# 色のセット\n",
        "colors = ['r', 'b', 'g', 'c', 'm', 'y']\n",
        "\n",
        "plt.figure(figsize=(10,6))\n",
        "# データ全体のプロット\n",
        "plt.scatter(X_pca[:,0], X_pca[:,1], color='grey', label='data')\n",
        "# セントロイドを\"x\"印でプロット \n",
        "for k in range(K):\n",
        "  c = colors[k%6] # プロットの色を，クラス番号によって自動的に変える。\n",
        "  plt.scatter(initial_centroid[k,0], initial_centroid[k,1], label='centroid: '+str(k+1), color=c, marker='x', s=100)\n",
        "plt.xlabel('1st principal component')\n",
        "plt.ylabel('2nd principal component')\n",
        "plt.legend()\n",
        "\n",
        "# サンプル番号を付ける\n",
        "for n in range(num_samples):\n",
        "  plt.annotate(str(n), (X_pca[n,0], X_pca[n,1]))\n",
        "  \n",
        "plt.show()"
      ],
      "execution_count": null,
      "outputs": []
    },
    {
      "cell_type": "markdown",
      "metadata": {
        "id": "aNJnhxAs9jaK"
      },
      "source": [
        "## ステップ4: k-meansアルゴリズムの実行  \n",
        "セントロイドの初期値が作られましたので，k-meansを行う準備が整いました。  \n",
        "\n",
        "では k-means を実行してみましょう。  \n",
        "まず，ユークリッド距離を測る関数を `euclidean_distance` として定義します。  \n",
        "また，k-meansによるセントロイドを1回更新する関数を `k_means` として定義します。"
      ]
    },
    {
      "cell_type": "code",
      "metadata": {
        "id": "-i9nEdCeLcAf"
      },
      "source": [
        "def euclidean_distance(x, y):\n",
        "  '''\n",
        "      ユークリッド距離を計算して出力する\n",
        "      x, y: 距離を測りたい2個の多次元ベクトル\n",
        "  '''\n",
        "  dist = np.sum((x-y)**2)\n",
        "  dist = np.sqrt(dist)\n",
        "  return dist\n",
        "\n",
        "def k_means(centroid, data):\n",
        "  '''\n",
        "     k-means によるセントロイドの更新を1回行う。\n",
        "     入力\n",
        "     centroid: 現在のセントロイド\n",
        "     data: データ\n",
        "     出力\n",
        "     new_centroid: 更新後のセントロイド\n",
        "     assigned_class: 各データが振り分けられたクラス番号\n",
        "  '''\n",
        "  # クラス数を取得\n",
        "  num_classes, num_dimensions = np.shape(centroid)\n",
        "  # データのサンプル数と次元数を取得\n",
        "  num_samples, num_dimensions = np.shape(data)\n",
        "\n",
        "  # 各データに対して割り当てるクラス番号\n",
        "  assigned_class = np.zeros(num_samples)\n",
        "\n",
        "  # 各データに対して，最もセントロイドが近いクラスを割り当てる\n",
        "  for n in range(num_samples):\n",
        "    # 各クラスのセントロイドとの距離を測る\n",
        "    dists = np.zeros(num_classes)\n",
        "    for k in range(num_classes):\n",
        "      # n番目のデータとk番目のセントロイドの距離\n",
        "      dists[k] = euclidean_distance(data[n,:], centroid[k,:])\n",
        "\n",
        "    # セントロイドとの距離が最小のクラス番号を割り当てる\n",
        "    assigned_class[n] = np.argmin(dists)\n",
        "  \n",
        "  # セントロイドの更新\n",
        "  new_centroid = np.zeros((num_classes, num_dimensions))\n",
        "  for k in range(num_classes):\n",
        "    # k番目のクラスに該当するデータ data[assigned_class==k] の平均値を\n",
        "    # k番目のクラスの新たなセントロイドとする\n",
        "    new_centroid[k] = np.mean(data[assigned_class==k,:], axis=0)\n",
        "  \n",
        "  return new_centroid, assigned_class"
      ],
      "execution_count": null,
      "outputs": []
    },
    {
      "cell_type": "markdown",
      "metadata": {
        "id": "xIOjc3YvALzu"
      },
      "source": [
        "定義した関数を使って，セントロイドの更新を1回行ってみます。  "
      ]
    },
    {
      "cell_type": "code",
      "metadata": {
        "id": "0gfV8Lx9MyKm"
      },
      "source": [
        "centroid = initial_centroid\n",
        "\n",
        "# k-meansによる更新を1回のみ実行\n",
        "new_centroid, assigned_class = k_means(centroid, X_pca)\n",
        "\n",
        "centroid = new_centroid"
      ],
      "execution_count": null,
      "outputs": []
    },
    {
      "cell_type": "markdown",
      "metadata": {
        "id": "fRI30XliAiKs"
      },
      "source": [
        "更新を1回のみ行った結果をプロットしてみましょう。"
      ]
    },
    {
      "cell_type": "code",
      "metadata": {
        "id": "-ecMXyWMR-9I"
      },
      "source": [
        "colors = ['r', 'b', 'g', 'c', 'm', 'y']\n",
        "# 二次元データのプロット\n",
        "plt.figure(figsize=(10,6))\n",
        "# セントロイドを\"x\"印でプロット \n",
        "for k in range(K):\n",
        "  c = colors[k%6] # プロットの色を，クラス番号によって自動的に変える。\n",
        "  # 全データのプロット\n",
        "  plt.scatter(X_pca[assigned_class==k,0], X_pca[assigned_class==k,1], color=c, label='class: '+str(k+1))\n",
        "  # セントロイドを \"x\"印でプロット\n",
        "  plt.scatter(centroid[k,0], centroid[k,1], label='centroid: '+str(k+1), color=c, marker='x', s=100)\n",
        "plt.xlabel('1st principal component')\n",
        "plt.ylabel('2nd principal component')\n",
        "plt.legend()\n",
        "plt.show()"
      ],
      "execution_count": null,
      "outputs": []
    },
    {
      "cell_type": "markdown",
      "metadata": {
        "id": "YLNsQlwnIdT7"
      },
      "source": [
        "各セントロイドと，そのセントロイドに近かったデータ，つまりそのセントロイドのクラスに割り当てられたデータが色分けされてプロットされました。\n",
        "\n",
        "1回の更新でセントロイドがどれだけ移動したのかが分かるような形でプロットしなおしてみます。"
      ]
    },
    {
      "cell_type": "code",
      "metadata": {
        "id": "ZCDqkJDzDSmu"
      },
      "source": [
        "colors = ['r', 'b', 'g', 'c', 'm', 'y']\n",
        "# 二次元データのプロット\n",
        "plt.figure(figsize=(10,6))\n",
        "# セントロイドを\"x\"印でプロット \n",
        "for k in range(K):\n",
        "  c = colors[k%6] # プロットの色を，クラス番号によって自動的に変える。\n",
        "  # 全データのプロットの色を薄くする(alpha=0.25)\n",
        "  plt.scatter(X_pca[assigned_class==k,0], X_pca[assigned_class==k,1], color=c, label='class: '+str(k+1), alpha=0.25)\n",
        "  # セントロイドの初期値を \"x\"印でプロット\n",
        "  plt.scatter(initial_centroid[k,0], initial_centroid[k,1], color=c, marker='x', s=100, alpha=0.5)\n",
        "  # 更新後のセントロイドを \"x\"印でプロット\n",
        "  plt.scatter(centroid[k,0], centroid[k,1], label='centroid: '+str(k+1), color=c, marker='x', s=100)\n",
        "  # セントロイドの更新前後の座標間を矢印で表示\n",
        "  plt.annotate('', centroid[k], initial_centroid[k], arrowprops=dict(width=1, headwidth=8, color=c, headlength=10))\n",
        "plt.xlabel('1st principal component')\n",
        "plt.ylabel('2nd principal component')\n",
        "plt.legend()\n",
        "plt.show()"
      ],
      "execution_count": null,
      "outputs": []
    },
    {
      "cell_type": "markdown",
      "metadata": {
        "id": "RSTsQodYTBS9"
      },
      "source": [
        "プロット結果から，セントロイドが移動していることが分かりました。  \n",
        "セントロイドが変わっているので，再度 k-mean関数を実行して距離を測りなおせば，クラスの割り当て結果が変わり，またセントロイドの値が変わるはずです。  \n",
        "\n",
        "ということで，k-means関数を，セントロイドが変わらなくなるまで繰り返し実行してみます。"
      ]
    },
    {
      "cell_type": "code",
      "metadata": {
        "id": "m-JDrAnH3CfJ"
      },
      "source": [
        "# 最大更新回数を100とする\n",
        "max_iter = 100\n",
        "\n",
        "centroid = initial_centroid\n",
        "\n",
        "# ループの回数は max_iter とする\n",
        "for n in range(max_iter):\n",
        "  print('Iteration: ' + str(n+1))\n",
        "\n",
        "  # k-meansによるセントロイドの更新を実施\n",
        "  new_centroid, assigned_class = k_means(centroid, X_pca)\n",
        "\n",
        "  # セントロイドが変わっていない，\n",
        "  # つまり更新前後のセントロイドの移動距離が0の場合，ループを抜ける\n",
        "  if np.sum((new_centroid - centroid)**2) == 0:\n",
        "    print('centroids converged')\n",
        "    break\n",
        "  \n",
        "  # セントロイドの更新\n",
        "  centroid = new_centroid"
      ],
      "execution_count": null,
      "outputs": []
    },
    {
      "cell_type": "markdown",
      "metadata": {
        "id": "L6VgVrm5QAiP"
      },
      "source": [
        "ループを実行した結果，8回の更新でセントロイドが変わらなくなり（収束し），ループが終了しました。　　\n",
        "\n",
        "では結果をプロットしてみましょう。"
      ]
    },
    {
      "cell_type": "code",
      "metadata": {
        "id": "b-V8h68jN3Ty"
      },
      "source": [
        "colors = ['r', 'b', 'g', 'c', 'm', 'y']\n",
        "# 二次元データのプロット\n",
        "plt.figure(figsize=(10,6))\n",
        "# セントロイドを\"x\"印でプロット \n",
        "for k in range(K):\n",
        "  c = colors[k%6] # プロットの色を，クラス番号によって自動的に変える。\n",
        "  # 全データのプロット\n",
        "  plt.scatter(X_pca[assigned_class==k,0], X_pca[assigned_class==k,1], color=c, label='class: '+str(k+1))\n",
        "  # セントロイドを \"x\"印でプロット\n",
        "  plt.scatter(centroid[k,0], centroid[k,1], label='centroid: '+str(k+1), color=c, marker='x', s=100)\n",
        "plt.xlabel('1st principal component')\n",
        "plt.ylabel('2nd principal component')\n",
        "plt.legend()\n",
        "plt.show()"
      ],
      "execution_count": null,
      "outputs": []
    },
    {
      "cell_type": "markdown",
      "metadata": {
        "id": "KyPp1AGPQxF2"
      },
      "source": [
        "第5回の主成分分析のプログラム（`05_01_pca.ipynb`）によると，  \n",
        "プロットの**横軸はテストの総合的な成績と関わっており，成績が良いほど左，成績が悪いほど右に向かってデータが散らばっています**。    \n",
        "またプロットの**縦軸は文系理系の偏りに関わっており，理系に偏るほど上に，文系に偏るほど下に向かってデータが散らばっています**。  \n",
        "\n",
        "従って，k-meansを用いて4クラスにクラスタリングした結果，  \n",
        "* <font color='blue'>青(クラス2)：成績が良いグループ</font>  \n",
        "* <font color='lightseagreen'>シアン(クラス4)：成績が悪いグループ</font> \n",
        "* <font color='red'>赤（クラス1）：総合成績は普通で，理系寄りなグループ</font>  \n",
        "* <font color='green'>緑（クラス3）：総合成績は普通で，文系よりなグループ</font>  \n",
        "\n",
        "というグループ分けが行われたと見ることができます。\n"
      ]
    },
    {
      "cell_type": "markdown",
      "metadata": {
        "id": "VwjlQO49Tehk"
      },
      "source": [
        "## ステップ5: k-meansによる更新の様子の可視化\n",
        "上記の k-means の実施結果によると，8回更新が行われて収束していました。  \n",
        "この8回の更新の中で，クラス分けがどのように変化していっているのか，アニメーションで可視化してみましょう。  \n",
        "\n",
        "以下では，k-meansの繰り返し処理を最初からやり直していますが，その際，  \n",
        "更新毎のセントロイド(変数`centroid`)とクラス振り分け結果（変数`assigned_class`）の履歴を，それぞれ変数`centroid_history`と`assigned_class_history`に格納する処理を追加しています。"
      ]
    },
    {
      "cell_type": "code",
      "metadata": {
        "id": "lN9jvB8TT6ou"
      },
      "source": [
        "# 最大更新回数を100とする\n",
        "max_iter = 100\n",
        "\n",
        "# 各更新におけるセントロイドおよびクラス振り分け結果の履歴を格納する変数\n",
        "centroid_history = np.empty((0, K, 2), float)\n",
        "assigned_class_history = np.empty((0, num_samples), int)\n",
        "\n",
        "centroid = initial_centroid\n",
        "\n",
        "# ループの回数は max_iter とする\n",
        "for n in range(max_iter):\n",
        "  print('Iteration: ' + str(n+1))\n",
        "\n",
        "  # k-meansによるセントロイドの更新を実施\n",
        "  new_centroid, assigned_class = k_means(centroid, X_pca)\n",
        "\n",
        "  # 更新結果を履歴に追加\n",
        "  centroid_history = np.append(centroid_history, np.reshape(new_centroid,[-1,K,2]), axis=0)\n",
        "  assigned_class_history = np.append(assigned_class_history, np.reshape(assigned_class,[-1,num_samples]), axis=0)\n",
        "\n",
        "  # セントロイドが変わっていない，\n",
        "  # つまり更新前後のセントロイドの移動距離が0の場合，ループを抜ける\n",
        "  if np.sum((new_centroid - centroid)**2) == 0:\n",
        "    print('centroids converged')\n",
        "    break\n",
        "  \n",
        "  # セントロイドの更新\n",
        "  centroid = new_centroid"
      ],
      "execution_count": null,
      "outputs": []
    },
    {
      "cell_type": "markdown",
      "metadata": {
        "id": "8J0uoF4-LYWG"
      },
      "source": [
        "セントロイドとクラス振り分け情報の履歴をアニメーション表示してみます。"
      ]
    },
    {
      "cell_type": "code",
      "metadata": {
        "id": "Xa9pF1KhEq5g"
      },
      "source": [
        "from matplotlib import animation, rc\n",
        "from IPython.display import HTML\n",
        "\n",
        "colors = ['r', 'b', 'g', 'c', 'm', 'y']\n",
        "\n",
        "images = []\n",
        "fig = plt.figure(figsize=(10,6))\n",
        "\n",
        "# 更新回数の分だけ繰り返す\n",
        "for step in range(len(centroid_history)):\n",
        "  # step番目の更新時のセントロイドとクラス振り分け情報を履歴から取得する。\n",
        "  assigned_class = assigned_class_history[step]\n",
        "  centroid = centroid_history[step]\n",
        "\n",
        "  # このstepのセントロイドとクラス振り分け情報をプロット\n",
        "  image_tmp = []\n",
        "  for k in range(K):\n",
        "    c = colors[k%6] # プロットの色を，クラス番号によって自動的に変える。\n",
        "    # 全データのプロット\n",
        "    img = plt.scatter(X_pca[assigned_class==k,0], X_pca[assigned_class==k,1], color=c, label='class: '+str(k+1))\n",
        "    image_tmp.append(img)\n",
        "    # セントロイドを \"x\"印でプロット\n",
        "    img = plt.scatter(centroid[k,0], centroid[k,1], label='centroid: '+str(k+1), color=c, marker='x', s=100)\n",
        "    image_tmp.append(img)\n",
        "  img = plt.text(-4.5, 2.5, 'Iteration: '+str(step+1), size='x-large')\n",
        "  image_tmp.append(img)\n",
        "\n",
        "  images.append(image_tmp)\n",
        "plt.xlabel('1st principal component')\n",
        "plt.ylabel('2nd principal component')\n",
        "\n",
        "# アニメーション作成\n",
        "anim = animation.ArtistAnimation(fig, images, interval=1000)\n",
        "\n",
        "# Google Colaboratoryの場合必要\n",
        "rc('animation', html='jshtml')\n",
        "plt.close()\n",
        "display(anim)"
      ],
      "execution_count": null,
      "outputs": []
    },
    {
      "cell_type": "markdown",
      "metadata": {
        "id": "-lmEhSn6MciN"
      },
      "source": [
        "セントロイドが移動しながら，各データが所属するクラスの情報も変わっていき，最終的なクラスタリング結果に収束する様子が分かります。"
      ]
    },
    {
      "cell_type": "code",
      "metadata": {
        "id": "yrvQ9flV7zEO"
      },
      "source": [
        ""
      ],
      "execution_count": null,
      "outputs": []
    }
  ]
}