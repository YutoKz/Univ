{
  "nbformat": 4,
  "nbformat_minor": 0,
  "metadata": {
    "colab": {
      "name": "convert_report.ipynb",
      "provenance": [],
      "collapsed_sections": []
    },
    "kernelspec": {
      "name": "python3",
      "display_name": "Python 3"
    },
    "language_info": {
      "name": "python"
    }
  },
  "cells": [
    {
      "cell_type": "markdown",
      "metadata": {
        "id": "LeyhnSkr8HFw"
      },
      "source": [
        "# レポート課題提出用のプログラム\n",
        "これはレポート課題で作成したNotebookファイル（.ipynb）を，提出するためのhtmlファイルに変換するプログラムです。  \n",
        "\n",
        "使用するためには，以下の情報を入力してから，上から順番に実行してください。  \n",
        "* work_dir = 'My Drive/課題が保存されているフォルダ'  \n",
        "* file_name = 'ファイル名.ipynb'"
      ]
    },
    {
      "cell_type": "code",
      "metadata": {
        "id": "rHhE3K5SEW8H"
      },
      "source": [
        "# 以下の2変数を設定してください。\n",
        "work_dir = 'My Drive/情報管理/XX'\n",
        "file_name = 'report_XX.ipynb'"
      ],
      "execution_count": null,
      "outputs": []
    },
    {
      "cell_type": "markdown",
      "metadata": {
        "id": "bsuLcmfhFl9-"
      },
      "source": [
        "Google ドライブをマウント  \n",
        "（このとき、Google colabからGoogleドライブに接続するための確認などが出てきますが、指示に従ってGoogle ドライブに接続してください。）"
      ]
    },
    {
      "cell_type": "code",
      "metadata": {
        "id": "MYk2a5wmWQY_"
      },
      "source": [
        "from google.colab import drive\n",
        "drive.mount('/content/drive')"
      ],
      "execution_count": null,
      "outputs": []
    },
    {
      "cell_type": "markdown",
      "metadata": {
        "id": "zZJC7ZG8GhHR"
      },
      "source": [
        "ファイル名のフルパス取得と，ファイル有無の確認"
      ]
    },
    {
      "cell_type": "code",
      "metadata": {
        "id": "dqmieJsS8H7l"
      },
      "source": [
        "import os\n",
        "import sys\n",
        "\n",
        "file_path = '/content/drive/%s/%s' % (work_dir, file_name)\n",
        "print('file_path = %s' % (file_path))\n",
        "\n",
        "# ファイルの存在確認\n",
        "if not os.path.isfile(file_path):\n",
        "  sys.stderr.write('ERROR: file %s is not found\\n' % (file_path))\n",
        "else:\n",
        "  sys.stderr.write('File exists. OK')"
      ],
      "execution_count": null,
      "outputs": []
    },
    {
      "cell_type": "markdown",
      "metadata": {
        "id": "iZadDUI7GnKB"
      },
      "source": [
        "上記ソースコードを実行時，  \n",
        "`ERROR: /content/drive/xxxx.ipynb is not found`  \n",
        "と表示された場合は，\n",
        "* work_dir の設定が間違っている。  \n",
        "  (特に，Gドライブの「マイドライブ」プログラム上では\"My Drive\"と書く点に注意してください。)\n",
        "* file_name の設定が間違っている。  \n",
        "* Googleドライブのマウントを/していない/失敗している/マウントしたがリセットされた/\n",
        "\n",
        "のどれかです。設定を確認して，最初からやり直してください。"
      ]
    },
    {
      "cell_type": "markdown",
      "metadata": {
        "id": "uPjBHv9QI4LI"
      },
      "source": [
        "### .ipynb ファイルを .html ファイルへ変換する"
      ]
    },
    {
      "cell_type": "code",
      "metadata": {
        "id": "kD-5IakCAInM"
      },
      "source": [
        "!jupyter nbconvert --to html \"$file_path\""
      ],
      "execution_count": null,
      "outputs": []
    },
    {
      "cell_type": "markdown",
      "metadata": {
        "id": "3IzeqN-zJNZs"
      },
      "source": [
        "変換が正しくできていれば，以下のような表示がされます。  \n",
        "```\n",
        "[NbConvertApp] Converting notebook 課題ファイル名.ipynb to html\n",
        "[NbConvertApp] Writing xxxxxxx bytes to 課題ファイル名.html\n",
        "```"
      ]
    },
    {
      "cell_type": "markdown",
      "metadata": {
        "id": "eayaQvdhJkGg"
      },
      "source": [
        "この時点でGoogleドライブの作業フォルダに `課題ファイル名.html` が作成されているはずですので，それをそのままBEEFで提出すればOKです。  \n",
        "（念のため，ブラウザで開いて正しく変換されているか確認してください。）"
      ]
    },
    {
      "cell_type": "markdown",
      "metadata": {
        "id": "KVzMICr_KutU"
      },
      "source": [
        "#### おまけ  \n",
        "変換したファイルをGoogleドライブからローカルのPCにダウンロードします。  \n",
        "Googleドライブを開くのが面倒な人は以下を実行してください。"
      ]
    },
    {
      "cell_type": "code",
      "metadata": {
        "id": "Nbv-aUZ0COU7"
      },
      "source": [
        "from google.colab import files\n",
        "\n",
        "html_file = os.path.splitext(file_path)[0] + '.html'\n",
        "print(html_file)\n",
        "\n",
        "files.download(html_file)"
      ],
      "execution_count": null,
      "outputs": []
    },
    {
      "cell_type": "code",
      "metadata": {
        "id": "9x1oFScpK92_"
      },
      "source": [
        ""
      ],
      "execution_count": null,
      "outputs": []
    }
  ]
}