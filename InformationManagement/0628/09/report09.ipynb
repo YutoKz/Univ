{
  "nbformat": 4,
  "nbformat_minor": 0,
  "metadata": {
    "colab": {
      "name": "report09.ipynb",
      "provenance": [],
      "collapsed_sections": []
    },
    "kernelspec": {
      "name": "python3",
      "display_name": "Python 3"
    },
    "language_info": {
      "name": "python"
    }
  },
  "cells": [
    {
      "cell_type": "markdown",
      "metadata": {
        "id": "gbqkmaY9RA-z"
      },
      "source": [
        "# レポート課題第9回\n",
        "\n",
        "'todoufuken.csv'のデータに対して「最短距離法」と「ウォード法」の二種類の階層クラスタリングを行い，クラスタリング結果の違いに対する考察を行え。"
      ]
    },
    {
      "cell_type": "markdown",
      "metadata": {
        "id": "srIl-shURTM2"
      },
      "source": [
        "Googleドライブのマウントとフォルダの移動"
      ]
    },
    {
      "cell_type": "code",
      "metadata": {
        "id": "wf9ghfr_QzT1"
      },
      "source": [
        "from google.colab import drive\n",
        "drive.mount('/content/drive')\n",
        "# フォルダの移動には\"%cd\"を使用します。\n",
        "# 作業フォルダへ移動\n",
        "%cd /content/drive/'My Drive'/情報管理/09/\n",
        "# 現在のフォルダの中身を表示\n",
        "%ls"
      ],
      "execution_count": null,
      "outputs": []
    },
    {
      "cell_type": "markdown",
      "metadata": {
        "id": "F1DmeW6oRs8r"
      },
      "source": [
        "必要ライブラリをインポート。  \n",
        "日本語フォントもダウンロードとインポート。"
      ]
    },
    {
      "cell_type": "code",
      "metadata": {
        "id": "E4b4cfHPRXML"
      },
      "source": [
        "import pandas as pd\n",
        "import numpy as np\n",
        "import matplotlib.pyplot as plt\n",
        "!pip install japanize-matplotlib\n",
        "import japanize_matplotlib "
      ],
      "execution_count": null,
      "outputs": []
    },
    {
      "cell_type": "markdown",
      "metadata": {
        "id": "wF6-hyJ2Sdau"
      },
      "source": [
        "`todoufuken.csv`を読み込む。  \n",
        "このデータは各都道府県の代表駅の東経と北緯を記録したデータである。  \n",
        "東経と北緯のデータをXとして，都道府県の位置をクラスタリングする。"
      ]
    },
    {
      "cell_type": "code",
      "metadata": {
        "id": "UkibCXvsRv-8"
      },
      "source": [
        "# pandas の関数 read_csv を用いた csvファイル読み込み\n",
        "csv_data = pd.read_csv('todoufuken.csv', encoding='SHIFT-JIS')\n",
        "# データの前半部(.headで取得できる)のみ表示\n",
        "display(csv_data.head())\n",
        "\n",
        "# numpy用データ(ndarray型) に変換する。\n",
        "X = csv_data.loc[:,'東経':'北緯'].to_numpy()\n",
        "\n",
        "# 各サンプルの都道府県をサンプルの名前とする。\n",
        "labels = csv_data.loc[:,'都道府県'].to_list()\n",
        "\n",
        "# データのサンプル数と次元数を得る。\n",
        "(num_samples, num_dimensions) = np.shape(X)\n",
        "print('Nunber of samples: ' + str(num_samples))\n",
        "print('Number of dimensions: ' + str(num_dimensions))"
      ],
      "execution_count": null,
      "outputs": []
    },
    {
      "cell_type": "markdown",
      "metadata": {
        "id": "glCVWFIRID3y"
      },
      "source": [
        "データの標準化とプロットを行う。"
      ]
    },
    {
      "cell_type": "code",
      "source": [
        "# データの標準化\n",
        "X_norm = (X - np.mean(X, axis=0)) / np.std(X, axis=0)\n",
        "\n",
        "# 二次元データのプロット\n",
        "plt.figure(figsize=(10,10))\n",
        "plt.scatter(X_norm[:,0], X_norm[:,1], color='k')\n",
        "plt.xlabel('東経（標準化済み）')\n",
        "plt.ylabel('北緯（標準化済み）')\n",
        "\n",
        "# 各サンプルの名前(ラベル)を付ける\n",
        "for n in range(num_samples):\n",
        "  label = str(labels[n])\n",
        "  plt.annotate(label, (X_norm[n,0], X_norm[n,1]))\n",
        "\n",
        "plt.show()"
      ],
      "metadata": {
        "id": "VxUwzJdgnTwA"
      },
      "execution_count": null,
      "outputs": []
    },
    {
      "cell_type": "markdown",
      "source": [
        "## <font color=red> 小問1: このデータに対して最短距離法を適用し，挙動を確認せよ。</font> "
      ],
      "metadata": {
        "id": "x_9M2X6oocNv"
      }
    },
    {
      "cell_type": "markdown",
      "metadata": {
        "id": "7HDqiOsmPjDl"
      },
      "source": [
        "## <font color=red>小問2: ウォード法による階層クラスタリングを実装し，その挙動を確認せよ。クラス分割数$K=6$のときのクラスタリング結果を図示せよ。</font>\n",
        "\n",
        "ヒント  \n",
        "* `get_shortest_distance`関数の要領で，ウォード法による距離を返す関数 `get_ward_distance`を作成する。\n",
        "* クラス統合を繰り返すループ内にて，`dist = get_shortest_distance(class_list[i], class_list[j])`を`dist = get_ward_distance(class_list[i], class_list[j])`に変更する。\n",
        "* [デバッグ情報] sklearnライブラリのAgglomerativeClusteringモジュールを使って実装した場合の結果を以下に示す。自分で実装した結果が合っているかの確認に利用してもらいたい。**課題はsklearnライブラリを使用せずに実装すること！**"
      ]
    },
    {
      "cell_type": "code",
      "source": [
        "from sklearn.cluster import AgglomerativeClustering\n",
        "model = AgglomerativeClustering(affinity='euclidean',linkage='ward', n_clusters=6)\n",
        "\n",
        "model = model.fit(X_norm)\n",
        "\n",
        "\n",
        "colors = ['r', 'b', 'g', 'c', 'm', 'y']\n",
        "# 二次元データのプロット\n",
        "plt.figure(figsize=(10,10))\n",
        "# セントロイドを\"x\"印でプロット \n",
        "for k in range(6):\n",
        "  c = colors[k%6] # プロットの色を，クラス番号によって自動的に変える。\n",
        "  plt.scatter(X_norm[model.labels_==k,0], X_norm[model.labels_==k,1], color=c)\n",
        "plt.xlabel('東経（標準化済み）')\n",
        "plt.ylabel('北緯（標準化済み）')\n",
        "\n",
        "# 各サンプルの名前(ラベル)を付ける\n",
        "for n in range(num_samples):\n",
        "  label = str(labels[n])\n",
        "  plt.annotate(label, (X_norm[n,0], X_norm[n,1]))\n",
        "\n",
        "plt.show()"
      ],
      "metadata": {
        "id": "gsJNkDCavqt4"
      },
      "execution_count": null,
      "outputs": []
    },
    {
      "cell_type": "markdown",
      "metadata": {
        "id": "aNJnhxAs9jaK"
      },
      "source": [
        "## <font color=red>小問3: 最短距離法とウォード法の挙動を見比べ，どういった点が異なるか，また何故そのような違いが出るのかについて考察せよ。</font>  \n",
        "【補足】  \n",
        "階層型クラスタリングの様子をアニメーションにする場合，都道府県名のラベルは表示させないようにしてください。  \n",
        "つまり，以下のコードは不要です．  \n",
        "```\n",
        "# 各サンプルの名前(ラベル)を付ける\n",
        "for n in range(num_samples):\n",
        "  label = str(labels[n])\n",
        "  plt.annotate(label, (X_norm[n,0], X_norm[n,1]))\n",
        "```\n",
        "\n",
        "（`09_01_hierarchical_clustering.ipynb` からアニメーションを作成する部分をそのままコピペすれば，都道府県は表示されません。）  \n",
        "都道府県名を表示させた状態でアニメーションを作成した場合，`convert_report.ipynb`を使ってHTMLファイル化した際に容量オーバーとなってアニメーションが表示されなくなる不具合があるためです。"
      ]
    },
    {
      "cell_type": "code",
      "source": [
        ""
      ],
      "metadata": {
        "id": "iYYV6gdltoSs"
      },
      "execution_count": null,
      "outputs": []
    }
  ]
}