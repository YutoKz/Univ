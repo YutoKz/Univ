{
  "nbformat": 4,
  "nbformat_minor": 0,
  "metadata": {
    "colab": {
      "name": "report_04.ipynb",
      "provenance": [],
      "collapsed_sections": []
    },
    "kernelspec": {
      "name": "python3",
      "display_name": "Python 3"
    },
    "language_info": {
      "name": "python"
    }
  },
  "cells": [
    {
      "cell_type": "markdown",
      "metadata": {
        "id": "LwpNJumrNIjN"
      },
      "source": [
        "# レポート課題 第4回\n",
        "\n",
        "ある時系列データに対して，直線近似と多項式近似をそれぞれ実施し，その結果を比較せよ。"
      ]
    },
    {
      "cell_type": "markdown",
      "metadata": {
        "id": "uAc77jSWOkl8"
      },
      "source": [
        "Googleドライブのマウントとフォルダ移動 "
      ]
    },
    {
      "cell_type": "code",
      "metadata": {
        "id": "3aC8AkgoOli-"
      },
      "source": [
        "from google.colab import drive\n",
        "drive.mount('/content/drive')\n",
        "# フォルダの移動には\"%cd\"を使用します。\n",
        "# 作業フォルダへ移動\n",
        "%cd /content/drive/'My Drive'/情報管理/04/\n",
        "# 現在のフォルダの中身を表示\n",
        "%ls"
      ],
      "execution_count": null,
      "outputs": []
    },
    {
      "cell_type": "markdown",
      "metadata": {
        "id": "zZbD01jyYLXs"
      },
      "source": [
        "必要ライブラリをインポート。\n",
        "\n"
      ]
    },
    {
      "cell_type": "code",
      "metadata": {
        "id": "7oxKblF81vG0"
      },
      "source": [
        "import pandas as pd\n",
        "import numpy as np\n",
        "import matplotlib.pyplot as plt"
      ],
      "execution_count": null,
      "outputs": []
    },
    {
      "cell_type": "markdown",
      "metadata": {
        "id": "gu3LnYh0YSwD"
      },
      "source": [
        "単回帰分析・重回帰分析により回帰係数を求めるための学習データを読み込む。  "
      ]
    },
    {
      "cell_type": "code",
      "metadata": {
        "id": "k14h9cjEYRbf"
      },
      "source": [
        "# 学習データの読み込み\n",
        "csv_data = pd.read_csv('train.csv', encoding='SHIFT-JIS')\n",
        "# データの前半部(.headで取得できる)のみ表示\n",
        "display(csv_data.head())\n",
        "\n",
        "# numpy用データ(ndarray型) として抽出する。\n",
        "# 説明変数\n",
        "X_train = csv_data.loc[:,'x':'x^5'].to_numpy()\n",
        "# 目的変数\n",
        "y_train = csv_data.loc[:, 'y'].to_numpy()"
      ],
      "execution_count": null,
      "outputs": []
    },
    {
      "cell_type": "markdown",
      "metadata": {
        "id": "o5uq2GKWZjov"
      },
      "source": [
        "x は x軸の値，x^n は xのn乗の値である。"
      ]
    },
    {
      "cell_type": "markdown",
      "metadata": {
        "id": "6T5hAp8XYpgR"
      },
      "source": [
        "次に，計算した回帰関数を評価するためのテストデータを読み込む"
      ]
    },
    {
      "cell_type": "code",
      "metadata": {
        "id": "Xy7nvhokYjIQ"
      },
      "source": [
        "# テストデータの読み込み\n",
        "csv_data = pd.read_csv('test.csv', encoding='SHIFT-JIS')\n",
        "# データの前半部(.headで取得できる)のみ表示\n",
        "display(csv_data.head())\n",
        "\n",
        "# numpy用データ(ndarray型) として抽出する。\n",
        "# 説明変数\n",
        "X_test = csv_data.loc[:,'x':'x^5'].to_numpy()\n",
        "# 目的変数\n",
        "y_test = csv_data.loc[:, 'y'].to_numpy()\n",
        "\n",
        "# 学習データとテストデータをプロット\n",
        "plt.figure(figsize=(10,5))\n",
        "plt.scatter(X_test[:,0], y_test, label='Test Data', color='b')\n",
        "plt.scatter(X_train[:,0], y_train, label='Training Data', color='g')\n",
        "plt.xlabel('x')\n",
        "plt.ylabel('y')\n",
        "plt.legend()\n",
        "plt.show()"
      ],
      "execution_count": null,
      "outputs": []
    },
    {
      "cell_type": "markdown",
      "metadata": {
        "id": "X-vRTA50vxY8"
      },
      "source": [
        "# 問1: 直線近似\n",
        "学習データ `y_train` に対して $y = a*x + b$ という直線関数で近似し，求めた回帰係数 ${\\bf a} = [a, b]^{T}$ をテストデータ `X_test` に適用して `y_test` の推定値 `predicted_slr` を求めたい。  \n",
        "この一連の処理を行うソースコードを以下に記述せよ。"
      ]
    },
    {
      "cell_type": "code",
      "source": [
        "# 以降，適宜コードセルやテキストセルを追加して，問１の回答を記述する。"
      ],
      "metadata": {
        "id": "ng5M2iECIwB_"
      },
      "execution_count": null,
      "outputs": []
    },
    {
      "cell_type": "markdown",
      "metadata": {
        "id": "2_f4Wnni74oW"
      },
      "source": [
        "# 問2: 多項式近似\n",
        "学習データ `y_train` に対して $y = a_1x + a_2x^2 + a_3x^3 + a_4x^4 + a_5x^5 + b$ という5次関数で近似し，求めた回帰係数 ${\\bf a} = [a_1, a_2, a_3, a_4, a_5, b]^{T}$ をテストデータ `X_test` に適用して `y_test` の推定値 `predicted_mlr` を求めたい。  \n",
        "この一連の処理を行うソースコードを以下に記述せよ。"
      ]
    },
    {
      "cell_type": "code",
      "metadata": {
        "id": "xzTfJVjo8bYx"
      },
      "source": [
        "# 以降，適宜コードセルやテキストセルを追加して，問２の回答を記述する。"
      ],
      "execution_count": null,
      "outputs": []
    },
    {
      "cell_type": "markdown",
      "metadata": {
        "id": "WTmybrS_d50Y"
      },
      "source": [
        "y について，学習データとテストデータを点で，直線近似`predicted_slr`および多項式近似`predicted_slr`による推定値を線でプロットするコードを以下に記載する。  \n",
        "問１，２が正しく書けていれば，エラー無くプロットが行えるはずである。"
      ]
    },
    {
      "cell_type": "code",
      "metadata": {
        "id": "S6baiii98w8a"
      },
      "source": [
        "# 学習データとテストデータをプロット\n",
        "plt.figure(figsize=(10,5))\n",
        "plt.scatter(X_test[:,0], y_test, label='Test Data', color='b')\n",
        "plt.scatter(X_train[:,0], y_train, label='Training Data', color='g')\n",
        "plt.plot(X_test[:,0], predicted_slr, label='Single linear regression', color='r')\n",
        "plt.plot(X_test[:,0], predicted_mlr, label='Multiple linear regression', color='m')\n",
        "plt.xlabel('x')\n",
        "plt.ylabel('y')\n",
        "plt.legend()\n",
        "plt.show()"
      ],
      "execution_count": null,
      "outputs": []
    },
    {
      "cell_type": "markdown",
      "metadata": {
        "id": "m8q68HNX8_L3"
      },
      "source": [
        "# 問3:（メイン問題）\n",
        "直線近似および多項式近似による y の推定結果について，  \n",
        "上記のプロット結果や，学習データに対する推定誤差・相関係数，テストデータに対する推定誤差・相関係数などを見ながら，直線近似と多項式近似の長所・短所について考察せよ。  \n",
        "\n",
        "考察内容を，以下に自由に記述せよ。必要であればソースコードを記述してもよい。"
      ]
    },
    {
      "cell_type": "code",
      "metadata": {
        "id": "BO1LUTQcfVwB"
      },
      "source": [
        ""
      ],
      "execution_count": null,
      "outputs": []
    }
  ]
}