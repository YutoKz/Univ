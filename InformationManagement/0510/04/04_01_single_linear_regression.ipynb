{
  "nbformat": 4,
  "nbformat_minor": 0,
  "metadata": {
    "colab": {
      "name": "04_01_single_linear_regression.ipynb",
      "provenance": [],
      "collapsed_sections": []
    },
    "kernelspec": {
      "name": "python3",
      "display_name": "Python 3"
    },
    "language_info": {
      "name": "python"
    }
  },
  "cells": [
    {
      "cell_type": "markdown",
      "metadata": {
        "id": "LwpNJumrNIjN"
      },
      "source": [
        "# 第4回 その1: 単回帰分析\n",
        "前回の講義で高い相関を示す例として紹介した気温とアイスクリーム売上のデータを使用して，気温からアイス売上を予測してみましょう。\n"
      ]
    },
    {
      "cell_type": "markdown",
      "metadata": {
        "id": "uAc77jSWOkl8"
      },
      "source": [
        "## ステップ0: Google Driveのマウントと作業フォルダへの移動  \n",
        "Google Drive に配置したデータを読み込むための準備です。  \n",
        "詳細については第二回の 02_01_graph.ipynb を参照してください。  \n",
        "\n",
        "ここでは\"マイドライブ/情報管理/04\"を作業フォルダとします。 "
      ]
    },
    {
      "cell_type": "code",
      "metadata": {
        "id": "3aC8AkgoOli-"
      },
      "source": [
        "from google.colab import drive\n",
        "drive.mount('/content/drive')\n",
        "# フォルダの移動には\"%cd\"を使用します。\n",
        "# 作業フォルダへ移動\n",
        "%cd /content/drive/'My Drive'/情報管理/04/\n",
        "# 現在のフォルダの中身を表示\n",
        "%ls"
      ],
      "execution_count": null,
      "outputs": []
    },
    {
      "cell_type": "markdown",
      "metadata": {
        "id": "3Iytnzy4NHlP"
      },
      "source": [
        "`icecream.csv`というデータが表示されていることを確認してください。"
      ]
    },
    {
      "cell_type": "markdown",
      "metadata": {
        "id": "zZbD01jyYLXs"
      },
      "source": [
        "## ステップ1: 単回帰分析\n",
        "まずは必要ライブラリをインポートします。"
      ]
    },
    {
      "cell_type": "code",
      "metadata": {
        "id": "7oxKblF81vG0"
      },
      "source": [
        "import pandas as pd\n",
        "import numpy as np\n",
        "import matplotlib.pyplot as plt"
      ],
      "execution_count": null,
      "outputs": []
    },
    {
      "cell_type": "markdown",
      "metadata": {
        "id": "gu3LnYh0YSwD"
      },
      "source": [
        "`icecream.csv` を読み込み，データをプロットします。"
      ]
    },
    {
      "cell_type": "code",
      "metadata": {
        "id": "k14h9cjEYRbf"
      },
      "source": [
        "# pandas の関数 read_csv を用いた csvファイル読み込み\n",
        "csv_data = pd.read_csv('icecream.csv', encoding='SHIFT-JIS')\n",
        "# データの前半部(.headで取得できる)のみ表示\n",
        "display(csv_data.head())\n",
        "\n",
        "month = csv_data.loc[:, '年月']\n",
        "# numpy用データ(ndarray型) として抽出する。\n",
        "kion = csv_data.loc[:, '平均気温(℃)'].to_numpy()\n",
        "ice = csv_data.loc[:, 'アイス支出額(円)'].to_numpy()\n",
        "\n",
        "# 抽出したデータをプロット\n",
        "plt.figure(figsize=(13,10))\n",
        "x = np.arange(np.size(kion))\n",
        "# 2分割した上段に気温をプロット\n",
        "plt.subplot(2,1,1)\n",
        "plt.plot(x, kion, color='b')\n",
        "# 補助目盛線の描画\n",
        "plt.grid(axis='x')\n",
        "# x軸の目盛りラベルの設定\n",
        "plt.xticks(x, month, rotation=90)\n",
        "plt.ylabel('Temperature [degree]')\n",
        "# 下段にアイス支出額をプロット\n",
        "plt.subplot(2,1,2)\n",
        "plt.plot(x, ice, color='b')\n",
        "plt.grid(axis='x')\n",
        "plt.xticks(x, month, rotation=90)\n",
        "plt.ylabel('Expending for icecream [yen]')\n",
        "plt.show()"
      ],
      "execution_count": null,
      "outputs": []
    },
    {
      "cell_type": "markdown",
      "metadata": {
        "id": "VIduPN0vZkAO"
      },
      "source": [
        "単回帰分析の関数を以下に定義します。  \n",
        "中身は第3回で紹介した直線近似を行う関数（03_02_approximate_function.ipynb の linear_approx 参照）とほぼ同じです。  \n",
        "お互いの関数を見比べてみて，違いを確認してください。"
      ]
    },
    {
      "cell_type": "code",
      "metadata": {
        "id": "Id3HQ7OCaiCz"
      },
      "source": [
        "# 単回帰分析を行う\n",
        "def slr(x, y):\n",
        "  '''\n",
        "      x: 説明変数\n",
        "      y: 目的変数\n",
        "  '''\n",
        "  N = np.size(x)\n",
        "  # 係数計算に必要な変数の計算\n",
        "  xx = x * x\n",
        "  xy = x * y\n",
        "  \n",
        "  # a と b の計算で共通する分母の計算\n",
        "  bunbo = N * np.sum(xx) - np.sum(x)*np.sum(x)\n",
        "\n",
        "  # a および b の計算\n",
        "  a = (N*np.sum(xy) - np.sum(x)*np.sum(y)) / bunbo\n",
        "  b = (np.sum(xx)*np.sum(y) - np.sum(xy)*np.sum(x)) / bunbo\n",
        "\n",
        "  return (a, b)"
      ],
      "execution_count": null,
      "outputs": []
    },
    {
      "cell_type": "markdown",
      "metadata": {
        "id": "JmOPwa4BnBlZ"
      },
      "source": [
        "上で定義した関数 `slr` を使って，説明変数を気温 `kion`，目的変数を `ice` として単回帰分析を行います。"
      ]
    },
    {
      "cell_type": "code",
      "metadata": {
        "id": "92AkHWuUlMUI"
      },
      "source": [
        "# 単回帰分析を実行し，回帰係数を求める。\n",
        "(a, b) = slr(kion, ice)\n",
        "print('regression function: ice = %f * kion + %f' % (a, b))\n",
        "\n",
        "# 気温から推定されるアイスの売上\n",
        "predicted = a * kion + b"
      ],
      "execution_count": null,
      "outputs": []
    },
    {
      "cell_type": "markdown",
      "metadata": {
        "id": "jVlGoD-MnZFk"
      },
      "source": [
        "気温から推定されたアイスの売上（Predicted value）と，実際のアイスの売上（True value）をプロットし，比較してみます。"
      ]
    },
    {
      "cell_type": "code",
      "metadata": {
        "id": "sEVRyAXKllPM"
      },
      "source": [
        "x = np.arange(np.size(kion))\n",
        "plt.figure(figsize=(13,5))\n",
        "plt.plot(x, ice, label='True value', color='b')\n",
        "plt.plot(x, predicted, label='Predicted value', color='r')\n",
        "plt.grid(axis='x')\n",
        "plt.xticks(x, month, rotation=90)\n",
        "plt.ylabel('Expending for icecream [yen]')\n",
        "plt.legend()\n",
        "plt.show()"
      ],
      "execution_count": null,
      "outputs": []
    },
    {
      "cell_type": "markdown",
      "metadata": {
        "id": "SCV2sFUYnik0"
      },
      "source": [
        "推定値と実際のアイス売上の誤差を計算してみます。"
      ]
    },
    {
      "cell_type": "code",
      "metadata": {
        "id": "nQTxJ-20oq-C"
      },
      "source": [
        "# 平均二乗誤差(mean square error)\n",
        "mse = np.mean((ice - predicted)*(ice - predicted))\n",
        "# 平均平方根二乗誤差 (root mean square error) = mse の平方根\n",
        "rmse = np.sqrt(mse)\n",
        "\n",
        "print('MSE = %f' % (mse))\n",
        "print('RMSE = %f' % (rmse))"
      ],
      "execution_count": null,
      "outputs": []
    },
    {
      "cell_type": "markdown",
      "metadata": {
        "id": "gfb6dwqho20Y"
      },
      "source": [
        "平均 121.4 円程度の誤差で推定できていることが分かりました。"
      ]
    },
    {
      "cell_type": "markdown",
      "metadata": {
        "id": "-R7ZcWg3aHwk"
      },
      "source": [
        "横軸：気温，縦軸：アイス売上の散布図と，  \n",
        "横軸：アイス売上推定値，縦軸：アイス売上実際値の散布図をそれぞれ表示してみましょう。  \n",
        "  "
      ]
    },
    {
      "cell_type": "code",
      "metadata": {
        "id": "TuOu-0rqhBPg"
      },
      "source": [
        "# 横軸：気温，縦軸：アイス売上として散布図をプロット\n",
        "plt.figure(figsize=(11,5))\n",
        "plt.subplot(1,2,1)\n",
        "plt.scatter(kion, ice, color='b')\n",
        "plt.title('Temperature vs Expending for icecream')\n",
        "plt.xlabel('Temperature [degree]')\n",
        "plt.ylabel('Expending for icecream [yen]')\n",
        "\n",
        "# 横軸：アイス売上の推定値，縦軸：アイス売上の実際の値として散布図をプロット\n",
        "plt.subplot(1,2,2)\n",
        "plt.scatter(predicted, ice, color='b')\n",
        "plt.title('Predicted vs True Values of Expending for Icecream')\n",
        "plt.xlabel('Predicted value [yen]')\n",
        "plt.ylabel('True value [yen]')\n",
        "plt.show()"
      ],
      "execution_count": null,
      "outputs": []
    },
    {
      "cell_type": "markdown",
      "metadata": {
        "id": "xxBJdgfwiaKp"
      },
      "source": [
        "二つの図を見比べると，軸の値自体は異なりますが，散布図の様子は同じに見えます。\n",
        "\n",
        "次に，気温とアイス売上の相関係数と，アイス売上の推定値と実際値の相関係数を求めてみましょう。"
      ]
    },
    {
      "cell_type": "code",
      "metadata": {
        "id": "MAcpn0AXZCCu"
      },
      "source": [
        "# 相関係数を求める関数\n",
        "def calc_corr_coef(x, y):\n",
        "  '''\n",
        "      x, y: 相関を求めたいデータ\n",
        "  '''\n",
        "  mu_x = np.mean(x)\n",
        "  mu_y = np.mean(y)\n",
        "  std_x = np.std(x)\n",
        "  std_y = np.std(y)\n",
        "\n",
        "  corr_coef = np.mean((x - mu_x) * (y - mu_y)) / (std_x * std_y)\n",
        "\n",
        "  return corr_coef\n",
        "\n",
        "# 気温とアイス売上の相関係数\n",
        "corr_coef = calc_corr_coef(kion, ice)\n",
        "print('correlation coefficent between temperature and expending for icecream = %f' % (corr_coef))\n",
        "\n",
        "# アイス売上の推定値と実際値の相関係数\n",
        "corr_coef = calc_corr_coef(predicted, ice)\n",
        "print('correlation coefficent between predicted vs true Values of expending for icecream = %f' % (corr_coef))"
      ],
      "execution_count": null,
      "outputs": []
    },
    {
      "cell_type": "markdown",
      "metadata": {
        "id": "gax909Dzjml4"
      },
      "source": [
        "相関係数が全く同じ値になることが確認できました。\n",
        "\n",
        "推定値と実際値が全く同じ場合＝推定が完璧にできている場合，相関係数は 1.0 になります。  \n",
        "つまり，<font color=\"Red\">**相関係数は推定がうまく行っているかの指標になっている**</font>と言えます。  \n",
        "\n",
        "推定結果と実際値の間の相関係数が，説明変数(気温)と目的変数(アイス売上)の相関係数と一致するということは，単回帰分析による推定がうまく行くか否かは，実際に推定を行わなくても，説明変数と目的変数の相関係数を計算すれば分かるということを意味します。"
      ]
    },
    {
      "cell_type": "code",
      "metadata": {
        "id": "Mr4U2IaTpCd9"
      },
      "source": [
        ""
      ],
      "execution_count": null,
      "outputs": []
    }
  ]
}