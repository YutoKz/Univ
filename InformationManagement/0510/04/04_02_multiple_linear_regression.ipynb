{
  "nbformat": 4,
  "nbformat_minor": 0,
  "metadata": {
    "colab": {
      "name": "04_02_multiple_linear_regression.ipynb",
      "provenance": [],
      "collapsed_sections": []
    },
    "kernelspec": {
      "name": "python3",
      "display_name": "Python 3"
    },
    "language_info": {
      "name": "python"
    }
  },
  "cells": [
    {
      "cell_type": "markdown",
      "metadata": {
        "id": "LwpNJumrNIjN"
      },
      "source": [
        "# 第4回 その2: 重回帰分析\n",
        "その1:単回帰分析では気温データのみを用いてアイスの売上を予測しようとしていました。  \n",
        "今回は，気温に加えて降水量と湿度のデータも用いてアイスの売り上げを予測してみます。\n"
      ]
    },
    {
      "cell_type": "markdown",
      "metadata": {
        "id": "uAc77jSWOkl8"
      },
      "source": [
        "## ステップ0: Google Driveのマウントと作業フォルダへの移動  \n",
        "Google Drive に配置したデータを読み込むための準備です。  \n",
        "詳細については第二回の 02_01_graph.ipynb を参照してください。  \n",
        "\n",
        "ここでは\"マイドライブ/情報管理/04\"を作業フォルダとします。 "
      ]
    },
    {
      "cell_type": "code",
      "metadata": {
        "id": "3aC8AkgoOli-"
      },
      "source": [
        "from google.colab import drive\n",
        "drive.mount('/content/drive')\n",
        "# フォルダの移動には\"%cd\"を使用します。\n",
        "# 作業フォルダへ移動\n",
        "%cd /content/drive/'My Drive'/情報管理/04/\n",
        "# 現在のフォルダの中身を表示\n",
        "%ls"
      ],
      "execution_count": null,
      "outputs": []
    },
    {
      "cell_type": "markdown",
      "metadata": {
        "id": "3Iytnzy4NHlP"
      },
      "source": [
        "`icecream2.csv`というデータが表示されていることを確認してください。"
      ]
    },
    {
      "cell_type": "markdown",
      "metadata": {
        "id": "zZbD01jyYLXs"
      },
      "source": [
        "## ステップ1: 重回帰分析\n",
        "まずは必要ライブラリをインポートします。"
      ]
    },
    {
      "cell_type": "code",
      "metadata": {
        "id": "7oxKblF81vG0"
      },
      "source": [
        "import pandas as pd\n",
        "import numpy as np\n",
        "import matplotlib.pyplot as plt"
      ],
      "execution_count": null,
      "outputs": []
    },
    {
      "cell_type": "markdown",
      "metadata": {
        "id": "gu3LnYh0YSwD"
      },
      "source": [
        "`icecream2.csv` を読み込みます。  \n",
        "このデータは，`icecream.csv`に記録されていた東京の平均気温，アイス支出額に加えて，降水量と平均湿度も加わったデータです。"
      ]
    },
    {
      "cell_type": "code",
      "metadata": {
        "id": "k14h9cjEYRbf"
      },
      "source": [
        "# pandas の関数 read_csv を用いた csvファイル読み込み\n",
        "csv_data = pd.read_csv('icecream2.csv', encoding='SHIFT-JIS')\n",
        "# データの前半部(.headで取得できる)のみ表示\n",
        "display(csv_data.head())\n",
        "\n",
        "month = csv_data.loc[:, '年月']\n",
        "# numpy用データ(ndarray型) として抽出する。\n",
        "# 説明変数：平均気温，降水量，湿度を得る\n",
        "X = csv_data.loc[:, '平均気温(℃)':'平均湿度(％)'].to_numpy()\n",
        "# 目的変数：アイス支出額を得る\n",
        "y = csv_data.loc[:, 'アイス支出額(円)'].to_numpy()\n",
        "\n",
        "# 説明変数のサンプル数と次元数を得る。\n",
        "(num_samples, num_dimensions) = np.shape(X)\n",
        "print('Nunber of samples: ' + str(num_samples))\n",
        "print('Number of dimensions: ' + str(num_dimensions))"
      ],
      "execution_count": null,
      "outputs": []
    },
    {
      "cell_type": "markdown",
      "metadata": {
        "id": "mVMTB3rmTdL_"
      },
      "source": [
        "説明変数は「平均気温」，「降水量の合計」，「平均湿度」の3つなので，  \n",
        "説明変数`X` は 3次元ベクトルが 36個(12か月x3年) 入ったデータとなります。"
      ]
    },
    {
      "cell_type": "markdown",
      "metadata": {
        "id": "vN03tWnkT6Va"
      },
      "source": [
        "説明変数の各次元と，目的変数をプロットしてみます。"
      ]
    },
    {
      "cell_type": "code",
      "metadata": {
        "id": "IzdkA1bbSuPj"
      },
      "source": [
        "ylabel_set = ['Temperature [deg]', 'Rainfall [mm]', 'Humidity [%]']\n",
        "plt.figure(figsize=(15,20))\n",
        "x = np.arange(np.size(month))\n",
        "\n",
        "# 説明変数のプロット\n",
        "for n in range(3):\n",
        "  plt.subplot(4,1,n+1)\n",
        "  plt.plot(x, X[:,n], color='b', label=ylabel_set[n])\n",
        "  # 補助目盛線の描画\n",
        "  plt.grid(axis='x')\n",
        "  # x軸の目盛りラベルの設定\n",
        "  plt.xticks(x, month, rotation=90)\n",
        "  plt.ylabel(ylabel_set[n])\n",
        "  plt.legend()\n",
        "\n",
        "# 目的変数のプロット\n",
        "plt.subplot(4,1,4)\n",
        "plt.plot(x, y, color='b', label='Expending for icecream [yen]')\n",
        "plt.grid(axis='x')\n",
        "plt.xticks(x, month, rotation=90)\n",
        "plt.ylabel('Expending for icecream [yen]')\n",
        "plt.legend()\n",
        "plt.show()"
      ],
      "execution_count": null,
      "outputs": []
    },
    {
      "cell_type": "markdown",
      "metadata": {
        "id": "X-vRTA50vxY8"
      },
      "source": [
        "重回帰分析を行う関数を以下に定義します。  \n",
        "以下の関数では，単回帰分析にも対応するような実装をしています。  "
      ]
    },
    {
      "cell_type": "code",
      "metadata": {
        "id": "3PrpT8E6gBaS"
      },
      "source": [
        "# 重回帰分析を行う\n",
        "def mlr(x, y):\n",
        "  '''\n",
        "      x: 説明変数 [サンプル数, 次元数]の行列\n",
        "      y: 目的変数 [サンプル数] のベクトル\n",
        "  '''\n",
        "  # 単回帰分析にも対応するための処理\n",
        "  if x.ndim == 1:\n",
        "    X = np.reshape(x, (-1,1))\n",
        "  else:\n",
        "    X = np.array(x)\n",
        "\n",
        "  # 入力された説明変数のサンプル数と次元数を得る\n",
        "  (num_samples, num_dimensions) = np.shape(X)\n",
        "  \n",
        "  # 切片（バイアス）に相当する項を説明変数に追加\n",
        "  # x が\n",
        "  # x11 x12\n",
        "  # x21 x22\n",
        "  # という行列の場合，X は\n",
        "  # x11 x12 1\n",
        "  # x21 x22 1\n",
        "  # という行列になる\n",
        "  X = np.concatenate((X, np.ones((num_samples, 1))), axis=1)\n",
        "\n",
        "  # 重回帰分析の式\n",
        "  XX = np.dot(X.T, X)\n",
        "  XXX = np.dot(np.linalg.inv(XX), X.T)\n",
        "  a = np.dot(XXX, y)\n",
        "  \n",
        "  # a の最後の要素は切片に相当\n",
        "  b = a[-1]\n",
        "  # a の最後を除く要素は各説明変数の係数に相当\n",
        "  a = a[:-1]\n",
        "  \n",
        "  return (a, b)"
      ],
      "execution_count": null,
      "outputs": []
    },
    {
      "cell_type": "markdown",
      "metadata": {
        "id": "UERMhs2_wKam"
      },
      "source": [
        "関数 `mlr` を用いて重回帰分析を実行します。"
      ]
    },
    {
      "cell_type": "code",
      "metadata": {
        "id": "1klf0X734hPM"
      },
      "source": [
        "(a, b) = mlr(X, y)\n",
        "\n",
        "print('Result of multiple linear regression')\n",
        "print('y = (%f * temperature) + (%f * rainfall) + (%f * humidity) + %f' % (a[0], a[1], a[2], b))\n",
        "\n",
        "predicted_mlr = np.dot(X, a) + b"
      ],
      "execution_count": null,
      "outputs": []
    },
    {
      "cell_type": "markdown",
      "metadata": {
        "id": "53LPfJuQxENr"
      },
      "source": [
        "重回帰分析の結果によると，気温に対する回帰係数は正の値，降水量に対する回帰係数は0に近い負の値，湿度に対する回帰係数は負の値になりました。    \n",
        "この回帰式においては，気温が高い程アイスはよく売れ，一方湿度が高いとあまり売れなくなります。また降水量はアイス売上とはほとんど関係しないということになります。"
      ]
    },
    {
      "cell_type": "markdown",
      "metadata": {
        "id": "vDr8dAiayK3v"
      },
      "source": [
        "比較のため，気温だけを説明変数に用いた場合の単回帰分析も実行します。  \n",
        "用いる関数は 04_01_single_linear_regression.ipynb の `slr` と異なりますが，結果は04_01_single_linear_regression.ipynbと同じになります。  "
      ]
    },
    {
      "cell_type": "code",
      "metadata": {
        "id": "cKJwAyKuyVWK"
      },
      "source": [
        "# X の0次元目(=気温)のみを抽出して mlr に入力する。\n",
        "(a, b) = mlr(X[:, 0], y)\n",
        "\n",
        "print('Result of sinlge linear regression')\n",
        "print('y = %f * temperature + %f' % (a, b))\n",
        "\n",
        "predicted_slr = a * X[:,0] + b"
      ],
      "execution_count": null,
      "outputs": []
    },
    {
      "cell_type": "markdown",
      "metadata": {
        "id": "iWAdmRg-zLao"
      },
      "source": [
        "単回帰分析（気温のみを使用）と重回帰分析（気温，降水量，湿度を使用）のアイス売上推定結果をプロットして比べてみます。"
      ]
    },
    {
      "cell_type": "code",
      "metadata": {
        "id": "bfXMUf1ipvRR"
      },
      "source": [
        "x = np.arange(np.size(month))\n",
        "plt.figure(figsize=(13,5))\n",
        "plt.plot(x, y, label='True value', color='b')\n",
        "plt.plot(x, predicted_slr, label='Single linear regression', color='r')\n",
        "plt.plot(x, predicted_mlr, label='Multiple linear regression', color='g')\n",
        "plt.grid(axis='x')\n",
        "plt.xticks(x, month, rotation=90)\n",
        "plt.ylabel('Expending for icecream [yen]')\n",
        "plt.legend()\n",
        "plt.show()"
      ],
      "execution_count": null,
      "outputs": []
    },
    {
      "cell_type": "markdown",
      "metadata": {
        "id": "lCeE-mWQ2DGQ"
      },
      "source": [
        "推定誤差と相関係数を比較してみます。"
      ]
    },
    {
      "cell_type": "code",
      "metadata": {
        "id": "oMMPtzAsp2gj"
      },
      "source": [
        "# 相関係数を求める関数\n",
        "def calc_corr_coef(x, y):\n",
        "  '''\n",
        "      x, y: 相関を求めたいデータ\n",
        "  '''\n",
        "  mu_x = np.mean(x)\n",
        "  mu_y = np.mean(y)\n",
        "  std_x = np.std(x)\n",
        "  std_y = np.std(y)\n",
        "\n",
        "  corr_coef = np.mean((x - mu_x) * (y - mu_y)) / (std_x * std_y)\n",
        "\n",
        "  return corr_coef\n",
        "\n",
        "# 単回帰分析の誤差・相関係数\n",
        "mse = np.mean((y - predicted_slr)*(y - predicted_slr))\n",
        "rmse = np.sqrt(mse)\n",
        "corr_coef = calc_corr_coef(predicted_slr, y)\n",
        "print('Single linear regression')\n",
        "print('  MSE = %f' % (mse))\n",
        "print('  RMSE = %f' % (rmse))\n",
        "print('  Correlation coefficent = %f' % (corr_coef))\n",
        "print('----------------------------')\n",
        "# 重回帰分析の誤差・相関係数\n",
        "mse = np.mean((y - predicted_mlr)*(y - predicted_mlr))\n",
        "rmse = np.sqrt(mse)\n",
        "corr_coef = calc_corr_coef(predicted_mlr, y)\n",
        "print('Multiple linear regression')\n",
        "print('  MSE = %f' % (mse))\n",
        "print('  RMSE = %f' % (rmse))\n",
        "print('  Correlation coefficent = %f' % (corr_coef))"
      ],
      "execution_count": null,
      "outputs": []
    },
    {
      "cell_type": "markdown",
      "metadata": {
        "id": "U5aXXzJm22uf"
      },
      "source": [
        "比較すると，単回帰分析よりも推定誤差が小さくなり，また相関係数も高くなっていることが分かりました。  \n",
        "\n",
        "とは言え本当にこの重回帰分析結果が正しいかどうかは，今回用いたデータの収集期間（2017～2019年）以外のデータ（テストデータ）に対しても誤差を計算するなどして，きちんと検証する必要がある点には注意してください。"
      ]
    },
    {
      "cell_type": "code",
      "metadata": {
        "id": "DErtDuYdsW6V"
      },
      "source": [
        ""
      ],
      "execution_count": null,
      "outputs": []
    }
  ]
}