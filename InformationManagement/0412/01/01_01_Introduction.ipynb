{
  "nbformat": 4,
  "nbformat_minor": 0,
  "metadata": {
    "colab": {
      "name": "01_01_Introduction.ipynb",
      "provenance": [],
      "collapsed_sections": []
    },
    "kernelspec": {
      "name": "python3",
      "display_name": "Python 3"
    },
    "language_info": {
      "name": "python"
    }
  },
  "cells": [
    {
      "cell_type": "markdown",
      "metadata": {
        "id": "3mhN1wHujkrs"
      },
      "source": [
        "# 第1回 その1: Jupyter Notebook with Google Colaboratory の紹介\n",
        "ここでは，Google Colaboratory サービス (以下，Google Colab) を利用して Jupyter Notebook を動かしてみましょう。  \n",
        "Jupyter Notebook では，Pythonのソースコードとその実行結果，テキストメモを記録することができます。  \n",
        "本講義では<font color=\"Red\">**Jupyter Notebookを用いてレポートを作成してもらいます**</font>ので，使い方を覚えましょう。"
      ]
    },
    {
      "cell_type": "markdown",
      "metadata": {
        "id": "CSR-5C5cjkrW"
      },
      "source": [
        " ## ステップ1: Python ソースコードの記述と実行  \n",
        " Jupyter Notebook では Python のソースコードを記述して実行し，その結果を記録することができます。  \n",
        " 以下のソースコードを実行してみましょう。  "
      ]
    },
    {
      "cell_type": "code",
      "metadata": {
        "id": "1EzBeieTpRTG"
      },
      "source": [
        "import numpy as np\n",
        "import matplotlib.pyplot as plt\n",
        "\n",
        "print('Plot sine wave')\n",
        "\n",
        "timeline = np.linspace(0,5*np.pi,100)\n",
        "wave = np.sin(timeline)\n",
        "plt.figure()\n",
        "plt.plot(timeline, wave)\n",
        "plt.show()"
      ],
      "execution_count": null,
      "outputs": []
    },
    {
      "cell_type": "markdown",
      "metadata": {
        "id": "NJ8V4QhgqCK1"
      },
      "source": [
        "実行すると\"Plot sine wave\"という文字列と，サイン波のプロットが表示されるはずです。  \n",
        "(初回実行時のみ，結果が出るまで数秒かかります。これはGoogle Colabサーバへの接続があるためです。）  \n",
        "本講義では，Pythonによるプログラミングを通じて，データを分析したりプロットによる可視化を行っていきます。  "
      ]
    },
    {
      "cell_type": "markdown",
      "metadata": {
        "id": "iRHyIwmmMHBH"
      },
      "source": [
        "## ステップ2: Markdown によるノートの記述  \n",
        "Jupyter Notebookではソースコードだけでなく，メモ書きなどを記述することができます。（今この文章が書かれている部分がそれにあたります。）  \n",
        "文章は<font color=\"Red\">**Markdown（マークダウン）**</font>と呼ばれる形式で記述します。  \n",
        "単なるPythonソースコード中のコメントとは違って，文字を大きくして見出しを作ったり，文字に色を付けたり，箇条書きを作ったりできるので，見やすい文章が作成できます。  \n",
        "**Python で作成したプロット図やMarkdownによる文章を駆使して，これからのレポートを作成してもらいます。**  "
      ]
    },
    {
      "cell_type": "code",
      "metadata": {
        "id": "iksIl1k_N442"
      },
      "source": [
        ""
      ],
      "execution_count": null,
      "outputs": []
    }
  ]
}