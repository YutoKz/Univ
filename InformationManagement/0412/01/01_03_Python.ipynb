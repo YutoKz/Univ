{
  "nbformat": 4,
  "nbformat_minor": 0,
  "metadata": {
    "colab": {
      "name": "01_03_Python.ipynb",
      "provenance": [],
      "collapsed_sections": []
    },
    "kernelspec": {
      "name": "python3",
      "display_name": "Python 3"
    },
    "language_info": {
      "name": "python"
    }
  },
  "cells": [
    {
      "cell_type": "markdown",
      "metadata": {
        "id": "3mhN1wHujkrs"
      },
      "source": [
        "# 第1回 その3: Pythonの基礎\n",
        "ここでは，プログラミング言語「Python」の基本部分について解説します。  \n",
        "この授業はデータ処理の技術を実際に動かしながら学ぶことが目的であり，Pythonをマスターすることは目的ではありません。  \n",
        "そのため，授業の理解に必要最低限の部分に絞って解説していきます。\n",
        "\n",
        "Pythonは動かすだけならC言語よりも簡単だと思いますので，C言語プログラミングが苦手な方も，苦手意識を持たずに取り組んでいきましょう。"
      ]
    },
    {
      "cell_type": "markdown",
      "metadata": {
        "id": "fJJxC_Z5GZ_Y"
      },
      "source": [
        "## ステップ1: 結果の表示とコメントの記述  \n",
        "\n",
        "計算結果や文字列を表示するとき（C言語におけるprintfに相当）は<font color=\"Red\"> **`print`**</font>を使用します。  \n",
        "コメントを書く時は<font color=\"Red\"> **`#`**</font>を文頭に書きます。  \n",
        "複数行まとめてコメントアウトしたい場合は<font color=\"Red\"> **`'''`**</font>で囲みます  \n"
      ]
    },
    {
      "cell_type": "code",
      "metadata": {
        "id": "1k7nVe7w175d"
      },
      "source": [
        "# この行はコメントです。\n",
        "'''\n",
        "複数行コメントする場合は\n",
        "このようにします。\n",
        "'''\n",
        "print('a = ')\n",
        "a = 10\n",
        "print(a)\n",
        "\n",
        "# 文字列と変数を一緒にprintしたい場合は，例えば以下のようにします。\n",
        "print('a = ' + str(a))"
      ],
      "execution_count": null,
      "outputs": []
    },
    {
      "cell_type": "markdown",
      "metadata": {
        "id": "FHPa4MKS_L34"
      },
      "source": [
        "`str(a)`は，「変数aを文字列型(string型)に変える」という意味です。  \n",
        "`'a = ' + str(a)` は文字列`'a = '`と文字列`str(a)`を結合するという意味です。  "
      ]
    },
    {
      "cell_type": "markdown",
      "metadata": {
        "id": "rRVzBwxhcfGf"
      },
      "source": [
        "## ステップ2: 算術演算  \n",
        "算術演算は以下のように行います。"
      ]
    },
    {
      "cell_type": "code",
      "metadata": {
        "id": "4MOahD2I_Lpd"
      },
      "source": [
        "print(2 + 3)  # 加算\n",
        "print(2 - 3)  # 減算\n",
        "print(2 * 3)  # 乗算\n",
        "print(7 / 2)  # 除算\n",
        "print(7 // 2) # 整数の商\n",
        "print(7 % 2)  # 整数の余り\n",
        "print(7 ** 2) # 累乗"
      ],
      "execution_count": null,
      "outputs": []
    },
    {
      "cell_type": "markdown",
      "metadata": {
        "id": "EULXcNurjJxa"
      },
      "source": [
        "## ステップ3: データの型と変数  \n",
        "変数に値を代入するときは，C言語と同じく<font color=\"Red\"> **`=`**</font>を用います。  \n",
        "C言語と同様に，Pythonにもintやfloatといったデータの型があります。  \n",
        "データの型を調べるには，<font color=\"Red\"> **`type`**</font>関数を用います。  "
      ]
    },
    {
      "cell_type": "code",
      "metadata": {
        "id": "LPzU0V-be7yJ"
      },
      "source": [
        "x = 10\n",
        "print('x = ' + str(x))\n",
        "print(type(x))\n",
        "\n",
        "x = x * 1.5\n",
        "print('x = ' + str(x))\n",
        "print(type(x))\n",
        "\n",
        "x = 'Hello'\n",
        "print('x = ' + x)\n",
        "print(type(x))"
      ],
      "execution_count": null,
      "outputs": []
    },
    {
      "cell_type": "markdown",
      "metadata": {
        "id": "wyiwXspOfoc8"
      },
      "source": [
        "それぞれ整数(int)型，浮動小数点(float)型，文字列(str)型と表示されました。\n",
        "\n",
        "ここで，`x = 10`のときはint型だった`x`が，`x = x * 1.5`とすることでfloat型に変化したことが分かります。  \n",
        "事前に型を定義する必要があるC言語と異なり，Pythonでは，<font color=\"Red\"> **変数の型は値や計算内容に応じて自動的に決定・変更されます**</font>。  \n",
        "このようなプログラミング言語は「**動的型付き言語**」と呼ばれます。"
      ]
    },
    {
      "cell_type": "markdown",
      "metadata": {
        "id": "CSR-5C5cjkrW"
      },
      "source": [
        " ## ステップ4: リスト（配列）\n",
        "C言語のように`[]`を使って配列を定義できます。 \n",
        "Pythonでは <font color=\"Red\"> **リスト**</font>と呼びます。  \n",
        "リストの要素数は<font color=\"Red\"> **`len`**</font>関数を使って得ることができます。  \n",
        "リストの要素番号は 0 から始まります。"
      ]
    },
    {
      "cell_type": "code",
      "metadata": {
        "id": "1EzBeieTpRTG"
      },
      "source": [
        "x = [2, 4, 6, 8, 10]\n",
        "print(x)\n",
        "print(len(x)) # リストの要素数\n",
        "\n",
        "print(x[0])   # 0番目の要素を出力\n",
        "\n",
        "x[4] = 11     # 4番目の要素に値を代入\n",
        "print(x)"
      ],
      "execution_count": null,
      "outputs": []
    },
    {
      "cell_type": "markdown",
      "metadata": {
        "id": "NJ8V4QhgqCK1"
      },
      "source": [
        "C言語の配列とは異なり，Pythonのリストでは単一の要素だけでなく，複数の要素をまとめてアクセスすることができます。  \n",
        "これを「<font color=\"Red\"> **スライシング**</font>」と呼びます。  \n",
        "スライシングは<font color=\"Red\"> **`:`**</font>を使用します。  \n",
        "* `x[i:j]` : `i`番目から<font color=\"Red\"> `j-1`</font>番目の要素を取得\n",
        "* `x[:j]` : 最初から`j-1`番目までの要素を取得\n",
        "* `x[i:]` : `i`番目から最後までの要素を取得\n",
        "\n",
        "また要素番号に<font color=\"Red\"> **`-`**</font>（マイナス）をつけることで，後ろから数えることもできます。    "
      ]
    },
    {
      "cell_type": "code",
      "metadata": {
        "id": "uB-LbbA8Y005"
      },
      "source": [
        "x = [0, 1, 2, 3, 4]\n",
        "print(x[0:2])  # 0番目から1番目まで取得\n",
        "print(x[1:])   # 1番目から最後の要素まで取得\n",
        "print(x[:3])   # 最初(0番目)から2番目まで取得\n",
        "print(x[:-2])  # 最初(0番目)から最後の要素の二つ前(4-2=2番目)までを取得"
      ],
      "execution_count": null,
      "outputs": []
    },
    {
      "cell_type": "markdown",
      "metadata": {
        "id": "iRHyIwmmMHBH"
      },
      "source": [
        "## ステップ5: If文  \n",
        "C言語ではIf文の範囲を`{ }`(括弧)で囲むことで指定していましたが，  \n",
        "<font color=\"Red\"> **Pythonでは括弧を使わず，代わりに`:`（コロン）とインデントを使って範囲を指定します**</font>。"
      ]
    },
    {
      "cell_type": "code",
      "metadata": {
        "id": "iksIl1k_N442"
      },
      "source": [
        "a = 5\n",
        "if a == 5:          # 条件の後ろにコロン\":\"をつける\n",
        "    print('a = 5')  # インデント(空白)が入っている部分が分岐処理の範囲になる\n",
        "    print('case 1')\n",
        "elif a < 5:         # elif は C言語の else if に相当\n",
        "    print('a < 5')\n",
        "    print('case 2')\n",
        "else:               # else は C言語の else に相当\n",
        "    print('a > 5')\n",
        "    print('case 3')"
      ],
      "execution_count": null,
      "outputs": []
    },
    {
      "cell_type": "markdown",
      "metadata": {
        "id": "jz8Y77IRm3Z6"
      },
      "source": [
        "## ステップ6: for文  \n",
        "if文の時と同様に，括弧は使わずに，コロンとインデントを使って範囲を指定します。  \n",
        "Pythonのfor文は以下のサンプルのように書きます。"
      ]
    },
    {
      "cell_type": "code",
      "metadata": {
        "id": "zQCj6eRbl1Rs"
      },
      "source": [
        "print('use `range(N)`')\n",
        "for n in range(5):\n",
        "  print(n)\n",
        "\n",
        "print('\\nuse `range(M, N)`')\n",
        "for n in range(5, 10):\n",
        "  print(n)\n",
        "\n",
        "print('\\nuse `range(M, N, T)`')\n",
        "for n in range(0, 10, 2):\n",
        "  print(n)"
      ],
      "execution_count": null,
      "outputs": []
    },
    {
      "cell_type": "markdown",
      "metadata": {
        "id": "qo-7fZJCuZ9M"
      },
      "source": [
        "<font color=\"Red\"> **`range`**</font>は連番の数列を作成する関数です。  \n",
        "* range(N) : 0からN-1まで1ずつ増加する数列[0, 1, 2, ..., N-1]を作る。  \n",
        "  C言語だと`for(n=0; n<N-1; n++)`に相当。\n",
        "* range(M, N) : M(M<N)からN-1まで1ずつ増加する数列[M, M+1, ..., N-1]を作る。  \n",
        "  C言語だと`for(M=0; n<N-1; n++)`に相当。\n",
        "* range(M, N, T) : MからN-1までTずつ増加する数列を作る。  \n",
        "  C言語だと`for(n=M; n<N-1; n+=T)`に相当。\n",
        "\n",
        "また以下のように，リストを使ってカウンタ変数(上記例の`n`のこと)の値を手動で設定することもできます。"
      ]
    },
    {
      "cell_type": "code",
      "metadata": {
        "id": "BijO1PBguorL"
      },
      "source": [
        "for n in [1, 10, 13, 17, 21]:\n",
        "  print(n)"
      ],
      "execution_count": null,
      "outputs": []
    },
    {
      "cell_type": "markdown",
      "metadata": {
        "id": "EFQnqbFYxn4U"
      },
      "source": [
        "## ステップ7: おわりに\n",
        "Pythonの基本的な使い方は以上です。  \n",
        "if文，for文にクセがあるので最初は戸惑うかもしれませんが，慣れてくると，型を意識せず変数を定義できる点や配列の使い勝手の良さ，モジュール（次回説明します）の抱負さから，C言語よりも簡単に感じる方が多いと思います。  \n",
        "（ただし，C言語と比べてあまりきちんと考えなくても直感的にプログラムがかけてしまうため，思わぬバグに遭遇したりすることもある点には注意してください。）\n"
      ]
    },
    {
      "cell_type": "code",
      "metadata": {
        "id": "owJiE0d0xjX5"
      },
      "source": [
        ""
      ],
      "execution_count": null,
      "outputs": []
    }
  ]
}