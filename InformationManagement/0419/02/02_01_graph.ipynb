{
  "nbformat": 4,
  "nbformat_minor": 0,
  "metadata": {
    "colab": {
      "name": "02_01_graph.ipynb",
      "provenance": [],
      "collapsed_sections": []
    },
    "kernelspec": {
      "name": "python3",
      "display_name": "Python 3"
    },
    "language_info": {
      "name": "python"
    }
  },
  "cells": [
    {
      "cell_type": "markdown",
      "metadata": {
        "id": "LwpNJumrNIjN"
      },
      "source": [
        "# 第2回 その1: ライブラリとグラフの描画\n",
        "今回の講義では，データの分析において多用するライブラリとして以下の３つを紹介します。  \n",
        "* pandas: 主にcsvデータの読み込みや特定データの抽出に使用。  \n",
        "* numpy: 数値演算全般に使用。\n",
        "* matplotlib: グラフの描画に使用。  \n",
        "\n",
        "また，サンプルデータを読み込んで数種類のグラフを描画してみます。"
      ]
    },
    {
      "cell_type": "markdown",
      "metadata": {
        "id": "uAc77jSWOkl8"
      },
      "source": [
        "## ステップ0: Google Driveのマウント  \n",
        "Google Driveに格納されているデータを読み込むために，Google Colab からGoogle Driveを参照できるようにします（マウント処理）。  \n",
        "マウント処理を行うためには，以下のコードを実行します。  \n",
        "（このとき、Google colabからGoogleドライブに接続するための確認などが出てきますが、指示に従ってGoogle ドライブに接続してください。）"
      ]
    },
    {
      "cell_type": "code",
      "metadata": {
        "id": "3aC8AkgoOli-"
      },
      "source": [
        "from google.colab import drive\n",
        "drive.mount('/content/drive')"
      ],
      "execution_count": null,
      "outputs": []
    },
    {
      "cell_type": "markdown",
      "metadata": {
        "id": "fCHPxrArO9Qq"
      },
      "source": [
        "次に，データの置いてある作業フォルダに移動します。  \n",
        "ここでは\"マイドライブ/情報管理/02\"という作業フォルダを想定します。"
      ]
    },
    {
      "cell_type": "code",
      "metadata": {
        "id": "4rzZNNyHO4Gm"
      },
      "source": [
        "# フォルダの移動には\"%cd\"を使用します。\n",
        "# 作業フォルダへ移動\n",
        "%cd /content/drive/'My Drive'/情報管理/02/\n",
        "# 現在のフォルダの中身を表示\n",
        "%ls"
      ],
      "execution_count": null,
      "outputs": []
    },
    {
      "cell_type": "markdown",
      "metadata": {
        "id": "3Iytnzy4NHlP"
      },
      "source": [
        "kishou.csv というデータが表示されていることを確認してください。"
      ]
    },
    {
      "cell_type": "markdown",
      "metadata": {
        "id": "zZbD01jyYLXs"
      },
      "source": [
        "## ステップ1: pandas ライブラリ\n",
        "<font color=\"Red\"> **pandas**</font> はデータ解析で便利な機能が使用可能なライブラリです。  \n",
        "pandas ではcsvデータの入出力やデータ抽出処理，基本的な統計処理が可能です。  \n",
        "本講義では，主にcsvデータの読み込みを行うために使用します。"
      ]
    },
    {
      "cell_type": "markdown",
      "metadata": {
        "id": "gu3LnYh0YSwD"
      },
      "source": [
        "ライブラリを使用するには<font color=\"Red\"> **`import`**</font>を使用します。  \n",
        "<font color=\"Red\"> **`import ライブラリ名 as 任意の名前`**</font>  \n",
        "と記述すると，ライブラリに「任意の名前」をつけて使用することができます。  \n",
        "以下の例では，pandas に`pd`という名前を付けて呼び出しています。"
      ]
    },
    {
      "cell_type": "code",
      "metadata": {
        "id": "k14h9cjEYRbf"
      },
      "source": [
        "import pandas as pd"
      ],
      "execution_count": null,
      "outputs": []
    },
    {
      "cell_type": "markdown",
      "metadata": {
        "id": "-R7ZcWg3aHwk"
      },
      "source": [
        "以降，`pd`と書くと pandas ライブラリの機能を使うことができるようになります。\n",
        "\n",
        "ではpandasライブラリの関数<font color=\"Red\"> **`read_csv`**</font>を使って，csvファイルを読み込みます。"
      ]
    },
    {
      "cell_type": "code",
      "metadata": {
        "id": "Id3HQ7OCaiCz"
      },
      "source": [
        "csv_data = pd.read_csv('kishou.csv', encoding='SHIFT-JIS')\n",
        "csv_data"
      ],
      "execution_count": null,
      "outputs": []
    },
    {
      "cell_type": "markdown",
      "metadata": {
        "id": "fyFwfEaSa1ND"
      },
      "source": [
        "`kishou.csv`は2020年の東京，神戸，札幌，那覇の日ごとの気温（℃）を記録したデータです(出典：気象庁HP)。  \n",
        "読み込んだデータは `csv_data` に格納されています。  \n",
        "このデータは pandasライブラリの `DataFrame` という型で定義されています。  "
      ]
    },
    {
      "cell_type": "code",
      "metadata": {
        "id": "CqGauGS4LqQ7"
      },
      "source": [
        "# csv_dataのデータ型を表示\n",
        "print(type(csv_data))"
      ],
      "execution_count": null,
      "outputs": []
    },
    {
      "cell_type": "markdown",
      "metadata": {
        "id": "KaEiNXhAPTLD"
      },
      "source": [
        "`DataFrame`型のデータは，<font color=\"Red\"> **`.columns`**</font>を後ろに付けると各列のラベルが取得できます。  \n",
        "また<font color=\"Red\"> **`.loc[行index,列index]`**</font>を後ろにつけると特定のデータを抽出することができます。"
      ]
    },
    {
      "cell_type": "code",
      "metadata": {
        "id": "4PAKvby-PewL"
      },
      "source": [
        "# columnsを使って各列のラベルを取得\n",
        "print('各列のラベル')\n",
        "print(csv_data.columns)\n",
        "print('0列目のラベルを表示')\n",
        "print(csv_data.columns[0])\n",
        "# スライシング(第一回参照)を使って複数列の指定も可能\n",
        "print('1から3列目までのラベルを表示')\n",
        "print(csv_data.columns[1:4])\n",
        "\n",
        "# locを使って特定データを抽出\n",
        "print('0日目の東京の気温')\n",
        "print(csv_data.loc[0, '東京'])\n",
        "print('3日目までの東京の気温')\n",
        "print(csv_data.loc[:3, '東京'])\n",
        "print('3日目までの東京～札幌の気温')\n",
        "print(csv_data.loc[:3, '東京':'札幌'])"
      ],
      "execution_count": null,
      "outputs": []
    },
    {
      "cell_type": "markdown",
      "metadata": {
        "id": "DkAcYfxqccnd"
      },
      "source": [
        "## ステップ2: numpy ライブラリ\n",
        "<font color=\"Red\"> **numpy**</font> は様々な数値演算が可能なライブラリです。  \n",
        "特にベクトル・行列を扱う関数が豊富で，C言語では複数行にわたる処理が1行で書けたりするため，とても便利です。  "
      ]
    },
    {
      "cell_type": "code",
      "metadata": {
        "id": "8sXqeF1ndkBt"
      },
      "source": [
        "# numpy ライブラリに np という名前を付けて呼び出す\n",
        "import numpy as np"
      ],
      "execution_count": null,
      "outputs": []
    },
    {
      "cell_type": "markdown",
      "metadata": {
        "id": "BUrm8n9Ed-1c"
      },
      "source": [
        "numpy を使ってベクトル・行列演算をするためには，データを<font color=\"Red\"> **ndarray**</font>というnumpy専用のデータ型で定義する必要があります。  \n",
        "pandas で読み込んだデータは `DataFrame` という型ですので，これを `ndarray` 型に変換します。  \n",
        "`DataFrame`型データの後ろに<font color=\"Red\"> **`.to_numpy()`**</font>とつけることで，`ndarray`型のデータに変換できます。"
      ]
    },
    {
      "cell_type": "code",
      "metadata": {
        "id": "FOzRY8A7d8xB"
      },
      "source": [
        "print(type(csv_data))\n",
        "# locを使って'東京'以降の列（つまり'年月日'を除くすべての列）を抽出する。\n",
        "csv_data_tmp = csv_data.loc[:,'東京':]\n",
        "# さらに to_numpy() を使って ndarray 型に変換したものを data に格納する。\n",
        "data = csv_data_tmp.to_numpy()\n",
        "print(type(data))"
      ],
      "execution_count": null,
      "outputs": []
    },
    {
      "cell_type": "markdown",
      "metadata": {
        "id": "rp0pJl5fjEMB"
      },
      "source": [
        "上の例では，先に `loc[:, '東京':]` とすることで，'東京'以降の列，つまり'年月日'以外の情報を抽出しています。  \n",
        "年月日の情報は数値データではないので，以降の numpy による数値演算処理で邪魔になるため，除いています。  \n",
        "その後，`.to_numpy()`とすることで，`ndarray`型に変換しています。  \n",
        "ちなみに，上記の処理は以下のように一行で書くこともできます。  \n",
        "```\n",
        "data = csv_data.loc[:, '東京':].to_numpy()\n",
        "```"
      ]
    },
    {
      "cell_type": "markdown",
      "metadata": {
        "id": "wpbj6OWqkDoa"
      },
      "source": [
        "data は各行が日にち，各列が東京/神戸/札幌/那覇に対応した行列(ndarray)のデータです。  \n",
        "この行列の行数・列数を調べるためには numpy の<font color=\"Red\"> **`shape`**</font>関数を使います。"
      ]
    },
    {
      "cell_type": "code",
      "metadata": {
        "id": "Mu9C8R6aPAb4"
      },
      "source": [
        "(num_row, num_col) = np.shape(data)\n",
        "print((num_row, num_col))"
      ],
      "execution_count": null,
      "outputs": []
    },
    {
      "cell_type": "markdown",
      "metadata": {
        "id": "0-fvw8GHlBT5"
      },
      "source": [
        "`shape` 関数は行列の (行数, 列数) を返します。  \n",
        "(括弧 '()' で囲まれた変数のことを**タプル**(tuple)と呼びます。タプルは複数の値をまとめて一つの変数にしたものです。)  \n",
        "\n",
        "また，平均値を求めるには numpy の<font color=\"Red\"> **`mean`**</font>関数を使います。"
      ]
    },
    {
      "cell_type": "code",
      "metadata": {
        "id": "W3TwAcjQV8b5"
      },
      "source": [
        "print(np.mean(data, axis=0))\n",
        "print(np.mean(data, axis=1))\n",
        "print(np.mean(data))"
      ],
      "execution_count": null,
      "outputs": []
    },
    {
      "cell_type": "markdown",
      "metadata": {
        "id": "gKPHipOVl7II"
      },
      "source": [
        "`mean`関数の引数についている<font color=\"Red\"> **`axis`**</font>は，「行か列のどちらの軸に沿って平均を求めるか」を指定する引数です。  \n",
        "* `axis = 0`の場合，行方向に沿って平均値を計算します。  \n",
        "  つまり，東京，神戸，札幌，那覇それぞれについて，一年間の平均気温が計算されます。出力は4次元のベクトルです  \n",
        "* `axis = 1`の場合，列方向に沿って平均値を計算します。\n",
        "  つまり，一日ごとに，東京・神戸・札幌・那覇の気温の平均値が計算されます。出力は366次元のベクトルです  \n",
        "* `axis`を指定せず，`np.mean(data)`だけで実行した場合は，行列内の全ての値の平均値を計算します。  \n",
        "  つまり，東京・神戸・札幌・那覇の1年間の気温の総平均値が計算されます。出力はスカラーです。  \n",
        "\n",
        "\n",
        "numpy についての詳しい解説は `02_02_numpy.ipynb` を参照してください。"
      ]
    },
    {
      "cell_type": "markdown",
      "metadata": {
        "id": "IfJsP1wEnkUz"
      },
      "source": [
        "## ステップ3: matplotlib ライブラリ\n",
        "<font color=\"Red\"> **matplotlib**</font> はグラフの描画を行うライブラリです。  \n",
        "インポートは以下のように行います。  \n",
        "pandasやnumpyとは違い，`.pyplot`がついている点に注意してください。  "
      ]
    },
    {
      "cell_type": "code",
      "metadata": {
        "id": "C4UwcZA9l03x"
      },
      "source": [
        "# matplotlib.pyplot に plt という名前を付けて呼び出す\n",
        "import matplotlib.pyplot as plt"
      ],
      "execution_count": null,
      "outputs": []
    },
    {
      "cell_type": "markdown",
      "metadata": {
        "id": "xruRV64_oSku"
      },
      "source": [
        "グラフ描画の基本的な流れは  \n",
        "* <font color=\"Red\"> **figure**</font> 関数による描画領域の作成  \n",
        "* グラフの描画  \n",
        "* <font color=\"Red\"> **show**</font> 関数による描画領域の表示  \n",
        "\n",
        "です。  "
      ]
    },
    {
      "cell_type": "markdown",
      "metadata": {
        "id": "UN8CJPijzhmW"
      },
      "source": [
        "### 折れ線グラフ: plot \n",
        "折れ線グラフを描画する場合は，<font color=\"Red\"> **plot**</font> 関数を使用します。  \n",
        "<font color=\"Red\"> **`plot(x軸データ, y軸データ)`**</font> "
      ]
    },
    {
      "cell_type": "code",
      "metadata": {
        "id": "aIWRYZdIoMk9"
      },
      "source": [
        "# x軸データ=日数：0, 1, 2, ..., 365\n",
        "x = np.arange(num_row)\n",
        "# y軸データ=東京：dataの0列目\n",
        "y = data[:,0]\n",
        "\n",
        "# 描画領域作成\n",
        "plt.figure(figsize=(10,5))\n",
        "# グラフ描画\n",
        "plt.plot(x, y)\n",
        "# x軸とy軸のラベル設定（日本語不可）\n",
        "plt.xlabel('Day')\n",
        "plt.ylabel('Temperature')\n",
        "# 表示\n",
        "plt.show()"
      ],
      "execution_count": null,
      "outputs": []
    },
    {
      "cell_type": "markdown",
      "metadata": {
        "id": "ZFEzRTJXsTFj"
      },
      "source": [
        "`figure(figsize=(10, 5))`の`figsize`は描画領域のサイズ（横x縦）です。  \n",
        "`plot`関数にはx軸とy軸の値を入力します。  \n",
        "x軸の値は 0～365が1日刻みで入っています。（numpy.arangeはnumpy用のrange関数(第一回参照)です）  \n",
        "y軸の値はx軸の各値に対応した東京の気温が入っています。  \n",
        "軸のラベルは<font color=\"Red\"> **xlabel**</font>および<font color=\"Red\"> **ylabel**</font>関数を用いて設定します。  \n",
        "**matplotlibは基本的には日本語が使用できません。**日本語を使用すると文字化けします。(設定をきちんとすれば日本語も使用できるようになりますが，本講義では説明しません。)"
      ]
    },
    {
      "cell_type": "markdown",
      "metadata": {
        "id": "T1z5KXYnuNQW"
      },
      "source": [
        "複数の値を同時にプロットすることもできます。  "
      ]
    },
    {
      "cell_type": "code",
      "metadata": {
        "id": "GCxLuyhTpcr3"
      },
      "source": [
        "# x軸データ=日数：0, 1, 2, ..., 365\n",
        "x = np.arange(num_row)\n",
        "\n",
        "# 描画領域作成\n",
        "plt.figure(figsize=(10,5))\n",
        "# グラフ描画\n",
        "plt.plot(x, data[:,0], label='Tokyo', color='b')\n",
        "plt.plot(x, data[:,1], label='Kobe', color='r')\n",
        "plt.plot(x, data[:,2], label='Sapporo', color='g')\n",
        "plt.plot(x, data[:,3], label='Naha', color='y')\n",
        "# x軸とy軸のラベル設定（日本語不可）\n",
        "plt.xlabel('Day')\n",
        "plt.ylabel('Temperature')\n",
        "# グラフの凡例の表示\n",
        "plt.legend()\n",
        "# 表示\n",
        "plt.show()"
      ],
      "execution_count": null,
      "outputs": []
    },
    {
      "cell_type": "markdown",
      "metadata": {
        "id": "qmhsFuSJx7zl"
      },
      "source": [
        "`plot` 関数を複数回入力することで，複数のデータをプロットできます。  \n",
        "このとき，見分けをつけるために，「データのラベル」と「色」をそれぞれ `label`，`color` に指定しています。  \n",
        "<font color=\"Red\">`plt.plot(x, y, label='データのラベル', color='色')`</font>   \n",
        "`b`，`r`，`g`，`y`はそれぞれ青，赤，緑，黄です。  \n",
        "(色の指定方法については https://matplotlib.org/stable/gallery/color/named_colors.html )に詳しく書いてあります。  \n",
        "設定したデータのラベル（凡例）を表示させるには，<font color=\"Red\">**`legend()`**</font>を使用します。  \n",
        "\n",
        "なお，上記のコードはリストとforを使うともう少し綺麗に書くことができます。  \n",
        "```\n",
        "label_set = ['Tokyo', 'Kobe', 'Sapporo', 'Naha']\n",
        "color_set = ['b', 'r', 'g', 'y']\n",
        "for n in range(4):\n",
        "  plt.plot(x, data[:,n], label=label_set[n], color=color_set[n])\n",
        "```"
      ]
    },
    {
      "cell_type": "markdown",
      "metadata": {
        "id": "rK9oySIqzwN1"
      },
      "source": [
        "### ヒストグラム: hist \n",
        "各場所について，気温の分布を見てみましょう。  \n",
        "ヒストグラムの描画は<font color=\"Red\">**`hist`**</font>関数を使用します。  \n",
        "<font color=\"Red\"> **`hist(データ, bins=棒の数, range=(値の範囲))`**</font> "
      ]
    },
    {
      "cell_type": "code",
      "metadata": {
        "id": "Px4vune3xme1"
      },
      "source": [
        "label_set = ['Tokyo', 'Kobe', 'Sapporo', 'Naha']\n",
        "color_set = ['b', 'r', 'g', 'y']\n",
        "\n",
        "# 描画領域作成\n",
        "plt.figure(figsize=(10,5))\n",
        "# グラフ描画\n",
        "for n in range(4):\n",
        "  plt.hist(data[:,n], bins=40, range=(-15, 35),label=label_set[n], color=color_set[n])\n",
        "  # x軸とy軸のラベル設定（日本語不可）\n",
        "  plt.xlabel('Temperature')\n",
        "  plt.ylabel('Number of days')\n",
        "  # グラフの凡例の表示\n",
        "  plt.legend()\n",
        "# 表示\n",
        "plt.show()"
      ],
      "execution_count": null,
      "outputs": []
    },
    {
      "cell_type": "markdown",
      "metadata": {
        "id": "1ZHtl2iv3XEi"
      },
      "source": [
        "上記の例では，bins=40，range=(-15, 35)と設定しているので，「気温-15度から35度の範囲で棒を40本作る」という意味になります。  \n",
        "これを見ると，例えば「那覇」の気温はおよそ20度から30度の日が多く，特に30度付近の日が40日以上存在していることが分かります。  "
      ]
    },
    {
      "cell_type": "markdown",
      "metadata": {
        "id": "RQImx1Fn5A6L"
      },
      "source": [
        "上記の例では，4つのヒストグラムを重ねて表示したため，先に描画した東京や神戸のデータが見えにくいです。  \n",
        "そこで，重ねて描画するのではなく，並べて描画することにします。  \n",
        "一つの描画領域に複数のグラフを並べて描画するには，<font color=\"Red\"> **subplot**</font> を使用します。  \n",
        "<font color=\"Red\"> `**subplot(縦の分割数，横の分割数，描画するサブ領域の番号)**`</font> "
      ]
    },
    {
      "cell_type": "code",
      "metadata": {
        "id": "fshtvUFP4_2f"
      },
      "source": [
        "label_set = ['Tokyo', 'Kobe', 'Sapporo', 'Naha']\n",
        "color_set = ['b', 'r', 'g', 'y']\n",
        "\n",
        "# 描画領域作成\n",
        "plt.figure(figsize=(16,8))\n",
        "# グラフ描画\n",
        "for n in range(4):\n",
        "  plt.subplot(2, 2, n+1)\n",
        "  plt.hist(data[:,n], bins=40, range=(-15, 35),label=label_set[n], color=color_set[n])\n",
        "  # x軸とy軸のラベル設定（日本語不可）\n",
        "  plt.xlabel('Temperature')\n",
        "  plt.ylabel('Number of days')\n",
        "  # グラフの凡例の表示\n",
        "  plt.legend()\n",
        "# 表示\n",
        "plt.show()"
      ],
      "execution_count": null,
      "outputs": []
    },
    {
      "cell_type": "markdown",
      "metadata": {
        "id": "GBA9dnAN6jkU"
      },
      "source": [
        "上記の例では，forループの中に  \n",
        "`subplot(2, 2, n+1)`  \n",
        "と入れています。\n",
        "これは描画領域を2行x2列に分割し，(n+1=1)番目のサブ領域に東京，(n+1=2)番目のサブ領域に神戸，…というように描画することを表します。  \n",
        "subplotを使用する際の注意点は以下の2点です。  \n",
        "* サブ領域の番号は0からではなく1から数えます。そのため，forループ内で使用する際は n+1 とします。\n",
        "* 描画領域が狭いと，軸ラベルが隠れてしまう場合があります。その場合はfigure(figsize=())で指定する描画領域のサイズを大きくしてください。"
      ]
    },
    {
      "cell_type": "markdown",
      "metadata": {
        "id": "DrIwP4hLBN6G"
      },
      "source": [
        "### エラーバー付き棒グラフ: bar\n",
        "ヒストグラムを見ると，那覇は他の3地点と比べて気温のばらつきが小さいです。  \n",
        "実際に平均と標準偏差を計算し，エラーバー付きの棒グラフを使って確認してみます。  \n",
        "\n",
        "平均値は既に説明した通りnumpy の`mean`関数により計算されます。  \n",
        "標準偏差はnumpyの`std`関数により計算されます。使い方は`mean`と同じです。  \n",
        "\n",
        "棒グラフの描画は<font color=\"Red\">**`bar`**</font>関数を使用します。  \n",
        "<font color=\"Red\"> **`hist(ラベル, データ, yerr=エラーバーの範囲)`**</font> "
      ]
    },
    {
      "cell_type": "code",
      "metadata": {
        "id": "KSIz9-0I52Uj"
      },
      "source": [
        "label_set = ['Tokyo', 'Kobe', 'Sapporo', 'Naha']\n",
        "\n",
        "# 各場所の平均気温と標準偏差を求める\n",
        "data_mean = np.mean(data, axis=0)\n",
        "data_std = np.std(data, axis=0)\n",
        "\n",
        "plt.figure(figsize=(10, 5))\n",
        "# 標準偏差をエラーバーとして，各場所の平均気温を棒グラフで描画\n",
        "plt.bar(label_set, data_mean, yerr=data_std, capsize=5, color='b')\n",
        "plt.ylabel('mean & std of temperature')\n",
        "plt.show()"
      ],
      "execution_count": null,
      "outputs": []
    },
    {
      "cell_type": "markdown",
      "metadata": {
        "id": "IOg5x-jqD_Oh"
      },
      "source": [
        "ここでは`data_mean`をbarに入力することで，平均気温の棒グラフを作成しています。  \n",
        "さらに，`yerr=data_std`とすることで，標準偏差をエラーバーとして描画しています。  \n",
        "これにより，平均±標準偏差という形でデータをプロットすることができます。\n",
        "\n"
      ]
    },
    {
      "cell_type": "markdown",
      "metadata": {
        "id": "QCYFKbBVEyfw"
      },
      "source": [
        "### 散布図: scatter\n",
        "折れ線グラフを見ると，東京と神戸の気温は近い値になっていることが分かります。  \n",
        "これを，横軸：東京の気温，縦軸：神戸の気温として散布図で表現してみます。  \n",
        "\n",
        "散布図の描画は<font color=\"Red\">**`scatter`**</font>関数を使用します。  \n",
        "<font color=\"Red\"> **`scatter(x軸データ, y軸データ)`**</font> "
      ]
    },
    {
      "cell_type": "code",
      "metadata": {
        "id": "KyszclFC8-js"
      },
      "source": [
        "plt.figure(figsize=(5,5))\n",
        "plt.scatter(data[:,0], data[:,1], color='b')\n",
        "plt.xlabel('Temperature at Tokyo')\n",
        "plt.ylabel('Temperature at Kobe')\n",
        "plt.show()"
      ],
      "execution_count": null,
      "outputs": []
    },
    {
      "cell_type": "markdown",
      "metadata": {
        "id": "z6HSM9KRFz5j"
      },
      "source": [
        "同様に，東京と札幌，東京と那覇も描画してみましょう。  \n",
        "以下の例は for ループを使って効率的に記述しています。  \n",
        "rangeやリスト，文字列の連結などを復習しながら，どのように動作しているのか理解しておきましょう。"
      ]
    },
    {
      "cell_type": "code",
      "metadata": {
        "id": "h9pUOF3yFcBV"
      },
      "source": [
        "label_set = ['Tokyo', 'Kobe', 'Sapporo', 'Naha']\n",
        "plt.figure(figsize=(18, 6))\n",
        "for n in range(1,4):\n",
        "  plt.subplot(1, 3, n)\n",
        "  plt.scatter(data[:,0], data[:,n], color='b')\n",
        "  plt.xlabel('Temperature at Tokyo')\n",
        "  plt.ylabel('Temperature at ' + label_set[n])\n",
        "plt.show()"
      ],
      "execution_count": null,
      "outputs": []
    },
    {
      "cell_type": "markdown",
      "metadata": {
        "id": "pLKDwjNkHULq"
      },
      "source": [
        "上の３つの図を比べると，以下のことが分かります。\n",
        "- 東京と神戸はおおよそ同じ温度になっている。  \n",
        "- 一方，東京と札幌は温度の値自体は異なるが，東京が寒くなると札幌も寒くなるというように，気温の変化はある程度同期している。  \n",
        "- しかし東京と那覇は，特に東京の気温が低いとき（例えば10度以下）に，那覇の気温のばらつき（縦のばらつき）が大きい。  \n",
        "  つまり，東京が寒くなった日において，那覇は必ずしも寒くなるとは限らない。  \n",
        "  (例えば，東京で12度，那覇で15度くらいの日もあれば，東京で2度，那覇で20度くらいの日もある)\n"
      ]
    },
    {
      "cell_type": "markdown",
      "metadata": {
        "id": "1GO5WBewJ1Xf"
      },
      "source": [
        "## ステップ7: おわりに\n",
        "今日の講義では，\n",
        "- pandas を用いたデータ読み込み  \n",
        "- numpy を用いた数値データ化と簡単な統計値(平均と標準偏差)の算出  \n",
        "- matplotlib を用いたデータの描画  \n",
        "\n",
        "を解説しました。  \n",
        "\n",
        "データの分析は，まずデータを見ることから始まります。  \n",
        "ただし，エクセルのデータを漠然と眺めていてもデータの傾向や性質は見えてきません。  \n",
        "グラフとして描画することで，色々な性質が見えてきます。  \n",
        "このようにしてデータの性質を掴んだ上で，「このような分析方法を試してみよう」といったアクションに繋がってきます。"
      ]
    },
    {
      "cell_type": "code",
      "metadata": {
        "id": "nD1aW01AJzDN"
      },
      "source": [
        ""
      ],
      "execution_count": null,
      "outputs": []
    }
  ]
}