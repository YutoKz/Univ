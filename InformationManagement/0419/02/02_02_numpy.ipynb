{
  "nbformat": 4,
  "nbformat_minor": 0,
  "metadata": {
    "colab": {
      "name": "02_02_numpy.ipynb",
      "provenance": [],
      "collapsed_sections": []
    },
    "kernelspec": {
      "name": "python3",
      "display_name": "Python 3"
    },
    "language_info": {
      "name": "python"
    }
  },
  "cells": [
    {
      "cell_type": "markdown",
      "metadata": {
        "id": "op53BxS8Tgvv"
      },
      "source": [
        "# 第2回 その2: numpy ライブラリの解説\n",
        "numpyライブラリはその1（02_01_graph.ipynb）でも紹介しましたが，ここでは numpy の使い方についてさらに詳しく説明します。  \n",
        "次回からは本格的にデータの解析を行っていきますが，基本的には numpy を使って数値演算を行いますので，基本的な使い方を学んでおきましょう。"
      ]
    },
    {
      "cell_type": "markdown",
      "metadata": {
        "id": "m3aIkno-TkC_"
      },
      "source": [
        "## ステップ1: データの型と定義方法  \n",
        "02_01_graph.ipynb でも説明しましたが，numpy は特にベクトルや行列の演算で効果を発揮します。  \n",
        "numpy を使ってベクトル・行列演算を行うためには，データを<font color=\"Red\"> **ndarray**</font>というnumpy専用のデータ型で定義する必要があります。  \n",
        "ndarray型データの定義方法としては，以下のような例があります。"
      ]
    },
    {
      "cell_type": "markdown",
      "metadata": {
        "id": "z7KzEyQ4VlTz"
      },
      "source": [
        "### ベクトルの定義"
      ]
    },
    {
      "cell_type": "code",
      "metadata": {
        "id": "lrgAKp_aTflh"
      },
      "source": [
        "# numpy ライブラリを np という名前で呼び出す。\n",
        "import numpy as np\n",
        "\n",
        "# array関数を使用する。\n",
        "print('array関数を使用')\n",
        "data = np.array([1.0, 2.0, 3.0])\n",
        "print(type(data))\n",
        "print(data)\n",
        "\n",
        "# zeros関数を用いてゼロベクトルとして定義\n",
        "data = np.zeros(3)\n",
        "print('\\nzeros関数を使用')\n",
        "print(data)\n",
        "\n",
        "# ones関数を用いて，全ての要素が1のベクトルとして定義\n",
        "data = np.ones(3)\n",
        "print('\\nones関数を使用')\n",
        "print(data)\n",
        "\n",
        "# arange関数を用いて数列を定義（arange関数の使い方は，range関数(第1回参照)とほぼ同じです。）\n",
        "data = np.arange(0, 3, 0.5) # 0から3まで0.5刻みのベクトルを作成\n",
        "print('\\narange関数を使用')\n",
        "print(data)\n",
        "data = np.arange(5) # 0から5までの1.0刻みのベクトルを作成\n",
        "print(data)"
      ],
      "execution_count": null,
      "outputs": []
    },
    {
      "cell_type": "markdown",
      "metadata": {
        "id": "qXlI-HpgW-di"
      },
      "source": [
        "### 行列の定義\n",
        "行列の定義は以下のようにします。"
      ]
    },
    {
      "cell_type": "code",
      "metadata": {
        "id": "tTlfoFsLVSKk"
      },
      "source": [
        "# array関数を使用する場合\n",
        "data = np.array([[1.0, 2.0, 3.0],[4.0, 5.0, 6.0]])\n",
        "print('array関数を使用')\n",
        "print(data)\n",
        "# zeros関数を用いてゼロ行列を定義\n",
        "data = np.zeros([2,3]) # [行数, 列数]で定義\n",
        "print('\\nzeros関数を使用')\n",
        "print(data)\n",
        "# ones関数を用いて定義\n",
        "data = np.ones([2, 3]) # 使い方はzerosと同じ\n",
        "print('\\nones関数を使用')\n",
        "print(data)"
      ],
      "execution_count": null,
      "outputs": []
    },
    {
      "cell_type": "markdown",
      "metadata": {
        "id": "fC-Bck2Rg-fu"
      },
      "source": [
        "ベクトルの要素数は<font color=\"Red\"> **`size`**</font>を用いて取得できます。  \n",
        "行列のサイズは<font color=\"Red\"> **`shape`**</font>を用いて取得できます。"
      ]
    },
    {
      "cell_type": "code",
      "metadata": {
        "id": "VRRKdQCchO1w"
      },
      "source": [
        "data = np.zeros(15)\n",
        "print('ベクトルの要素数をsize, shapeを使って取得')\n",
        "print(np.size(data))\n",
        "print(np.shape(data)) # shapeを用いた場合，要素数が行数の情報として得られます\n",
        "\n",
        "data = np.zeros([4, 3])\n",
        "print('\\n行列の要素数をshape, sizeを使って取得')\n",
        "print(np.shape(data))\n",
        "print(np.size(data)) # sizeを用いた場合，全要素数が得られます。"
      ],
      "execution_count": null,
      "outputs": []
    },
    {
      "cell_type": "markdown",
      "metadata": {
        "id": "HRVyxL8mhyb1"
      },
      "source": [
        "行列の転置は`.T`を使用します。"
      ]
    },
    {
      "cell_type": "code",
      "metadata": {
        "id": "tONVtiGah1ux"
      },
      "source": [
        "data = np.array([[1.0, 2.0, 3.0],[4.0, 5.0, 6.0]])\n",
        "print(data)\n",
        "print(data.T)"
      ],
      "execution_count": null,
      "outputs": []
    },
    {
      "cell_type": "markdown",
      "metadata": {
        "id": "Kw1cUQSeYYLU"
      },
      "source": [
        "## ステップ2: ベクトル・行列の基本演算\n",
        "四則演算の例を以下に示します。以下の点がポイントです。  \n",
        "* ベクトル同士，行列同士の四則演算は，「<font color=\"Red\"> **要素ごと**</font>」に計算される。  \n",
        "* ベクトル/行列とスカラーの四則演算は，ベクトル/行列の各要素とスカラーの演算が行われる。\n",
        "* ベクトルと行列の演算は，行列の各行のベクトルと，ベクトルの要素ごとの演算が行われる。  \n",
        "* 演算するベクトルと行列の次元数が合わない場合はエラーとなる。\n",
        "\n",
        "まずはベクトル同士，行列同士の演算例です。"
      ]
    },
    {
      "cell_type": "code",
      "metadata": {
        "id": "U6s2pDlkitUw"
      },
      "source": [
        "# ベクトル\n",
        "vector_a = np.array([1.0, 2.0, 3.0])\n",
        "vector_b = np.array([4.0, 5.0, 6.0])\n",
        "# 行列\n",
        "matrix_a = np.array([[1.0, 2.0, 3.0], [4.0, 5.0, 6.0]])\n",
        "matrix_b = np.array([[7.0, 8.0, 9.0], [10.0, 11.0, 12.0]])\n",
        "\n",
        "print(vector_a + vector_b)\n",
        "print(vector_a - vector_b)\n",
        "print(vector_a * vector_b)\n",
        "print(vector_a / vector_b)\n",
        "\n",
        "print(matrix_a * matrix_b)\n",
        "print(matrix_a / matrix_b)"
      ],
      "execution_count": null,
      "outputs": []
    },
    {
      "cell_type": "markdown",
      "metadata": {
        "id": "ZSbuKO0Li8wb"
      },
      "source": [
        "ベクトル/行列とスカラーの四則演算は，ベクトル/行列の各要素とスカラーの演算が行われます。 \n",
        "``` \n",
        "2 * [1, 2, 3] = [2, 4, 6]  \n",
        "2 * [[1, 2, 3],  \n",
        "     [4, 5, 6]]  \n",
        "  = [[2, 4, 6],  \n",
        "     [8, 10, 12]]\n",
        "```"
      ]
    },
    {
      "cell_type": "code",
      "metadata": {
        "id": "XNw5relniy4F"
      },
      "source": [
        "# スカラー値\n",
        "scalar = 2.0\n",
        "# ベクトル\n",
        "vector_a = np.array([1.0, 2.0, 3.0])\n",
        "# 行列\n",
        "matrix_a = np.array([[1.0, 2.0, 3.0], [4.0, 5.0, 6.0]])\n",
        "\n",
        "print(vector_a * scalar)\n",
        "print(matrix_a * scalar)"
      ],
      "execution_count": null,
      "outputs": []
    },
    {
      "cell_type": "markdown",
      "metadata": {
        "id": "iYKbGoAijLjc"
      },
      "source": [
        "ベクトルと行列の演算は，行列の各行のベクトルと，ベクトルの要素ごとの演算が行われます。  \n",
        "```\n",
        "[1, 2, 3] * [[1, 2, 3],  \n",
        "             [4, 5, 6]]\n",
        "          = [[1, 4, 9],\n",
        "             [4, 10, 18]]\n",
        "```"
      ]
    },
    {
      "cell_type": "code",
      "metadata": {
        "id": "S6kF1o9QXaHO"
      },
      "source": [
        "# ベクトル\n",
        "vector_a = np.array([1.0, 2.0, 3.0])\n",
        "# 行列\n",
        "matrix_a = np.array([[1.0, 2.0, 3.0], [4.0, 5.0, 6.0]])\n",
        "\n",
        "print(vector_a * matrix_a)"
      ],
      "execution_count": null,
      "outputs": []
    },
    {
      "cell_type": "markdown",
      "metadata": {
        "id": "h0vDwY5xbiBc"
      },
      "source": [
        "`ndarray`型データの各要素へのアクセスはリスト（第1回参照）と同じです。  \n",
        "スライシングも使用できます。"
      ]
    },
    {
      "cell_type": "code",
      "metadata": {
        "id": "YPCjINE_Zo8d"
      },
      "source": [
        "data = np.array([1.0, 2.0, 3.0])\n",
        "print(data[0])\n",
        "print(data[:2])"
      ],
      "execution_count": null,
      "outputs": []
    },
    {
      "cell_type": "markdown",
      "metadata": {
        "id": "toAcXLZ2b3oM"
      },
      "source": [
        "## ステップ3: numpyの便利な関数  \n",
        "numpyには様々な関数が用意されており，それらを用いることで複雑な計算も簡単に書けるようになります。"
      ]
    },
    {
      "cell_type": "markdown",
      "metadata": {
        "id": "DhoRsYu9eYnw"
      },
      "source": [
        "平均値の計算には<font color=\"Red\"> **`mean`**</font>を使います。  \n",
        "行列を対象とする場合，引数にaxisを使用することで，計算する軸を指定できます。  \n",
        "* `axis = 0`の場合，行方向に沿って平均値を計算します。  \n",
        "* `axis = 1`の場合，列方向に沿って平均値を計算します。\n",
        "* `axis`を指定しない場合は，行列内の全ての値の平均値を計算します。 "
      ]
    },
    {
      "cell_type": "code",
      "metadata": {
        "id": "QRoizd7QbzCi"
      },
      "source": [
        "# ベクトル\n",
        "vector_a = np.array([1.0, 2.0, 3.0])\n",
        "# 行列\n",
        "matrix_a = np.array([[1.0, 2.0, 3.0], [4.0, 5.0, 6.0]])\n",
        "\n",
        "# 平均値\n",
        "print(np.mean(vector_a))  # ベクトルの全要素の平均を計算\n",
        "print(np.mean(matrix_a, axis=0)) # 行列の行方向に平均を計算\n",
        "print(np.mean(matrix_a, axis=1)) # 行列の列方向に平均を計算\n",
        "print(np.mean(matrix_a))         # 行列の全要素で平均を計算"
      ],
      "execution_count": null,
      "outputs": []
    },
    {
      "cell_type": "markdown",
      "metadata": {
        "id": "crNpCvioexyY"
      },
      "source": [
        "標準偏差と分散の計算には<font color=\"Red\"> **`std`**</font>および<font color=\"Red\"> **`var`**</font>を使います。  \n",
        "`mean`と同様に，行列を対象とする場合，引数にaxisを使用することで，計算する軸を指定できます。  \n"
      ]
    },
    {
      "cell_type": "code",
      "metadata": {
        "id": "HZ89-y1qfBvY"
      },
      "source": [
        "# ベクトル\n",
        "vector_a = np.array([1.0, 2.0, 3.0])\n",
        "# 行列\n",
        "matrix_a = np.array([[1.0, 2.0, 3.0], [4.0, 5.0, 6.0]])\n",
        "\n",
        "# 標準偏差と分散\n",
        "print(np.std(vector_a)) # 標準偏差\n",
        "print(np.var(vector_a)) # 分散\n",
        "print(np.std(matrix_a, axis=0)) # axisの使い方はmeanと同じ\n",
        "print(np.var(matrix_a, axis=0)) "
      ],
      "execution_count": null,
      "outputs": []
    },
    {
      "cell_type": "markdown",
      "metadata": {
        "id": "3UuLhwlafTYB"
      },
      "source": [
        "総和の計算には<font color=\"Red\"> **`sum`**</font>を使います。  \n",
        "`mean`と同様に，行列を対象とする場合，引数にaxisを使用することで，計算する軸を指定できます。  "
      ]
    },
    {
      "cell_type": "code",
      "metadata": {
        "id": "u1JJDPITfMCA"
      },
      "source": [
        "# ベクトル\n",
        "vector_a = np.array([1.0, 2.0, 3.0])\n",
        "# 行列\n",
        "matrix_a = np.array([[1.0, 2.0, 3.0], [4.0, 5.0, 6.0]])\n",
        "\n",
        "# 総和\n",
        "print(np.sum(vector_a))\n",
        "print(np.sum(matrix_a, axis=0)) # axisの使い方はmeanと同じ\n",
        "print(np.sum(matrix_a, axis=1)) \n",
        "print(np.sum(matrix_a))"
      ],
      "execution_count": null,
      "outputs": []
    },
    {
      "cell_type": "markdown",
      "metadata": {
        "id": "Hp-Y7mlIfbuS"
      },
      "source": [
        "最大値と最小値の計算には<font color=\"Red\"> **`max`**</font>および<font color=\"Red\"> **`min`**</font>を使います。  \n",
        "また，<font color=\"Red\"> **`argmax`**</font>および<font color=\"Red\"> **`argmin`**</font>とすることで，最大値と最小値の場所を得ることができます。  \n",
        "`mean`と同様に，行列を対象とする場合，引数にaxisを使用することで，計算する軸を指定できます。"
      ]
    },
    {
      "cell_type": "code",
      "metadata": {
        "id": "jauE_IBofcUW"
      },
      "source": [
        "# ベクトル\n",
        "vector_a = np.array([1.0, 2.0, 3.0])\n",
        "# 行列\n",
        "matrix_a = np.array([[1.0, 2.0, 3.0], [4.0, 5.0, 6.0]])\n",
        "\n",
        "# 最大と最小\n",
        "print(np.max(vector_a))\n",
        "print(np.max(matrix_a, axis=0)) # axisの使い方はmeanと同じ\n",
        "print(np.min(matrix_a, axis=1))\n",
        "print(np.min(matrix_a))\n",
        "\n",
        "# 最大と最小の場所\n",
        "print(np.argmax(vector_a))\n",
        "print(np.argmin(vector_b))\n",
        "print(np.argmax(matrix_a, axis=0))"
      ],
      "execution_count": null,
      "outputs": []
    },
    {
      "cell_type": "markdown",
      "metadata": {
        "id": "10puhkiwgFaF"
      },
      "source": [
        "ベクトルや行列の内積を計算するには，<font color=\"Red\"> **`dot`**</font>を使用します。"
      ]
    },
    {
      "cell_type": "code",
      "metadata": {
        "id": "8VcEasX9ctyO"
      },
      "source": [
        "# ベクトル\n",
        "vector_a = np.array([1.0, 2.0, 3.0])\n",
        "vector_b = np.array([4.0, 5.0, 6.0])\n",
        "# 行列\n",
        "matrix_a = np.array([[1.0, 2.0, 3.0], [4.0, 5.0, 6.0]])\n",
        "matrix_b = np.array([[7.0, 8.0], [9.0, 10.0], [11.0, 12.0]])\n",
        "\n",
        "# ベクトル同士の内積\n",
        "print(np.dot(vector_a, vector_b))\n",
        "\n",
        "# 行列同士の内積\n",
        "print(np.dot(matrix_a, matrix_b))\n",
        "\n",
        "# ベクトルと行列の内積\n",
        "print(np.dot(vector_a, matrix_b))"
      ],
      "execution_count": null,
      "outputs": []
    },
    {
      "cell_type": "markdown",
      "metadata": {
        "id": "Jf80miK-iJjH"
      },
      "source": [
        "## ステップ4: おわりに \n",
        "ここでは紹介しきれないほど，numpyには沢山の関数が用意されています。  \n",
        "ベクトルや行列の処理でやりたい処理があれば，とりあえずインターネットで\"numpy ○○\"と検索してみるといいでしょう。 "
      ]
    },
    {
      "cell_type": "code",
      "metadata": {
        "id": "2x7aTwhwgvrY"
      },
      "source": [
        ""
      ],
      "execution_count": null,
      "outputs": []
    }
  ]
}