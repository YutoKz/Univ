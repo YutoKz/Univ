{
  "nbformat": 4,
  "nbformat_minor": 0,
  "metadata": {
    "colab": {
      "name": "03_01_moving_average.ipynb",
      "provenance": [],
      "collapsed_sections": []
    },
    "kernelspec": {
      "name": "python3",
      "display_name": "Python 3"
    },
    "language_info": {
      "name": "python"
    }
  },
  "cells": [
    {
      "cell_type": "markdown",
      "metadata": {
        "id": "LwpNJumrNIjN"
      },
      "source": [
        "# 第3回 その1: 時系列データの可視化 (1)：移動平均と階差\n",
        "時系列データの可視化手法である，移動平均と階差を実際にプログラムにより動作確認してみましょう。  \n",
        "* 移動平均：時系列データの長期的な変動を可視化する。  \n",
        "* 階差：時系列データの短期的な変動を可視化する。  "
      ]
    },
    {
      "cell_type": "markdown",
      "metadata": {
        "id": "uAc77jSWOkl8"
      },
      "source": [
        "## ステップ0: Google Driveのマウントと作業フォルダへの移動  \n",
        "Google Drive に配置したデータを読み込むための準備です。  \n",
        "詳細については第二回の 02_01_graph.ipynb を参照してください。  \n",
        "\n",
        "ここでは\"マイドライブ/情報管理/03\"を作業フォルダとします。 "
      ]
    },
    {
      "cell_type": "code",
      "metadata": {
        "id": "3aC8AkgoOli-"
      },
      "source": [
        "from google.colab import drive\n",
        "drive.mount('/content/drive')\n",
        "# フォルダの移動には\"%cd\"を使用します。\n",
        "# 作業フォルダへ移動\n",
        "%cd /content/drive/'My Drive'/情報管理/03/\n",
        "# 現在のフォルダの中身を表示\n",
        "%ls"
      ],
      "execution_count": null,
      "outputs": []
    },
    {
      "cell_type": "markdown",
      "metadata": {
        "id": "3Iytnzy4NHlP"
      },
      "source": [
        "kishou.csv というデータが表示されていることを確認してください。"
      ]
    },
    {
      "cell_type": "markdown",
      "metadata": {
        "id": "zZbD01jyYLXs"
      },
      "source": [
        "## ステップ1: 移動平均\n",
        "気象データを読み込み，東京の気温データに対して移動平均を計算します。\n",
        "\n",
        "まずは必要ライブラリをインポートします。"
      ]
    },
    {
      "cell_type": "code",
      "metadata": {
        "id": "7oxKblF81vG0"
      },
      "source": [
        "import pandas as pd\n",
        "import numpy as np\n",
        "import matplotlib.pyplot as plt"
      ],
      "execution_count": null,
      "outputs": []
    },
    {
      "cell_type": "markdown",
      "metadata": {
        "id": "gu3LnYh0YSwD"
      },
      "source": [
        "`kishou.csv` を読み込み，東京の気温データを抽出してプロットします。  \n",
        "この処理は第二回の 02_01_graph.ipynb で解説していますので，分からない方は復習してください。"
      ]
    },
    {
      "cell_type": "code",
      "metadata": {
        "id": "k14h9cjEYRbf"
      },
      "source": [
        "# pandas の関数 read_csv を用いた csvファイル読み込み\n",
        "csv_data = pd.read_csv('kishou.csv', encoding='SHIFT-JIS')\n",
        "# 表示\n",
        "display(csv_data)\n",
        "\n",
        "# 東京の気温を numpy用データ(ndarray型) として抽出する。\n",
        "data_tokyo = csv_data.loc[:, '東京'].to_numpy()\n",
        "\n",
        "# 抽出したデータをプロット\n",
        "x = np.arange(np.size(data_tokyo))\n",
        "plt.figure(figsize=(10,5))\n",
        "plt.plot(x, data_tokyo, label='Original Data', color='b')\n",
        "plt.xlabel('Day')\n",
        "plt.ylabel('Temperature')\n",
        "plt.legend()\n",
        "plt.show()"
      ],
      "execution_count": null,
      "outputs": []
    },
    {
      "cell_type": "markdown",
      "metadata": {
        "id": "-R7ZcWg3aHwk"
      },
      "source": [
        "さて，抽出したデータ `data_tokyo` に対して移動平均を求めます。  \n",
        "ここでは各日に対して，前後15日のデータを用いて移動平均を求めています。  \n",
        "(つまり K = 2*15 + 1 = 31項移動平均)  "
      ]
    },
    {
      "cell_type": "code",
      "metadata": {
        "id": "Id3HQ7OCaiCz"
      },
      "source": [
        "# データの要素数 (=366)\n",
        "num_data = np.size(data_tokyo)\n",
        "# 移動平均の計算結果の格納先を作成しておく(ここでは zeros 関数を使って， data_tokyo と同じサイズのゼロベクトルを作成)\n",
        "moving_average = np.zeros(num_data)\n",
        "\n",
        "# 前後いくつのサンプルを用いて平均値を求めるか\n",
        "k = 15\n",
        "\n",
        "for n in range(num_data):\n",
        "  if n - k < 0:\n",
        "    # 0日目より前のデータは平均計算に使用しない\n",
        "    moving_average[n] = np.mean(data_tokyo[:n+k+1])\n",
        "  elif n + k >= num_data:\n",
        "    # データの最終日より後ろのデータは平均計算に使用しない\n",
        "    moving_average[n] = np.mean(data_tokyo[n-k:])\n",
        "  else:\n",
        "    moving_average[n] = np.mean(data_tokyo[n-k : n+k+1])"
      ],
      "execution_count": null,
      "outputs": []
    },
    {
      "cell_type": "markdown",
      "metadata": {
        "id": "fyFwfEaSa1ND"
      },
      "source": [
        "計算した移動平均をプロットします。  \n",
        "元のデータを青線で，移動平均を赤線で，重ねてプロットします。   \n",
        "（グラフのラベル(凡例)の表示方法については第二回の02_01_graph.ipynb を参照）"
      ]
    },
    {
      "cell_type": "code",
      "metadata": {
        "id": "CqGauGS4LqQ7"
      },
      "source": [
        "x = np.arange(np.size(data_tokyo))\n",
        "plt.figure(figsize=(10,5))\n",
        "plt.plot(x, data_tokyo, label='Original Data', color='b')\n",
        "plt.plot(x, moving_average, label='Moving Average', color='r')\n",
        "plt.xlabel('Day')\n",
        "plt.ylabel('Temperature')\n",
        "plt.legend()\n",
        "plt.show()"
      ],
      "execution_count": null,
      "outputs": []
    },
    {
      "cell_type": "markdown",
      "metadata": {
        "id": "KaEiNXhAPTLD"
      },
      "source": [
        "さて，移動平均のパラメータである k を色々な値に変えて，結果がどうなるか確認してみましょう。  \n",
        "パラメータを変えるたびに上記の移動平均の計算アルゴリズムを記述するのは面倒です。  \n",
        "そこで，移動平均計算部分を関数として定義しておきましょう。  \n",
        "関数の定義は  \n",
        "```\n",
        "def 関数名 (引数1, 引数2, ...):\n",
        "  処理\n",
        "  return 戻り値 (戻り値が無い場合のみ記述)\n",
        "```\n",
        "というように記述します。"
      ]
    },
    {
      "cell_type": "code",
      "metadata": {
        "id": "4PAKvby-PewL"
      },
      "source": [
        "# 移動平均を計算する関数\n",
        "def calc_moving_average(data, k):\n",
        "  '''\n",
        "     data: 移動平均を計算したいデータ\n",
        "     k: 移動平均の計算に前後何サンプルの値を使用するか\n",
        "  '''\n",
        "  # データの要素数\n",
        "  num_data = np.size(data)\n",
        "  # 移動平均の計算結果の格納先を作成しておく(ここでは zeros 関数を使って， data_tokyo と同じサイズのゼロベクトルを作成)\n",
        "  moving_average = np.zeros(num_data)\n",
        "  for n in range(num_data):\n",
        "    if n - k < 0:\n",
        "      # 0日目より前のデータは平均計算に使用しない\n",
        "      moving_average[n] = np.mean(data[:n+k+1])\n",
        "    elif n + k >= num_data:\n",
        "      # データの最終日より後ろのデータは平均計算に使用しない\n",
        "      moving_average[n] = np.mean(data[n-k:])\n",
        "    else:\n",
        "      moving_average[n] = np.mean(data[n-k : n+k+1])\n",
        "  \n",
        "  return moving_average"
      ],
      "execution_count": null,
      "outputs": []
    },
    {
      "cell_type": "markdown",
      "metadata": {
        "id": "YfE1nuZJ5DoD"
      },
      "source": [
        "（上のソースコードは，単に関数を定義しただけなので，実行しても何も出力されません。）\n",
        "\n",
        "上で定義した関数 `calc_moving_average` を用いて，  \n",
        "k を 1, 5, 15, 30 と変化させたときの移動平均をプロットしてみましょう。"
      ]
    },
    {
      "cell_type": "code",
      "metadata": {
        "id": "qlazJ1Fi4-ad"
      },
      "source": [
        "k_list = [1, 5, 15, 30]\n",
        "color_list = ['r', 'g', 'y', 'm']\n",
        "\n",
        "x = np.arange(np.size(data_tokyo))\n",
        "plt.figure(figsize=(10,5))\n",
        "# 元データのプロット\n",
        "plt.plot(x, data_tokyo, label='Original Data', color='b')\n",
        "# 4種類(k=1, 5, 15, 30)の移動平均を計算・プロット\n",
        "for i in range(4):\n",
        "  k = k_list[i]\n",
        "  color = color_list[i]\n",
        "  # 関数 calc_moving_average を使用して移動平均を計算\n",
        "  moving_average = calc_moving_average(data_tokyo, k)\n",
        "  # 移動平均のプロット\n",
        "  plt.plot(x, moving_average, label='Moving Average: k='+str(k), color=color)\n",
        "plt.xlabel('Day')\n",
        "plt.ylabel('Temperature')\n",
        "plt.legend()\n",
        "plt.show()\n"
      ],
      "execution_count": null,
      "outputs": []
    },
    {
      "cell_type": "markdown",
      "metadata": {
        "id": "mfJeQC0Y6tn_"
      },
      "source": [
        "kの値が大きくなるにつれて，計算された移動平均が滑らかになっているのが分かります。"
      ]
    },
    {
      "cell_type": "markdown",
      "metadata": {
        "id": "DkAcYfxqccnd"
      },
      "source": [
        "## ステップ2: 階差\n",
        "次に，階差を求めてみます。  \n",
        "階差を求める関数を以下に定義します。"
      ]
    },
    {
      "cell_type": "code",
      "metadata": {
        "id": "8sXqeF1ndkBt"
      },
      "source": [
        "# 階差を計算する関数\n",
        "def calc_difference(data):\n",
        "  '''\n",
        "     data: 階差を計算したいデータ\n",
        "  '''\n",
        "  # データの要素数\n",
        "  num_data = np.size(data)\n",
        "  # 階差の計算結果の格納先を作成\n",
        "  difference = np.zeros(num_data)\n",
        "  for n in range(num_data):\n",
        "    if n == 0:\n",
        "      # n = 0 のときは階差=0とする。\n",
        "      difference[n] = 0\n",
        "    else:\n",
        "      difference[n] = data[n] - data[n-1]\n",
        "  \n",
        "  return difference"
      ],
      "execution_count": null,
      "outputs": []
    },
    {
      "cell_type": "markdown",
      "metadata": {
        "id": "BUrm8n9Ed-1c"
      },
      "source": [
        "定義した関数 `calc_difference` を用いて東京気温の階差を計算し，プロットしてみます。"
      ]
    },
    {
      "cell_type": "code",
      "metadata": {
        "id": "FOzRY8A7d8xB"
      },
      "source": [
        "x = np.arange(np.size(data_tokyo))\n",
        "difference = calc_difference(data_tokyo)\n",
        "plt.figure(figsize=(10,5))\n",
        "plt.plot(x, difference, label='Difference', color='b')\n",
        "plt.xlabel('Day')\n",
        "plt.ylabel('Temperature difference')\n",
        "plt.legend()\n",
        "plt.show()"
      ],
      "execution_count": null,
      "outputs": []
    },
    {
      "cell_type": "markdown",
      "metadata": {
        "id": "YcL1xUjx_nyy"
      },
      "source": [
        "東京と那覇の階差を比較してみましょう。"
      ]
    },
    {
      "cell_type": "code",
      "metadata": {
        "id": "nbJlJbeu-xj6"
      },
      "source": [
        "x = np.arange(np.size(data_tokyo))\n",
        "plt.figure(figsize=(10,5))\n",
        "\n",
        "# 東京の階差を再度計算してプロット\n",
        "difference_tokyo = calc_difference(data_tokyo)\n",
        "plt.plot(x, difference_tokyo, label='Tokyo', color='b')\n",
        "\n",
        "# 那覇のデータを抽出\n",
        "data_naha = csv_data.loc[:, '那覇'].to_numpy()\n",
        "# 那覇の階差を計算してプロット\n",
        "difference_naha = calc_difference(data_naha)\n",
        "plt.plot(x, difference_naha, label='Naha', color='r')\n",
        "\n",
        "plt.xlabel('Day')\n",
        "plt.ylabel('Temperature difference')\n",
        "plt.legend()\n",
        "plt.show()"
      ],
      "execution_count": null,
      "outputs": []
    },
    {
      "cell_type": "markdown",
      "metadata": {
        "id": "rp0pJl5fjEMB"
      },
      "source": [
        "上の結果から，那覇は東京と比べて気温の変化が小さいことが分かりました。"
      ]
    }
  ]
}