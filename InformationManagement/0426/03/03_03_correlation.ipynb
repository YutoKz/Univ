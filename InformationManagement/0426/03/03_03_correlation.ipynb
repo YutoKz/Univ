{
  "nbformat": 4,
  "nbformat_minor": 0,
  "metadata": {
    "colab": {
      "name": "03_03_correlation.ipynb",
      "provenance": [],
      "collapsed_sections": []
    },
    "kernelspec": {
      "name": "python3",
      "display_name": "Python 3"
    },
    "language_info": {
      "name": "python"
    }
  },
  "cells": [
    {
      "cell_type": "markdown",
      "metadata": {
        "id": "LwpNJumrNIjN"
      },
      "source": [
        "# 第3回 その3: 相関係数と相互相関関数\n",
        " \n"
      ]
    },
    {
      "cell_type": "markdown",
      "metadata": {
        "id": "uAc77jSWOkl8"
      },
      "source": [
        "## ステップ0: Google Driveのマウントと作業フォルダへの移動  \n",
        "Google Drive に配置したデータを読み込むための準備です。  \n",
        "詳細については第二回の 02_01_graph.ipynb を参照してください。  \n",
        "\n",
        "ここでは\"マイドライブ/情報管理/03\"を作業フォルダとします。 "
      ]
    },
    {
      "cell_type": "code",
      "metadata": {
        "id": "3aC8AkgoOli-"
      },
      "source": [
        "from google.colab import drive\n",
        "drive.mount('/content/drive')\n",
        "# フォルダの移動には\"%cd\"を使用します。\n",
        "# 作業フォルダへ移動\n",
        "%cd /content/drive/'My Drive'/情報管理/03/\n",
        "# 現在のフォルダの中身を表示\n",
        "%ls"
      ],
      "execution_count": null,
      "outputs": []
    },
    {
      "cell_type": "markdown",
      "metadata": {
        "id": "3Iytnzy4NHlP"
      },
      "source": [
        "`icecream.csv` と`sun.csv`というデータが表示されていることを確認してください。"
      ]
    },
    {
      "cell_type": "markdown",
      "metadata": {
        "id": "zZbD01jyYLXs"
      },
      "source": [
        "## ステップ1: 相関係数\n",
        "まずは必要ライブラリをインポートします。"
      ]
    },
    {
      "cell_type": "code",
      "metadata": {
        "id": "7oxKblF81vG0"
      },
      "source": [
        "import pandas as pd\n",
        "import numpy as np\n",
        "import matplotlib.pyplot as plt"
      ],
      "execution_count": null,
      "outputs": []
    },
    {
      "cell_type": "markdown",
      "metadata": {
        "id": "gu3LnYh0YSwD"
      },
      "source": [
        "`icecream.csv` を読み込み，データをプロットします。  \n",
        "このデータは，2017年から2019年までの，東京の月別平均気温と，一世帯あたりのアイスクリームの平均支出金額を記録したデータです。  \n",
        "(出典：気象庁HPおよび政府統計の総合窓口e-stat)"
      ]
    },
    {
      "cell_type": "code",
      "metadata": {
        "id": "k14h9cjEYRbf"
      },
      "source": [
        "# pandas の関数 read_csv を用いた csvファイル読み込み\n",
        "csv_data = pd.read_csv('icecream.csv', encoding='SHIFT-JIS')\n",
        "# データの前半部(.headで取得できる)のみ表示\n",
        "display(csv_data.head())\n",
        "\n",
        "# numpy用データ(ndarray型) として抽出する。\n",
        "kion = csv_data.loc[:, '平均気温(℃)'].to_numpy()\n",
        "ice = csv_data.loc[:, 'アイス支出額(円)'].to_numpy()\n",
        "\n",
        "# 抽出したデータをプロット\n",
        "plt.figure(figsize=(10,8))\n",
        "x = np.arange(np.size(kion))\n",
        "# 2分割した上段に気温をプロット\n",
        "plt.subplot(2,1,1)\n",
        "plt.plot(x, kion, color='b')\n",
        "plt.xlabel('Month')\n",
        "plt.ylabel('Temperature [degree]')\n",
        "# 下段にアイス支出額をプロット\n",
        "plt.subplot(2,1,2)\n",
        "plt.plot(x, ice, color='b')\n",
        "plt.xlabel('Month')\n",
        "plt.ylabel('Expending for icecream [yen]')\n",
        "plt.show()\n",
        "\n",
        "# また，横軸を気温，縦軸をアイス支出額として散布図をプロット\n",
        "plt.figure(figsize=(5,5))\n",
        "plt.scatter(kion, ice, color='b')\n",
        "plt.xlabel('Temperature [degree]')\n",
        "plt.ylabel('Expending for icecream [yen]')\n",
        "plt.show()"
      ],
      "execution_count": null,
      "outputs": []
    },
    {
      "cell_type": "markdown",
      "metadata": {
        "id": "-R7ZcWg3aHwk"
      },
      "source": [
        "上の図から，気温とアイスクリームの支出額（売上）には強い関係があることが分かります。  \n",
        "これら2変数の相関係数を計算してみましょう。  \n",
        "相関係数を求める関数を以下に定義します。"
      ]
    },
    {
      "cell_type": "code",
      "metadata": {
        "id": "Id3HQ7OCaiCz"
      },
      "source": [
        "# 相関係数を求める関数\n",
        "def calc_corr_coef(x, y):\n",
        "  '''\n",
        "      x, y: 相関を求めたいデータ\n",
        "  '''\n",
        "  mu_x = np.mean(x)\n",
        "  mu_y = np.mean(y)\n",
        "  std_x = np.std(x)\n",
        "  std_y = np.std(y)\n",
        "\n",
        "  corr_coef = np.mean((x - mu_x) * (y - mu_y)) / (std_x * std_y)\n",
        "\n",
        "  return corr_coef"
      ],
      "execution_count": null,
      "outputs": []
    },
    {
      "cell_type": "markdown",
      "metadata": {
        "id": "JmOPwa4BnBlZ"
      },
      "source": [
        "定義した `calc_correlation` 関数を用いて，気温とアイスクリーム支出額の相関係数を求めます。"
      ]
    },
    {
      "cell_type": "code",
      "metadata": {
        "id": "92AkHWuUlMUI"
      },
      "source": [
        "corr_coef = calc_corr_coef(kion, ice)\n",
        "\n",
        "print('correlation coefficent = %f' % (corr_coef))"
      ],
      "execution_count": null,
      "outputs": []
    },
    {
      "cell_type": "markdown",
      "metadata": {
        "id": "jVlGoD-MnZFk"
      },
      "source": [
        "相関係数が 1 に近いことから，これら二つの変数には強い相関があることが分かります。\n",
        "\n",
        "ちなみに，相関係数を求める関数は numpy や pandas にも用意されています。"
      ]
    },
    {
      "cell_type": "code",
      "metadata": {
        "id": "sEVRyAXKllPM"
      },
      "source": [
        "print(np.corrcoef(kion, ice))\n",
        "print(csv_data.corr())"
      ],
      "execution_count": null,
      "outputs": []
    },
    {
      "cell_type": "markdown",
      "metadata": {
        "id": "SCV2sFUYnik0"
      },
      "source": [
        "## ステップ2: 相互相関関数\n",
        "\n",
        "`sun.csv` を読み込み，データをプロットします。  \n",
        "このデータは，3日間の時間毎の気温と太陽高度を示したデータです。  "
      ]
    },
    {
      "cell_type": "code",
      "metadata": {
        "id": "nQTxJ-20oq-C"
      },
      "source": [
        "# pandas の関数 read_csv を用いた csvファイル読み込み\n",
        "csv_data = pd.read_csv('sun.csv', encoding='SHIFT-JIS')\n",
        "# データの前半部(.headで取得できる)のみ表示\n",
        "display(csv_data.head())\n",
        "\n",
        "# numpy用データ(ndarray型) として抽出する。\n",
        "kion = csv_data.loc[:, '気温(℃)'].to_numpy()\n",
        "sun = csv_data.loc[:, '太陽高度(degree)'].to_numpy()\n",
        "\n",
        "# 抽出したデータをプロット\n",
        "plt.figure(figsize=(10,8))\n",
        "x = np.arange(np.size(kion))\n",
        "# 2分割した上段に気温をプロット\n",
        "plt.subplot(2,1,1)\n",
        "plt.plot(x, kion, color='b')\n",
        "plt.xlabel('Time [hour]')\n",
        "plt.ylabel('Temperature [degree]')\n",
        "# 下段に太陽高度をプロット\n",
        "plt.subplot(2,1,2)\n",
        "plt.plot(x, sun, color='b')\n",
        "plt.xlabel('Time [hour]')\n",
        "plt.ylabel('Solar altitude [degree]')\n",
        "plt.show()"
      ],
      "execution_count": null,
      "outputs": []
    },
    {
      "cell_type": "markdown",
      "metadata": {
        "id": "gfb6dwqho20Y"
      },
      "source": [
        "気温と太陽高度も，似た変化をしていることから，高い相関があることが覗えます。  \n",
        "しかし，よく見ると太陽高度が最高値を取る時間と，気温が最高値を取る時間には少しずれがあるようにも見えます。  \n",
        "\n",
        "実際に「時間ずれ」があるのか，あった場合は何時間ずれているのか，相互相関関数を使って計算してみましょう。\n",
        "\n",
        "相互相関関数を求める関数を以下に定義します。  "
      ]
    },
    {
      "cell_type": "code",
      "metadata": {
        "id": "A-b_QBCn8-O-"
      },
      "source": [
        "# 相互相関関数を求める関数\n",
        "def calc_cross_corr(x, y):\n",
        "  '''\n",
        "      x, y: 相互相関関数を計算するデータ\n",
        "  '''\n",
        "  num_samples = np.size(y)\n",
        "  cross_corr = np.zeros(num_samples)\n",
        "\n",
        "  for m in range(num_samples):\n",
        "    # データy を nサンプル分，前へずらす（前へずらした分，後ろにはゼロが入る）\n",
        "    shifted_y = np.zeros(num_samples)\n",
        "    shifted_y[:num_samples-m] = y[m:]\n",
        "    # ずらしたデータと内積を計算\n",
        "    cross_corr[m] = np.dot(x, shifted_y)\n",
        "  return cross_corr"
      ],
      "execution_count": null,
      "outputs": []
    },
    {
      "cell_type": "markdown",
      "metadata": {
        "id": "V7V0lnOfDicV"
      },
      "source": [
        "定義した `calc_cross_corr`関数を用いて，太陽高度と気温のずれを調べます。  \n",
        "ここでは，表示上見やすくするために，事前に太陽高度と気温の各データを平均0, 分散1になるように正規化処理しておきます。  "
      ]
    },
    {
      "cell_type": "code",
      "metadata": {
        "id": "FH3SJRf6-5EY"
      },
      "source": [
        "# 各データから平均値を引き，さらに標準偏差で割ると，平均0，分散1のデータになる（正規化処理）\n",
        "sun_norm = (sun - np.mean(sun)) / np.std(sun)\n",
        "kion_norm = (kion - np.mean(kion)) / np.std(kion)\n",
        "\n",
        "# 相互相関関数を計算する。\n",
        "corr = calc_cross_corr(sun_norm, kion_norm)\n",
        "# さらに表示の都合上，corrをサンプル数で割る\n",
        "corr_norm = corr / np.size(sun)"
      ],
      "execution_count": null,
      "outputs": []
    },
    {
      "cell_type": "markdown",
      "metadata": {
        "id": "Y-wsx2uwFxVv"
      },
      "source": [
        "上記のような正規化処理を行うことで，相互相関関数の値が -1～1 の範囲に収まり，相関係数と同じように考えることができるようになります。\n",
        "\n",
        "では計算した相互相関関数をプロットするとともに，最大値を取る時間を表示します。"
      ]
    },
    {
      "cell_type": "code",
      "metadata": {
        "id": "FPijspb-4xmZ"
      },
      "source": [
        "# (正規化)相互相関関数をプロット\n",
        "plt.figure(figsize=(10,5))\n",
        "x = np.arange(np.size(kion))\n",
        "plt.plot(x, corr_norm, color='b')\n",
        "plt.xlabel('Time [hour]')\n",
        "plt.ylabel('Normalized Cross Correlation')\n",
        "plt.show()\n",
        " \n",
        "# 相互相関関数が最大となる時間を得る\n",
        "max_index = np.argmax(corr_norm)\n",
        "print('argmax of corr_norm = %d (hours)' % (max_index))\n",
        "print('max of corr_norm = %f' % (np.max(corr_norm)))"
      ],
      "execution_count": null,
      "outputs": []
    },
    {
      "cell_type": "markdown",
      "metadata": {
        "id": "PcYrr0NdGpnu"
      },
      "source": [
        "上の結果から，相互相関関数は 時間=2 のときに最大値を取ることが分かりました。  \n",
        "つまり，太陽高度と気温には約 2 時間のずれがあり，そのずれを補正すると 0.8 程度の相関係数が得られることが分かります。  \n",
        "実際，太陽は12時に登り切りますが，太陽によって地面が温められ，地面の熱によって気温が上昇するため，最高気温に達するまでには2時間程度の遅延が生じると言われています。  \n",
        "\n",
        "ちなみに，相互相関関数は14時間のあたりで -0.6程度の逆相関を示しています。  \n",
        "これは，太陽高度のデータと気温のデータを14時間（2時間のずれ+半日分）ずらすと，真逆の関係になるためです。  \n",
        "\n",
        "さらに，26時間，50時間の辺りでも相互相関関数にピークがあります。  \n",
        "これは，2時間のずれ+1日，2日ずらすと，また似たようなデータ同士になるためです。  \n",
        "言い換えると，太陽高度と気温は24時間周期で似たような値を取るということです。"
      ]
    },
    {
      "cell_type": "code",
      "metadata": {
        "id": "67ikekZqJRye"
      },
      "source": [
        ""
      ],
      "execution_count": null,
      "outputs": []
    }
  ]
}