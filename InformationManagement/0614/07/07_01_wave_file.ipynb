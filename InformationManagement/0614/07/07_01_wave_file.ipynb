{
  "nbformat": 4,
  "nbformat_minor": 0,
  "metadata": {
    "colab": {
      "name": "07_01_wave_file.ipynb",
      "provenance": [],
      "collapsed_sections": []
    },
    "kernelspec": {
      "name": "python3",
      "display_name": "Python 3"
    },
    "language_info": {
      "name": "python"
    }
  },
  "cells": [
    {
      "cell_type": "markdown",
      "metadata": {
        "id": "gbqkmaY9RA-z"
      },
      "source": [
        "# 第7回 その1: 音声データの入出力\n",
        "今回はデータ処理の応用として音声データを扱います。  \n",
        "ここでは python を使った音声データの入出力について簡単に紹介します。\n"
      ]
    },
    {
      "cell_type": "markdown",
      "source": [
        "## ステップ0: Google Driveのマウントと作業フォルダへの移動  \n",
        "Google Drive に配置したデータを読み込むための準備です。  \n",
        "詳細については第二回の 02_01_graph.ipynb を参照してください。  \n",
        "\n",
        "ここでは\"マイドライブ/情報管理/07\"を作業フォルダとします。 "
      ],
      "metadata": {
        "id": "U1Pj2rcbB4Jh"
      }
    },
    {
      "cell_type": "code",
      "source": [
        "from google.colab import drive\n",
        "drive.mount('/content/drive')\n",
        "# フォルダの移動には\"%cd\"を使用します。\n",
        "# 作業フォルダへ移動\n",
        "%cd /content/drive/'My Drive'/情報管理/07/\n",
        "# 現在のフォルダの中身を表示\n",
        "%ls"
      ],
      "metadata": {
        "id": "He0jeP7VB-Qo"
      },
      "execution_count": null,
      "outputs": []
    },
    {
      "cell_type": "markdown",
      "source": [
        "`input.wav`というデータが表示されていることを確認してください。"
      ],
      "metadata": {
        "id": "cQkYRZgwCG5J"
      }
    },
    {
      "cell_type": "markdown",
      "metadata": {
        "id": "F1DmeW6oRs8r"
      },
      "source": [
        "## ステップ1: 音声データの読み込み\n",
        "音声ファイルには様々な形式（mp3やwavなど）がありますが，ここでは<font color='red'>**wavファイル**</font>を扱います。  \n",
        "pythonで wavファイルの入出力を行うライブラリとして，<font color='red'>**wave**</font>があります。  \n",
        "以下で，waveライブラリをインポートします。また，お馴染みのnumpyとmatplotlibもインポートします。"
      ]
    },
    {
      "cell_type": "code",
      "metadata": {
        "id": "E4b4cfHPRXML"
      },
      "source": [
        "import wave as wave # ちなみにこの行はas以降を省略して import wave だけでも良い。\n",
        "import numpy as np\n",
        "import matplotlib.pyplot as plt"
      ],
      "execution_count": null,
      "outputs": []
    },
    {
      "cell_type": "markdown",
      "metadata": {
        "id": "wF6-hyJ2Sdau"
      },
      "source": [
        "waveライブラリを使って`input.wav`以下のコードによって開きます。"
      ]
    },
    {
      "cell_type": "code",
      "metadata": {
        "id": "UkibCXvsRv-8"
      },
      "source": [
        "wav_file = 'input.wav'\n",
        "with wave.open(wav_file, 'rb') as wav:\n",
        "  # サンプリング周波数 [Hz] を取得\n",
        "  sampling_frequency = wav.getframerate()\n",
        "  # その他の情報（ファイルサイズ等，書き込み時に必要）を取得\n",
        "  wav_params = wav.getparams()\n",
        "  # wavデータを読み込む\n",
        "  waveform = wav.readframes(wav.getnframes())\n",
        "  # 読み込んだデータはバイナリ値(16bit short型)なので，numpy array型の数値ベクトル(32bit float型)に変換する\n",
        "  waveform = np.frombuffer(waveform, dtype=np.int16).astype(np.float32)"
      ],
      "execution_count": null,
      "outputs": []
    },
    {
      "cell_type": "markdown",
      "metadata": {
        "id": "0RmuM3aYnanP"
      },
      "source": [
        "上記の`sampling_frequency`は<font color='red'>**サンプリング周波数 [Hz]**</font>と呼び，１秒間に含まれるデータの数を表します。  \n",
        "サンプリング周波数を表示させてみます。"
      ]
    },
    {
      "cell_type": "code",
      "source": [
        "print('sampling frequency :' + str(sampling_frequency) + ' [Hz]')"
      ],
      "metadata": {
        "id": "2Zr_2yDtNzFb"
      },
      "execution_count": null,
      "outputs": []
    },
    {
      "cell_type": "markdown",
      "source": [
        "8000 [Hz] と表示されました。  \n",
        "つまり，この音声は１秒間に8000個の音声波形のデータが格納されているということです。  \n",
        "言い換えると，1/8000秒間隔で音声波形を記録しているということです。"
      ],
      "metadata": {
        "id": "4Cx7MegxN8FW"
      }
    },
    {
      "cell_type": "markdown",
      "source": [
        "この音声波形をプロットします。"
      ],
      "metadata": {
        "id": "6iPLZFNPOZVc"
      }
    },
    {
      "cell_type": "code",
      "source": [
        "# データをプロット\n",
        "plt.figure(figsize=(10,5))\n",
        "x = np.arange(np.size(waveform)) # 横軸データ\n",
        "plt.plot(x, waveform)\n",
        "plt.show()"
      ],
      "metadata": {
        "id": "3j_cKrByDfh5"
      },
      "execution_count": null,
      "outputs": []
    },
    {
      "cell_type": "markdown",
      "source": [
        "このwavファイルは16bit short型で記録されているので，縦軸の取り得る値の範囲は-32768～32767です（$2^{16} = 65536$）。    \n",
        "横軸は１目盛につき1/8000秒で表現されています。  \n",
        "この状態だと見にくいので，横軸を秒に換算して表示させます。  \n",
        "これは上のソースコードの`x`をサンプリング周波数(8000)で割っておけば出来ます。  "
      ],
      "metadata": {
        "id": "PDAQ-NxhOr3h"
      }
    },
    {
      "cell_type": "code",
      "source": [
        "# データをプロット\n",
        "plt.figure(figsize=(10,5))\n",
        "x = np.arange(np.size(waveform)) / sampling_frequency # 横軸データ\n",
        "plt.plot(x, waveform)\n",
        "plt.xlabel('Time [second]')\n",
        "plt.ylabel('Amplitude')\n",
        "plt.show()"
      ],
      "metadata": {
        "id": "tldeI8SdP9-u"
      },
      "execution_count": null,
      "outputs": []
    },
    {
      "cell_type": "markdown",
      "source": [
        "## ステップ2: 音声データの書き込み  \n",
        "読み込んだ音声データを逆順に並び替えてみましょう。  \n",
        "ベクトルデータの逆順への並び替えは，numpyの<font color='red'>flip関数</font>を使います。  "
      ],
      "metadata": {
        "id": "6t7sfIoDEDiI"
      }
    },
    {
      "cell_type": "code",
      "metadata": {
        "id": "RBozvGsXm0S3"
      },
      "source": [
        "# waveform を逆順に並び替える\n",
        "waveform_rev = np.flip(waveform)\n",
        "\n",
        "# データをプロット\n",
        "plt.figure(figsize=(10,8))\n",
        "plt.subplot(2, 1, 1)\n",
        "plt.plot(x, waveform, label='waveform')\n",
        "plt.xlabel('Time [second]')\n",
        "plt.ylabel('Amplitude')\n",
        "plt.legend()\n",
        "plt.subplot(2, 1, 2)\n",
        "plt.plot(x, waveform_rev, label='waveform_rev')\n",
        "plt.xlabel('Time [second]')\n",
        "plt.ylabel('Amplitude')\n",
        "plt.legend()\n",
        "plt.show()"
      ],
      "execution_count": null,
      "outputs": []
    },
    {
      "cell_type": "markdown",
      "source": [
        "作成した`waveform_rev`を`output.wav`というファイル名で書き込みます。  \n",
        "書き込みは以下のソースコードのように行います。  "
      ],
      "metadata": {
        "id": "dGGd9LIjEoaB"
      }
    },
    {
      "cell_type": "code",
      "source": [
        "out_file = 'output.wav'\n",
        "with wave.open(out_file, 'wb') as out:\n",
        "  # 音声データの情報（wav_params）をセット\n",
        "  out.setparams(wav_params)\n",
        "  # numpy array型(32bit float)のデータをバイナリデータ（16bit short）に変換\n",
        "  out_binary_data = waveform_rev.astype(np.int16).tobytes()\n",
        "  # データを書き込む\n",
        "  out.writeframes(out_binary_data)"
      ],
      "metadata": {
        "id": "dVgPsOtYMC7e"
      },
      "execution_count": null,
      "outputs": []
    },
    {
      "cell_type": "markdown",
      "source": [
        "## ステップ3: Notebook上への音声ファイルの貼り付け  \n",
        "以下のようにすることで，音声ファイルをNotebook上で聞くことも出来ます。"
      ],
      "metadata": {
        "id": "EsTbYtSLUzpO"
      }
    },
    {
      "cell_type": "code",
      "metadata": {
        "id": "PkdO-S8SuDPX"
      },
      "source": [
        "import IPython.display\n",
        "print('input.wav')\n",
        "IPython.display.display(IPython.display.Audio('input.wav'))\n",
        "print('output.wav')\n",
        "IPython.display.display(IPython.display.Audio('output.wav'))"
      ],
      "execution_count": null,
      "outputs": []
    },
    {
      "cell_type": "markdown",
      "source": [
        "音声ファイルを沢山貼り付けすぎると，`convert_report.ipynb`でHTMLファイルに変換した際に音声ファイルが消える可能性があります。  \n",
        "（HTMLファイルに変換できるipynbファイルの容量に限りがあるためです。）  \n",
        "<font color='red'>レポート課題で音声ファイルを貼り付けた際は，convert_report.ipynbで作成されたHTMLファイルを必ず確認してから提出してください。</font>  \n",
        "音声ファイルの貼り付け関連でトラブルがあった場合はご連絡ください。  \n",
        "（htmlと分けて音声ファイルを提出するなどの指示をします。）"
      ],
      "metadata": {
        "id": "7lH0mC5aVmvd"
      }
    },
    {
      "cell_type": "code",
      "source": [
        ""
      ],
      "metadata": {
        "id": "vQnPZR1DUeYA"
      },
      "execution_count": null,
      "outputs": []
    }
  ]
}